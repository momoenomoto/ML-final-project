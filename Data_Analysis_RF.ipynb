{
  "cells": [
    {
      "cell_type": "markdown",
      "metadata": {
        "id": "view-in-github",
        "colab_type": "text"
      },
      "source": [
        "<a href=\"https://colab.research.google.com/github/momoenomoto/ML-final-project/blob/main/Data_Analysis_RF.ipynb\" target=\"_parent\"><img src=\"https://colab.research.google.com/assets/colab-badge.svg\" alt=\"Open In Colab\"/></a>"
      ]
    },
    {
      "cell_type": "code",
      "execution_count": 2,
      "id": "3e9f9df4",
      "metadata": {
        "id": "3e9f9df4"
      },
      "outputs": [],
      "source": [
        "import pandas as pd\n",
        "import numpy as np\n",
        "from sklearn.model_selection import train_test_split\n",
        "from sklearn.ensemble import RandomForestClassifier\n",
        "from sklearn.tree import DecisionTreeClassifier\n",
        "from sklearn.model_selection import GridSearchCV\n",
        "from sklearn.metrics import roc_auc_score\n",
        "from sklearn.metrics import accuracy_score, confusion_matrix, classification_report"
      ]
    },
    {
      "cell_type": "code",
      "source": [
        "from google.colab import drive\n",
        "drive.mount('/content/gdrive')"
      ],
      "metadata": {
        "colab": {
          "base_uri": "https://localhost:8080/"
        },
        "id": "dHUfNgLFkhLf",
        "outputId": "d55e9bd7-fe8b-4638-f020-e09e47751fba"
      },
      "id": "dHUfNgLFkhLf",
      "execution_count": 3,
      "outputs": [
        {
          "output_type": "stream",
          "name": "stdout",
          "text": [
            "Mounted at /content/gdrive\n"
          ]
        }
      ]
    },
    {
      "cell_type": "code",
      "execution_count": 4,
      "id": "b3454c1b",
      "metadata": {
        "id": "b3454c1b"
      },
      "outputs": [],
      "source": [
        "data = pd.read_csv(\"/content/gdrive/MyDrive/all_data_no_duplicates_equal_size.csv\")"
      ]
    },
    {
      "cell_type": "code",
      "execution_count": 24,
      "id": "f07eed9c",
      "metadata": {
        "colab": {
          "base_uri": "https://localhost:8080/",
          "height": 392
        },
        "id": "f07eed9c",
        "outputId": "d4aafbb2-197a-4164-de82-b36b560b6bb4"
      },
      "outputs": [
        {
          "output_type": "execute_result",
          "data": {
            "text/plain": [
              "                                    song_id   mfcc_a_0   mfcc_a_1   mfcc_a_2  \\\n",
              "0  17bf8d5f74d4e53a3f918263da27600ba0e555b5 -131.34530  154.44778 -46.625813   \n",
              "1  80822cc306bcf4d6ce727ed9b185382183590feb -216.48515  159.88239 -53.843456   \n",
              "2  fe86aae90064f43dd3c9ccc2271fd3570ea8d530  -97.64007  137.78816 -43.407673   \n",
              "3  8a36fef7cc58e415b09f472062d529ad75f6888a -218.33733  139.85650 -46.182710   \n",
              "4  6a90012a2f47eb44abcaf1641683f86425713e40 -137.82199  145.93646 -52.225964   \n",
              "5  427f1bf0d0b14f5dcd3edbb3561e24493b8e338d -136.25974  172.59949 -38.454110   \n",
              "6  be043e8f0faaea0d4cfa36b14172b6b30a57c398 -186.63614  175.44250 -38.024853   \n",
              "7  1c09c4a26866ef28e507aa280cd51a719b035ea6 -151.80618  175.59180 -25.405882   \n",
              "8  13655dd5eb8caad647021ca74417f71db23b7780 -105.62864  198.75179 -61.418823   \n",
              "9  4cfb55a2ddbd24a5538f21588a85fa5727025aa7 -244.07864  176.26709 -59.649230   \n",
              "\n",
              "    mfcc_a_3   mfcc_a_4   mfcc_a_5   mfcc_a_6   mfcc_a_7   mfcc_a_8  ...  \\\n",
              "0  55.491830  -2.969374  28.455832 -11.929317   9.539672   4.456010  ...   \n",
              "1  41.647510   4.802261   6.194261  -0.619864   1.253317   5.258920  ...   \n",
              "2  57.867115 -17.740084  48.168274 -20.405445  14.013074 -11.915717  ...   \n",
              "3  29.928583  -5.652246  26.629574  -6.704617  15.074043   0.800906  ...   \n",
              "4  44.550194  -5.257767  24.834461  -7.554444  12.882658   4.022466  ...   \n",
              "5  51.471230  -9.210611  23.187613  -2.800377   9.361017  -1.316823  ...   \n",
              "6  33.556710  10.110077  12.562787   9.992175   7.003207  16.348728  ...   \n",
              "7  32.177900   5.982085  24.986546  -1.543303   9.279480   4.102045  ...   \n",
              "8  29.890055   2.061370   6.838061  -3.562858   1.008359   4.786649  ...   \n",
              "9  23.343456  -6.413820  11.967070 -11.608889  -1.186092   3.141831  ...   \n",
              "\n",
              "    onset_a  onset_std         bpm  rmseP_skew  rmseP_kurtosis  rmseH_skew  \\\n",
              "0  1.541892   1.521225  132.512019    1.070878        1.396955    0.741772   \n",
              "1  1.589639   1.765213  117.453835    1.569087        2.719492    0.010281   \n",
              "2  1.332900   0.778537  123.046875    1.270062        1.725401    0.076682   \n",
              "3  1.527841   1.310864  132.512019    1.251199        1.432018    1.522334   \n",
              "4  1.525155   1.458287   89.102909    2.108472        5.425519    0.541542   \n",
              "5  1.421514   1.143405  139.674831    1.663935        4.127868    0.467440   \n",
              "6  1.434051   1.844193  109.956782    1.622965        2.501570    0.238919   \n",
              "7  1.474009   1.294586  126.048018    1.425889        2.202716    0.897709   \n",
              "8  1.468327   1.506442  117.453835    1.209135        1.543631   -0.525107   \n",
              "9  1.540191   1.977420  117.453835    1.481484        2.041936   -0.350467   \n",
              "\n",
              "   rmseH_kurtosis    beats_a  beats_std  genre  \n",
              "0        1.111939  14.542479   8.524608  blues  \n",
              "1       -0.229946  14.460827   8.436646  blues  \n",
              "2       -0.120848  14.568310   8.531551  blues  \n",
              "3        2.031958  14.527072   8.542730  blues  \n",
              "4        1.362728  14.487932   8.556227  blues  \n",
              "5        0.326743  14.549489   8.532701  blues  \n",
              "6       -0.085705  14.816340   8.183992  blues  \n",
              "7        0.864059  14.473772   8.554240  blues  \n",
              "8        0.437820  14.434257   8.462482  blues  \n",
              "9       -0.632589  14.507312   8.356724  blues  \n",
              "\n",
              "[10 rows x 81 columns]"
            ],
            "text/html": [
              "\n",
              "  <div id=\"df-d83a7481-caba-4008-a572-78723b9608a4\">\n",
              "    <div class=\"colab-df-container\">\n",
              "      <div>\n",
              "<style scoped>\n",
              "    .dataframe tbody tr th:only-of-type {\n",
              "        vertical-align: middle;\n",
              "    }\n",
              "\n",
              "    .dataframe tbody tr th {\n",
              "        vertical-align: top;\n",
              "    }\n",
              "\n",
              "    .dataframe thead th {\n",
              "        text-align: right;\n",
              "    }\n",
              "</style>\n",
              "<table border=\"1\" class=\"dataframe\">\n",
              "  <thead>\n",
              "    <tr style=\"text-align: right;\">\n",
              "      <th></th>\n",
              "      <th>song_id</th>\n",
              "      <th>mfcc_a_0</th>\n",
              "      <th>mfcc_a_1</th>\n",
              "      <th>mfcc_a_2</th>\n",
              "      <th>mfcc_a_3</th>\n",
              "      <th>mfcc_a_4</th>\n",
              "      <th>mfcc_a_5</th>\n",
              "      <th>mfcc_a_6</th>\n",
              "      <th>mfcc_a_7</th>\n",
              "      <th>mfcc_a_8</th>\n",
              "      <th>...</th>\n",
              "      <th>onset_a</th>\n",
              "      <th>onset_std</th>\n",
              "      <th>bpm</th>\n",
              "      <th>rmseP_skew</th>\n",
              "      <th>rmseP_kurtosis</th>\n",
              "      <th>rmseH_skew</th>\n",
              "      <th>rmseH_kurtosis</th>\n",
              "      <th>beats_a</th>\n",
              "      <th>beats_std</th>\n",
              "      <th>genre</th>\n",
              "    </tr>\n",
              "  </thead>\n",
              "  <tbody>\n",
              "    <tr>\n",
              "      <th>0</th>\n",
              "      <td>17bf8d5f74d4e53a3f918263da27600ba0e555b5</td>\n",
              "      <td>-131.34530</td>\n",
              "      <td>154.44778</td>\n",
              "      <td>-46.625813</td>\n",
              "      <td>55.491830</td>\n",
              "      <td>-2.969374</td>\n",
              "      <td>28.455832</td>\n",
              "      <td>-11.929317</td>\n",
              "      <td>9.539672</td>\n",
              "      <td>4.456010</td>\n",
              "      <td>...</td>\n",
              "      <td>1.541892</td>\n",
              "      <td>1.521225</td>\n",
              "      <td>132.512019</td>\n",
              "      <td>1.070878</td>\n",
              "      <td>1.396955</td>\n",
              "      <td>0.741772</td>\n",
              "      <td>1.111939</td>\n",
              "      <td>14.542479</td>\n",
              "      <td>8.524608</td>\n",
              "      <td>blues</td>\n",
              "    </tr>\n",
              "    <tr>\n",
              "      <th>1</th>\n",
              "      <td>80822cc306bcf4d6ce727ed9b185382183590feb</td>\n",
              "      <td>-216.48515</td>\n",
              "      <td>159.88239</td>\n",
              "      <td>-53.843456</td>\n",
              "      <td>41.647510</td>\n",
              "      <td>4.802261</td>\n",
              "      <td>6.194261</td>\n",
              "      <td>-0.619864</td>\n",
              "      <td>1.253317</td>\n",
              "      <td>5.258920</td>\n",
              "      <td>...</td>\n",
              "      <td>1.589639</td>\n",
              "      <td>1.765213</td>\n",
              "      <td>117.453835</td>\n",
              "      <td>1.569087</td>\n",
              "      <td>2.719492</td>\n",
              "      <td>0.010281</td>\n",
              "      <td>-0.229946</td>\n",
              "      <td>14.460827</td>\n",
              "      <td>8.436646</td>\n",
              "      <td>blues</td>\n",
              "    </tr>\n",
              "    <tr>\n",
              "      <th>2</th>\n",
              "      <td>fe86aae90064f43dd3c9ccc2271fd3570ea8d530</td>\n",
              "      <td>-97.64007</td>\n",
              "      <td>137.78816</td>\n",
              "      <td>-43.407673</td>\n",
              "      <td>57.867115</td>\n",
              "      <td>-17.740084</td>\n",
              "      <td>48.168274</td>\n",
              "      <td>-20.405445</td>\n",
              "      <td>14.013074</td>\n",
              "      <td>-11.915717</td>\n",
              "      <td>...</td>\n",
              "      <td>1.332900</td>\n",
              "      <td>0.778537</td>\n",
              "      <td>123.046875</td>\n",
              "      <td>1.270062</td>\n",
              "      <td>1.725401</td>\n",
              "      <td>0.076682</td>\n",
              "      <td>-0.120848</td>\n",
              "      <td>14.568310</td>\n",
              "      <td>8.531551</td>\n",
              "      <td>blues</td>\n",
              "    </tr>\n",
              "    <tr>\n",
              "      <th>3</th>\n",
              "      <td>8a36fef7cc58e415b09f472062d529ad75f6888a</td>\n",
              "      <td>-218.33733</td>\n",
              "      <td>139.85650</td>\n",
              "      <td>-46.182710</td>\n",
              "      <td>29.928583</td>\n",
              "      <td>-5.652246</td>\n",
              "      <td>26.629574</td>\n",
              "      <td>-6.704617</td>\n",
              "      <td>15.074043</td>\n",
              "      <td>0.800906</td>\n",
              "      <td>...</td>\n",
              "      <td>1.527841</td>\n",
              "      <td>1.310864</td>\n",
              "      <td>132.512019</td>\n",
              "      <td>1.251199</td>\n",
              "      <td>1.432018</td>\n",
              "      <td>1.522334</td>\n",
              "      <td>2.031958</td>\n",
              "      <td>14.527072</td>\n",
              "      <td>8.542730</td>\n",
              "      <td>blues</td>\n",
              "    </tr>\n",
              "    <tr>\n",
              "      <th>4</th>\n",
              "      <td>6a90012a2f47eb44abcaf1641683f86425713e40</td>\n",
              "      <td>-137.82199</td>\n",
              "      <td>145.93646</td>\n",
              "      <td>-52.225964</td>\n",
              "      <td>44.550194</td>\n",
              "      <td>-5.257767</td>\n",
              "      <td>24.834461</td>\n",
              "      <td>-7.554444</td>\n",
              "      <td>12.882658</td>\n",
              "      <td>4.022466</td>\n",
              "      <td>...</td>\n",
              "      <td>1.525155</td>\n",
              "      <td>1.458287</td>\n",
              "      <td>89.102909</td>\n",
              "      <td>2.108472</td>\n",
              "      <td>5.425519</td>\n",
              "      <td>0.541542</td>\n",
              "      <td>1.362728</td>\n",
              "      <td>14.487932</td>\n",
              "      <td>8.556227</td>\n",
              "      <td>blues</td>\n",
              "    </tr>\n",
              "    <tr>\n",
              "      <th>5</th>\n",
              "      <td>427f1bf0d0b14f5dcd3edbb3561e24493b8e338d</td>\n",
              "      <td>-136.25974</td>\n",
              "      <td>172.59949</td>\n",
              "      <td>-38.454110</td>\n",
              "      <td>51.471230</td>\n",
              "      <td>-9.210611</td>\n",
              "      <td>23.187613</td>\n",
              "      <td>-2.800377</td>\n",
              "      <td>9.361017</td>\n",
              "      <td>-1.316823</td>\n",
              "      <td>...</td>\n",
              "      <td>1.421514</td>\n",
              "      <td>1.143405</td>\n",
              "      <td>139.674831</td>\n",
              "      <td>1.663935</td>\n",
              "      <td>4.127868</td>\n",
              "      <td>0.467440</td>\n",
              "      <td>0.326743</td>\n",
              "      <td>14.549489</td>\n",
              "      <td>8.532701</td>\n",
              "      <td>blues</td>\n",
              "    </tr>\n",
              "    <tr>\n",
              "      <th>6</th>\n",
              "      <td>be043e8f0faaea0d4cfa36b14172b6b30a57c398</td>\n",
              "      <td>-186.63614</td>\n",
              "      <td>175.44250</td>\n",
              "      <td>-38.024853</td>\n",
              "      <td>33.556710</td>\n",
              "      <td>10.110077</td>\n",
              "      <td>12.562787</td>\n",
              "      <td>9.992175</td>\n",
              "      <td>7.003207</td>\n",
              "      <td>16.348728</td>\n",
              "      <td>...</td>\n",
              "      <td>1.434051</td>\n",
              "      <td>1.844193</td>\n",
              "      <td>109.956782</td>\n",
              "      <td>1.622965</td>\n",
              "      <td>2.501570</td>\n",
              "      <td>0.238919</td>\n",
              "      <td>-0.085705</td>\n",
              "      <td>14.816340</td>\n",
              "      <td>8.183992</td>\n",
              "      <td>blues</td>\n",
              "    </tr>\n",
              "    <tr>\n",
              "      <th>7</th>\n",
              "      <td>1c09c4a26866ef28e507aa280cd51a719b035ea6</td>\n",
              "      <td>-151.80618</td>\n",
              "      <td>175.59180</td>\n",
              "      <td>-25.405882</td>\n",
              "      <td>32.177900</td>\n",
              "      <td>5.982085</td>\n",
              "      <td>24.986546</td>\n",
              "      <td>-1.543303</td>\n",
              "      <td>9.279480</td>\n",
              "      <td>4.102045</td>\n",
              "      <td>...</td>\n",
              "      <td>1.474009</td>\n",
              "      <td>1.294586</td>\n",
              "      <td>126.048018</td>\n",
              "      <td>1.425889</td>\n",
              "      <td>2.202716</td>\n",
              "      <td>0.897709</td>\n",
              "      <td>0.864059</td>\n",
              "      <td>14.473772</td>\n",
              "      <td>8.554240</td>\n",
              "      <td>blues</td>\n",
              "    </tr>\n",
              "    <tr>\n",
              "      <th>8</th>\n",
              "      <td>13655dd5eb8caad647021ca74417f71db23b7780</td>\n",
              "      <td>-105.62864</td>\n",
              "      <td>198.75179</td>\n",
              "      <td>-61.418823</td>\n",
              "      <td>29.890055</td>\n",
              "      <td>2.061370</td>\n",
              "      <td>6.838061</td>\n",
              "      <td>-3.562858</td>\n",
              "      <td>1.008359</td>\n",
              "      <td>4.786649</td>\n",
              "      <td>...</td>\n",
              "      <td>1.468327</td>\n",
              "      <td>1.506442</td>\n",
              "      <td>117.453835</td>\n",
              "      <td>1.209135</td>\n",
              "      <td>1.543631</td>\n",
              "      <td>-0.525107</td>\n",
              "      <td>0.437820</td>\n",
              "      <td>14.434257</td>\n",
              "      <td>8.462482</td>\n",
              "      <td>blues</td>\n",
              "    </tr>\n",
              "    <tr>\n",
              "      <th>9</th>\n",
              "      <td>4cfb55a2ddbd24a5538f21588a85fa5727025aa7</td>\n",
              "      <td>-244.07864</td>\n",
              "      <td>176.26709</td>\n",
              "      <td>-59.649230</td>\n",
              "      <td>23.343456</td>\n",
              "      <td>-6.413820</td>\n",
              "      <td>11.967070</td>\n",
              "      <td>-11.608889</td>\n",
              "      <td>-1.186092</td>\n",
              "      <td>3.141831</td>\n",
              "      <td>...</td>\n",
              "      <td>1.540191</td>\n",
              "      <td>1.977420</td>\n",
              "      <td>117.453835</td>\n",
              "      <td>1.481484</td>\n",
              "      <td>2.041936</td>\n",
              "      <td>-0.350467</td>\n",
              "      <td>-0.632589</td>\n",
              "      <td>14.507312</td>\n",
              "      <td>8.356724</td>\n",
              "      <td>blues</td>\n",
              "    </tr>\n",
              "  </tbody>\n",
              "</table>\n",
              "<p>10 rows × 81 columns</p>\n",
              "</div>\n",
              "      <button class=\"colab-df-convert\" onclick=\"convertToInteractive('df-d83a7481-caba-4008-a572-78723b9608a4')\"\n",
              "              title=\"Convert this dataframe to an interactive table.\"\n",
              "              style=\"display:none;\">\n",
              "        \n",
              "  <svg xmlns=\"http://www.w3.org/2000/svg\" height=\"24px\"viewBox=\"0 0 24 24\"\n",
              "       width=\"24px\">\n",
              "    <path d=\"M0 0h24v24H0V0z\" fill=\"none\"/>\n",
              "    <path d=\"M18.56 5.44l.94 2.06.94-2.06 2.06-.94-2.06-.94-.94-2.06-.94 2.06-2.06.94zm-11 1L8.5 8.5l.94-2.06 2.06-.94-2.06-.94L8.5 2.5l-.94 2.06-2.06.94zm10 10l.94 2.06.94-2.06 2.06-.94-2.06-.94-.94-2.06-.94 2.06-2.06.94z\"/><path d=\"M17.41 7.96l-1.37-1.37c-.4-.4-.92-.59-1.43-.59-.52 0-1.04.2-1.43.59L10.3 9.45l-7.72 7.72c-.78.78-.78 2.05 0 2.83L4 21.41c.39.39.9.59 1.41.59.51 0 1.02-.2 1.41-.59l7.78-7.78 2.81-2.81c.8-.78.8-2.07 0-2.86zM5.41 20L4 18.59l7.72-7.72 1.47 1.35L5.41 20z\"/>\n",
              "  </svg>\n",
              "      </button>\n",
              "      \n",
              "  <style>\n",
              "    .colab-df-container {\n",
              "      display:flex;\n",
              "      flex-wrap:wrap;\n",
              "      gap: 12px;\n",
              "    }\n",
              "\n",
              "    .colab-df-convert {\n",
              "      background-color: #E8F0FE;\n",
              "      border: none;\n",
              "      border-radius: 50%;\n",
              "      cursor: pointer;\n",
              "      display: none;\n",
              "      fill: #1967D2;\n",
              "      height: 32px;\n",
              "      padding: 0 0 0 0;\n",
              "      width: 32px;\n",
              "    }\n",
              "\n",
              "    .colab-df-convert:hover {\n",
              "      background-color: #E2EBFA;\n",
              "      box-shadow: 0px 1px 2px rgba(60, 64, 67, 0.3), 0px 1px 3px 1px rgba(60, 64, 67, 0.15);\n",
              "      fill: #174EA6;\n",
              "    }\n",
              "\n",
              "    [theme=dark] .colab-df-convert {\n",
              "      background-color: #3B4455;\n",
              "      fill: #D2E3FC;\n",
              "    }\n",
              "\n",
              "    [theme=dark] .colab-df-convert:hover {\n",
              "      background-color: #434B5C;\n",
              "      box-shadow: 0px 1px 3px 1px rgba(0, 0, 0, 0.15);\n",
              "      filter: drop-shadow(0px 1px 2px rgba(0, 0, 0, 0.3));\n",
              "      fill: #FFFFFF;\n",
              "    }\n",
              "  </style>\n",
              "\n",
              "      <script>\n",
              "        const buttonEl =\n",
              "          document.querySelector('#df-d83a7481-caba-4008-a572-78723b9608a4 button.colab-df-convert');\n",
              "        buttonEl.style.display =\n",
              "          google.colab.kernel.accessAllowed ? 'block' : 'none';\n",
              "\n",
              "        async function convertToInteractive(key) {\n",
              "          const element = document.querySelector('#df-d83a7481-caba-4008-a572-78723b9608a4');\n",
              "          const dataTable =\n",
              "            await google.colab.kernel.invokeFunction('convertToInteractive',\n",
              "                                                     [key], {});\n",
              "          if (!dataTable) return;\n",
              "\n",
              "          const docLinkHtml = 'Like what you see? Visit the ' +\n",
              "            '<a target=\"_blank\" href=https://colab.research.google.com/notebooks/data_table.ipynb>data table notebook</a>'\n",
              "            + ' to learn more about interactive tables.';\n",
              "          element.innerHTML = '';\n",
              "          dataTable['output_type'] = 'display_data';\n",
              "          await google.colab.output.renderOutput(dataTable, element);\n",
              "          const docLink = document.createElement('div');\n",
              "          docLink.innerHTML = docLinkHtml;\n",
              "          element.appendChild(docLink);\n",
              "        }\n",
              "      </script>\n",
              "    </div>\n",
              "  </div>\n",
              "  "
            ]
          },
          "metadata": {},
          "execution_count": 24
        }
      ],
      "source": [
        "data.head(10)"
      ]
    },
    {
      "cell_type": "code",
      "execution_count": null,
      "id": "1b5948e6",
      "metadata": {
        "scrolled": true,
        "id": "1b5948e6",
        "outputId": "cd42d98d-1416-4ef5-dbf8-ae6ad7411583",
        "colab": {
          "base_uri": "https://localhost:8080/"
        }
      },
      "outputs": [
        {
          "output_type": "stream",
          "name": "stdout",
          "text": [
            "<class 'pandas.core.frame.DataFrame'>\n",
            "RangeIndex: 880 entries, 0 to 879\n",
            "Data columns (total 81 columns):\n",
            " #   Column          Non-Null Count  Dtype  \n",
            "---  ------          --------------  -----  \n",
            " 0   song_id         880 non-null    object \n",
            " 1   mfcc_a_0        880 non-null    float64\n",
            " 2   mfcc_a_1        880 non-null    float64\n",
            " 3   mfcc_a_2        880 non-null    float64\n",
            " 4   mfcc_a_3        880 non-null    float64\n",
            " 5   mfcc_a_4        880 non-null    float64\n",
            " 6   mfcc_a_5        880 non-null    float64\n",
            " 7   mfcc_a_6        880 non-null    float64\n",
            " 8   mfcc_a_7        880 non-null    float64\n",
            " 9   mfcc_a_8        880 non-null    float64\n",
            " 10  mfcc_a_9        880 non-null    float64\n",
            " 11  mfcc_a_10       880 non-null    float64\n",
            " 12  mfcc_a_11       880 non-null    float64\n",
            " 13  mfcc_a_12       880 non-null    float64\n",
            " 14  mfcc_std_0      880 non-null    float64\n",
            " 15  mfcc_std_1      880 non-null    float64\n",
            " 16  mfcc_std_2      880 non-null    float64\n",
            " 17  mfcc_std_3      880 non-null    float64\n",
            " 18  mfcc_std_4      880 non-null    float64\n",
            " 19  mfcc_std_5      880 non-null    float64\n",
            " 20  mfcc_std_6      880 non-null    float64\n",
            " 21  mfcc_std_7      880 non-null    float64\n",
            " 22  mfcc_std_8      880 non-null    float64\n",
            " 23  mfcc_std_9      880 non-null    float64\n",
            " 24  mfcc_std_10     880 non-null    float64\n",
            " 25  mfcc_std_11     880 non-null    float64\n",
            " 26  mfcc_std_12     880 non-null    float64\n",
            " 27  chroma_a_0      880 non-null    float64\n",
            " 28  chroma_a_1      880 non-null    float64\n",
            " 29  chroma_a_2      880 non-null    float64\n",
            " 30  chroma_a_3      880 non-null    float64\n",
            " 31  chroma_a_4      880 non-null    float64\n",
            " 32  chroma_a_5      880 non-null    float64\n",
            " 33  chroma_a_6      880 non-null    float64\n",
            " 34  chroma_a_7      880 non-null    float64\n",
            " 35  chroma_a_8      880 non-null    float64\n",
            " 36  chroma_a_9      880 non-null    float64\n",
            " 37  chroma_a_10     880 non-null    float64\n",
            " 38  chroma_a_11     880 non-null    float64\n",
            " 39  chroma_std_0    880 non-null    float64\n",
            " 40  chroma_std_1    880 non-null    float64\n",
            " 41  chroma_std_2    880 non-null    float64\n",
            " 42  chroma_std_3    880 non-null    float64\n",
            " 43  chroma_std_4    880 non-null    float64\n",
            " 44  chroma_std_5    880 non-null    float64\n",
            " 45  chroma_std_6    880 non-null    float64\n",
            " 46  chroma_std_7    880 non-null    float64\n",
            " 47  chroma_std_8    880 non-null    float64\n",
            " 48  chroma_std_9    880 non-null    float64\n",
            " 49  chroma_std_10   880 non-null    float64\n",
            " 50  chroma_std_11   880 non-null    float64\n",
            " 51  rolloff_a       880 non-null    float64\n",
            " 52  rolloff_std     880 non-null    float64\n",
            " 53  melspect_a      880 non-null    float64\n",
            " 54  melspect_std    880 non-null    float64\n",
            " 55  rmseP_a         880 non-null    float64\n",
            " 56  rmseP_std       880 non-null    float64\n",
            " 57  rmseH_a         880 non-null    float64\n",
            " 58  rmseH_std       880 non-null    float64\n",
            " 59  centroid_a      880 non-null    float64\n",
            " 60  centroid_std    880 non-null    float64\n",
            " 61  bw_a            880 non-null    float64\n",
            " 62  bw_std          880 non-null    float64\n",
            " 63  contrast_a      880 non-null    float64\n",
            " 64  contrast_std    880 non-null    float64\n",
            " 65  polyfeat_a      880 non-null    float64\n",
            " 66  polyfeat_std    880 non-null    float64\n",
            " 67  tonnetz_a       880 non-null    float64\n",
            " 68  tonnetz_std     880 non-null    float64\n",
            " 69  zcr_a           880 non-null    float64\n",
            " 70  zcr_std         880 non-null    float64\n",
            " 71  onset_a         880 non-null    float64\n",
            " 72  onset_std       880 non-null    float64\n",
            " 73  bpm             880 non-null    float64\n",
            " 74  rmseP_skew      880 non-null    float64\n",
            " 75  rmseP_kurtosis  880 non-null    float64\n",
            " 76  rmseH_skew      880 non-null    float64\n",
            " 77  rmseH_kurtosis  880 non-null    float64\n",
            " 78  beats_a         880 non-null    float64\n",
            " 79  beats_std       880 non-null    float64\n",
            " 80  genre           880 non-null    object \n",
            "dtypes: float64(79), object(2)\n",
            "memory usage: 557.0+ KB\n"
          ]
        }
      ],
      "source": [
        "data.info()"
      ]
    },
    {
      "cell_type": "code",
      "source": [
        "from sklearn import preprocessing\n",
        "le = preprocessing.LabelEncoder()\n",
        "data[\"genre\"] = le.fit_transform(data[\"genre\"])\n",
        "data.head()"
      ],
      "metadata": {
        "colab": {
          "base_uri": "https://localhost:8080/",
          "height": 235
        },
        "id": "vbKr2t16LiRj",
        "outputId": "1a132454-9f16-45f3-fa16-e3e33fadcb7f"
      },
      "id": "vbKr2t16LiRj",
      "execution_count": null,
      "outputs": [
        {
          "output_type": "execute_result",
          "data": {
            "text/plain": [
              "                                    song_id   mfcc_a_0   mfcc_a_1   mfcc_a_2  \\\n",
              "0  17bf8d5f74d4e53a3f918263da27600ba0e555b5 -131.34530  154.44778 -46.625813   \n",
              "1  80822cc306bcf4d6ce727ed9b185382183590feb -216.48515  159.88239 -53.843456   \n",
              "2  fe86aae90064f43dd3c9ccc2271fd3570ea8d530  -97.64007  137.78816 -43.407673   \n",
              "3  8a36fef7cc58e415b09f472062d529ad75f6888a -218.33733  139.85650 -46.182710   \n",
              "4  6a90012a2f47eb44abcaf1641683f86425713e40 -137.82199  145.93646 -52.225964   \n",
              "\n",
              "    mfcc_a_3   mfcc_a_4   mfcc_a_5   mfcc_a_6   mfcc_a_7   mfcc_a_8  ...  \\\n",
              "0  55.491830  -2.969374  28.455832 -11.929317   9.539672   4.456010  ...   \n",
              "1  41.647510   4.802261   6.194261  -0.619864   1.253317   5.258920  ...   \n",
              "2  57.867115 -17.740084  48.168274 -20.405445  14.013074 -11.915717  ...   \n",
              "3  29.928583  -5.652246  26.629574  -6.704617  15.074043   0.800906  ...   \n",
              "4  44.550194  -5.257767  24.834461  -7.554444  12.882658   4.022466  ...   \n",
              "\n",
              "    onset_a  onset_std         bpm  rmseP_skew  rmseP_kurtosis  rmseH_skew  \\\n",
              "0  1.541892   1.521225  132.512019    1.070878        1.396955    0.741772   \n",
              "1  1.589639   1.765213  117.453835    1.569087        2.719492    0.010281   \n",
              "2  1.332900   0.778537  123.046875    1.270062        1.725401    0.076682   \n",
              "3  1.527841   1.310864  132.512019    1.251199        1.432018    1.522334   \n",
              "4  1.525155   1.458287   89.102909    2.108472        5.425519    0.541542   \n",
              "\n",
              "   rmseH_kurtosis    beats_a  beats_std  genre  \n",
              "0        1.111939  14.542479   8.524608      0  \n",
              "1       -0.229946  14.460827   8.436646      0  \n",
              "2       -0.120848  14.568310   8.531551      0  \n",
              "3        2.031958  14.527072   8.542730      0  \n",
              "4        1.362728  14.487932   8.556227      0  \n",
              "\n",
              "[5 rows x 81 columns]"
            ],
            "text/html": [
              "\n",
              "  <div id=\"df-a00fea12-de47-4e7a-a495-b6fa4e051948\">\n",
              "    <div class=\"colab-df-container\">\n",
              "      <div>\n",
              "<style scoped>\n",
              "    .dataframe tbody tr th:only-of-type {\n",
              "        vertical-align: middle;\n",
              "    }\n",
              "\n",
              "    .dataframe tbody tr th {\n",
              "        vertical-align: top;\n",
              "    }\n",
              "\n",
              "    .dataframe thead th {\n",
              "        text-align: right;\n",
              "    }\n",
              "</style>\n",
              "<table border=\"1\" class=\"dataframe\">\n",
              "  <thead>\n",
              "    <tr style=\"text-align: right;\">\n",
              "      <th></th>\n",
              "      <th>song_id</th>\n",
              "      <th>mfcc_a_0</th>\n",
              "      <th>mfcc_a_1</th>\n",
              "      <th>mfcc_a_2</th>\n",
              "      <th>mfcc_a_3</th>\n",
              "      <th>mfcc_a_4</th>\n",
              "      <th>mfcc_a_5</th>\n",
              "      <th>mfcc_a_6</th>\n",
              "      <th>mfcc_a_7</th>\n",
              "      <th>mfcc_a_8</th>\n",
              "      <th>...</th>\n",
              "      <th>onset_a</th>\n",
              "      <th>onset_std</th>\n",
              "      <th>bpm</th>\n",
              "      <th>rmseP_skew</th>\n",
              "      <th>rmseP_kurtosis</th>\n",
              "      <th>rmseH_skew</th>\n",
              "      <th>rmseH_kurtosis</th>\n",
              "      <th>beats_a</th>\n",
              "      <th>beats_std</th>\n",
              "      <th>genre</th>\n",
              "    </tr>\n",
              "  </thead>\n",
              "  <tbody>\n",
              "    <tr>\n",
              "      <th>0</th>\n",
              "      <td>17bf8d5f74d4e53a3f918263da27600ba0e555b5</td>\n",
              "      <td>-131.34530</td>\n",
              "      <td>154.44778</td>\n",
              "      <td>-46.625813</td>\n",
              "      <td>55.491830</td>\n",
              "      <td>-2.969374</td>\n",
              "      <td>28.455832</td>\n",
              "      <td>-11.929317</td>\n",
              "      <td>9.539672</td>\n",
              "      <td>4.456010</td>\n",
              "      <td>...</td>\n",
              "      <td>1.541892</td>\n",
              "      <td>1.521225</td>\n",
              "      <td>132.512019</td>\n",
              "      <td>1.070878</td>\n",
              "      <td>1.396955</td>\n",
              "      <td>0.741772</td>\n",
              "      <td>1.111939</td>\n",
              "      <td>14.542479</td>\n",
              "      <td>8.524608</td>\n",
              "      <td>0</td>\n",
              "    </tr>\n",
              "    <tr>\n",
              "      <th>1</th>\n",
              "      <td>80822cc306bcf4d6ce727ed9b185382183590feb</td>\n",
              "      <td>-216.48515</td>\n",
              "      <td>159.88239</td>\n",
              "      <td>-53.843456</td>\n",
              "      <td>41.647510</td>\n",
              "      <td>4.802261</td>\n",
              "      <td>6.194261</td>\n",
              "      <td>-0.619864</td>\n",
              "      <td>1.253317</td>\n",
              "      <td>5.258920</td>\n",
              "      <td>...</td>\n",
              "      <td>1.589639</td>\n",
              "      <td>1.765213</td>\n",
              "      <td>117.453835</td>\n",
              "      <td>1.569087</td>\n",
              "      <td>2.719492</td>\n",
              "      <td>0.010281</td>\n",
              "      <td>-0.229946</td>\n",
              "      <td>14.460827</td>\n",
              "      <td>8.436646</td>\n",
              "      <td>0</td>\n",
              "    </tr>\n",
              "    <tr>\n",
              "      <th>2</th>\n",
              "      <td>fe86aae90064f43dd3c9ccc2271fd3570ea8d530</td>\n",
              "      <td>-97.64007</td>\n",
              "      <td>137.78816</td>\n",
              "      <td>-43.407673</td>\n",
              "      <td>57.867115</td>\n",
              "      <td>-17.740084</td>\n",
              "      <td>48.168274</td>\n",
              "      <td>-20.405445</td>\n",
              "      <td>14.013074</td>\n",
              "      <td>-11.915717</td>\n",
              "      <td>...</td>\n",
              "      <td>1.332900</td>\n",
              "      <td>0.778537</td>\n",
              "      <td>123.046875</td>\n",
              "      <td>1.270062</td>\n",
              "      <td>1.725401</td>\n",
              "      <td>0.076682</td>\n",
              "      <td>-0.120848</td>\n",
              "      <td>14.568310</td>\n",
              "      <td>8.531551</td>\n",
              "      <td>0</td>\n",
              "    </tr>\n",
              "    <tr>\n",
              "      <th>3</th>\n",
              "      <td>8a36fef7cc58e415b09f472062d529ad75f6888a</td>\n",
              "      <td>-218.33733</td>\n",
              "      <td>139.85650</td>\n",
              "      <td>-46.182710</td>\n",
              "      <td>29.928583</td>\n",
              "      <td>-5.652246</td>\n",
              "      <td>26.629574</td>\n",
              "      <td>-6.704617</td>\n",
              "      <td>15.074043</td>\n",
              "      <td>0.800906</td>\n",
              "      <td>...</td>\n",
              "      <td>1.527841</td>\n",
              "      <td>1.310864</td>\n",
              "      <td>132.512019</td>\n",
              "      <td>1.251199</td>\n",
              "      <td>1.432018</td>\n",
              "      <td>1.522334</td>\n",
              "      <td>2.031958</td>\n",
              "      <td>14.527072</td>\n",
              "      <td>8.542730</td>\n",
              "      <td>0</td>\n",
              "    </tr>\n",
              "    <tr>\n",
              "      <th>4</th>\n",
              "      <td>6a90012a2f47eb44abcaf1641683f86425713e40</td>\n",
              "      <td>-137.82199</td>\n",
              "      <td>145.93646</td>\n",
              "      <td>-52.225964</td>\n",
              "      <td>44.550194</td>\n",
              "      <td>-5.257767</td>\n",
              "      <td>24.834461</td>\n",
              "      <td>-7.554444</td>\n",
              "      <td>12.882658</td>\n",
              "      <td>4.022466</td>\n",
              "      <td>...</td>\n",
              "      <td>1.525155</td>\n",
              "      <td>1.458287</td>\n",
              "      <td>89.102909</td>\n",
              "      <td>2.108472</td>\n",
              "      <td>5.425519</td>\n",
              "      <td>0.541542</td>\n",
              "      <td>1.362728</td>\n",
              "      <td>14.487932</td>\n",
              "      <td>8.556227</td>\n",
              "      <td>0</td>\n",
              "    </tr>\n",
              "  </tbody>\n",
              "</table>\n",
              "<p>5 rows × 81 columns</p>\n",
              "</div>\n",
              "      <button class=\"colab-df-convert\" onclick=\"convertToInteractive('df-a00fea12-de47-4e7a-a495-b6fa4e051948')\"\n",
              "              title=\"Convert this dataframe to an interactive table.\"\n",
              "              style=\"display:none;\">\n",
              "        \n",
              "  <svg xmlns=\"http://www.w3.org/2000/svg\" height=\"24px\"viewBox=\"0 0 24 24\"\n",
              "       width=\"24px\">\n",
              "    <path d=\"M0 0h24v24H0V0z\" fill=\"none\"/>\n",
              "    <path d=\"M18.56 5.44l.94 2.06.94-2.06 2.06-.94-2.06-.94-.94-2.06-.94 2.06-2.06.94zm-11 1L8.5 8.5l.94-2.06 2.06-.94-2.06-.94L8.5 2.5l-.94 2.06-2.06.94zm10 10l.94 2.06.94-2.06 2.06-.94-2.06-.94-.94-2.06-.94 2.06-2.06.94z\"/><path d=\"M17.41 7.96l-1.37-1.37c-.4-.4-.92-.59-1.43-.59-.52 0-1.04.2-1.43.59L10.3 9.45l-7.72 7.72c-.78.78-.78 2.05 0 2.83L4 21.41c.39.39.9.59 1.41.59.51 0 1.02-.2 1.41-.59l7.78-7.78 2.81-2.81c.8-.78.8-2.07 0-2.86zM5.41 20L4 18.59l7.72-7.72 1.47 1.35L5.41 20z\"/>\n",
              "  </svg>\n",
              "      </button>\n",
              "      \n",
              "  <style>\n",
              "    .colab-df-container {\n",
              "      display:flex;\n",
              "      flex-wrap:wrap;\n",
              "      gap: 12px;\n",
              "    }\n",
              "\n",
              "    .colab-df-convert {\n",
              "      background-color: #E8F0FE;\n",
              "      border: none;\n",
              "      border-radius: 50%;\n",
              "      cursor: pointer;\n",
              "      display: none;\n",
              "      fill: #1967D2;\n",
              "      height: 32px;\n",
              "      padding: 0 0 0 0;\n",
              "      width: 32px;\n",
              "    }\n",
              "\n",
              "    .colab-df-convert:hover {\n",
              "      background-color: #E2EBFA;\n",
              "      box-shadow: 0px 1px 2px rgba(60, 64, 67, 0.3), 0px 1px 3px 1px rgba(60, 64, 67, 0.15);\n",
              "      fill: #174EA6;\n",
              "    }\n",
              "\n",
              "    [theme=dark] .colab-df-convert {\n",
              "      background-color: #3B4455;\n",
              "      fill: #D2E3FC;\n",
              "    }\n",
              "\n",
              "    [theme=dark] .colab-df-convert:hover {\n",
              "      background-color: #434B5C;\n",
              "      box-shadow: 0px 1px 3px 1px rgba(0, 0, 0, 0.15);\n",
              "      filter: drop-shadow(0px 1px 2px rgba(0, 0, 0, 0.3));\n",
              "      fill: #FFFFFF;\n",
              "    }\n",
              "  </style>\n",
              "\n",
              "      <script>\n",
              "        const buttonEl =\n",
              "          document.querySelector('#df-a00fea12-de47-4e7a-a495-b6fa4e051948 button.colab-df-convert');\n",
              "        buttonEl.style.display =\n",
              "          google.colab.kernel.accessAllowed ? 'block' : 'none';\n",
              "\n",
              "        async function convertToInteractive(key) {\n",
              "          const element = document.querySelector('#df-a00fea12-de47-4e7a-a495-b6fa4e051948');\n",
              "          const dataTable =\n",
              "            await google.colab.kernel.invokeFunction('convertToInteractive',\n",
              "                                                     [key], {});\n",
              "          if (!dataTable) return;\n",
              "\n",
              "          const docLinkHtml = 'Like what you see? Visit the ' +\n",
              "            '<a target=\"_blank\" href=https://colab.research.google.com/notebooks/data_table.ipynb>data table notebook</a>'\n",
              "            + ' to learn more about interactive tables.';\n",
              "          element.innerHTML = '';\n",
              "          dataTable['output_type'] = 'display_data';\n",
              "          await google.colab.output.renderOutput(dataTable, element);\n",
              "          const docLink = document.createElement('div');\n",
              "          docLink.innerHTML = docLinkHtml;\n",
              "          element.appendChild(docLink);\n",
              "        }\n",
              "      </script>\n",
              "    </div>\n",
              "  </div>\n",
              "  "
            ]
          },
          "metadata": {},
          "execution_count": 12
        }
      ]
    },
    {
      "cell_type": "code",
      "execution_count": 5,
      "id": "e7dd04d7",
      "metadata": {
        "id": "e7dd04d7"
      },
      "outputs": [],
      "source": [
        "X = data.iloc[:,1:80]"
      ]
    },
    {
      "cell_type": "code",
      "execution_count": 6,
      "id": "f6f25b78",
      "metadata": {
        "id": "f6f25b78"
      },
      "outputs": [],
      "source": [
        "y = data.iloc[:,80]"
      ]
    },
    {
      "cell_type": "code",
      "execution_count": 8,
      "id": "8228d499",
      "metadata": {
        "id": "8228d499"
      },
      "outputs": [],
      "source": [
        "X_train, X_test, y_train, y_test = train_test_split(X, y, test_size=0.4, random_state=42)"
      ]
    },
    {
      "cell_type": "markdown",
      "source": [
        "criterion{“gini”, “entropy”, “log_loss”}, default=”gini”\n",
        "The function to measure the quality of a split. Supported criteria are “gini” for the Gini impurity and “log_loss” and “entropy” both for the Shannon information gain, see Mathematical formulation.\n",
        "\n",
        "splitter{“best”, “random”}, default=”best”\n",
        "The strategy used to choose the split at each node. Supported strategies are “best” to choose the best split and “random” to choose the best random split.\n",
        "\n",
        "max_depthint, default=None\n",
        "The maximum depth of the tree. If None, then nodes are expanded until all leaves are pure or until all leaves contain less than min_samples_split samples.\n",
        "\n",
        "min_samples_split：int or float, default=2\n",
        "The minimum number of samples required to split an internal node\n",
        "\n",
        "min_samples_leafint or float, default=1\n",
        "The minimum number of samples required to be at a leaf node. A split point at any depth will only be considered if it leaves at least min_samples_leaf training samples in each of the left and right branches. This may have the effect of smoothing the model, especially in regression\n",
        "\n",
        "min_weight_fraction_leaffloat, default=0.0\n",
        "The minimum weighted fraction of the sum total of weights (of all the input samples) required to be at a leaf node. Samples have equal weight when sample_weight is not provided.\n",
        "\n",
        "max_featuresint, float or {“auto”, “sqrt”, “log2”}, default=None\n",
        "The number of features to consider when looking for the best split:\n",
        "\n",
        "If int, then consider max_features features at each split.\n",
        "If float, then max_features is a fraction and max(1, int(max_features * n_features_in_)) features are considered at each split.\n",
        "If “auto”, then max_features=sqrt(n_features).\n",
        "If “sqrt”, then max_features=sqrt(n_features).\n",
        "If “log2”, then max_features=log2(n_features).\n",
        "If None, then max_features=n_features.\n",
        "\n",
        "random_stateint, RandomState instance or None, default=None\n",
        "Controls the randomness of the estimator. The features are always randomly permuted at each split, even if splitter is set to \"best\". When max_features < n_features, the algorithm will select max_features at random at each split before finding the best split among them. But the best found split may vary across different runs, even if max_features=n_features. That is the case, if the improvement of the criterion is identical for several splits and one split has to be selected at random. To obtain a deterministic behaviour during fitting, random_state has to be fixed to an integer. See Glossary for details.\n",
        "\n",
        "max_leaf_nodesint, default=None\n",
        "Grow a tree with max_leaf_nodes in best-first fashion. Best nodes are defined as relative reduction in impurity. If None then unlimited number of leaf nodes.\n",
        "\n",
        "min_impurity_decreasefloat, default=0.0\n",
        "A node will be split if this split induces a decrease of the impurity greater than or equal to this value.\n",
        "\n",
        "class_weightdict, list of dict or “balanced”, default=None\n",
        "Weights associated with classes in the form {class_label: weight}. If None, all classes are supposed to have weight one. For multi-output problems, a list of dicts can be provided in the same order as the columns of y.\n",
        "\n",
        "ccp_alphanon-negative float, default=0.0\n",
        "Complexity parameter used for Minimal Cost-Complexity Pruning. The subtree with the largest cost complexity that is smaller than ccp_alpha will be chosen. By default, no pruning is performed. See Minimal Cost-Complexity Pruning for details."
      ],
      "metadata": {
        "id": "A1NnzysHXjJr"
      },
      "id": "A1NnzysHXjJr"
    },
    {
      "cell_type": "markdown",
      "source": [
        "Decision Tree Classifier (Hyperparameter Tuning)"
      ],
      "metadata": {
        "id": "gvEzfHPY0oLy"
      },
      "id": "gvEzfHPY0oLy"
    },
    {
      "cell_type": "code",
      "source": [
        "dtc = DecisionTreeClassifier()"
      ],
      "metadata": {
        "id": "7-SZX7oX37h-"
      },
      "id": "7-SZX7oX37h-",
      "execution_count": null,
      "outputs": []
    },
    {
      "cell_type": "code",
      "source": [
        "params_dtc = {'max_depth':[6,7,8,9,10],\n",
        "        'min_samples_leaf':[1,2,3,4,5],\n",
        "        'ccp_alpha' : [0.001,0.005,0.01,0.05,0.1]}\n",
        "grid_dtc = GridSearchCV(estimator = dtc,\n",
        "             param_grid = params_dtc,\n",
        "             scoring = 'accuracy',\n",
        "             cv = 5,\n",
        "             n_jobs = -1)\n",
        "grid_dtc.fit(X_train, y_train)"
      ],
      "metadata": {
        "colab": {
          "base_uri": "https://localhost:8080/",
          "height": 116
        },
        "id": "BSC8zPgy38A8",
        "outputId": "213e8f12-73b4-477c-abc6-537b140cd546"
      },
      "id": "BSC8zPgy38A8",
      "execution_count": null,
      "outputs": [
        {
          "output_type": "execute_result",
          "data": {
            "text/plain": [
              "GridSearchCV(cv=5, estimator=DecisionTreeClassifier(), n_jobs=-1,\n",
              "             param_grid={'ccp_alpha': [0.001, 0.005, 0.01, 0.05, 0.1],\n",
              "                         'max_depth': [6, 7, 8, 9, 10],\n",
              "                         'min_samples_leaf': [1, 2, 3, 4, 5]},\n",
              "             scoring='accuracy')"
            ],
            "text/html": [
              "<style>#sk-container-id-5 {color: black;background-color: white;}#sk-container-id-5 pre{padding: 0;}#sk-container-id-5 div.sk-toggleable {background-color: white;}#sk-container-id-5 label.sk-toggleable__label {cursor: pointer;display: block;width: 100%;margin-bottom: 0;padding: 0.3em;box-sizing: border-box;text-align: center;}#sk-container-id-5 label.sk-toggleable__label-arrow:before {content: \"▸\";float: left;margin-right: 0.25em;color: #696969;}#sk-container-id-5 label.sk-toggleable__label-arrow:hover:before {color: black;}#sk-container-id-5 div.sk-estimator:hover label.sk-toggleable__label-arrow:before {color: black;}#sk-container-id-5 div.sk-toggleable__content {max-height: 0;max-width: 0;overflow: hidden;text-align: left;background-color: #f0f8ff;}#sk-container-id-5 div.sk-toggleable__content pre {margin: 0.2em;color: black;border-radius: 0.25em;background-color: #f0f8ff;}#sk-container-id-5 input.sk-toggleable__control:checked~div.sk-toggleable__content {max-height: 200px;max-width: 100%;overflow: auto;}#sk-container-id-5 input.sk-toggleable__control:checked~label.sk-toggleable__label-arrow:before {content: \"▾\";}#sk-container-id-5 div.sk-estimator input.sk-toggleable__control:checked~label.sk-toggleable__label {background-color: #d4ebff;}#sk-container-id-5 div.sk-label input.sk-toggleable__control:checked~label.sk-toggleable__label {background-color: #d4ebff;}#sk-container-id-5 input.sk-hidden--visually {border: 0;clip: rect(1px 1px 1px 1px);clip: rect(1px, 1px, 1px, 1px);height: 1px;margin: -1px;overflow: hidden;padding: 0;position: absolute;width: 1px;}#sk-container-id-5 div.sk-estimator {font-family: monospace;background-color: #f0f8ff;border: 1px dotted black;border-radius: 0.25em;box-sizing: border-box;margin-bottom: 0.5em;}#sk-container-id-5 div.sk-estimator:hover {background-color: #d4ebff;}#sk-container-id-5 div.sk-parallel-item::after {content: \"\";width: 100%;border-bottom: 1px solid gray;flex-grow: 1;}#sk-container-id-5 div.sk-label:hover label.sk-toggleable__label {background-color: #d4ebff;}#sk-container-id-5 div.sk-serial::before {content: \"\";position: absolute;border-left: 1px solid gray;box-sizing: border-box;top: 0;bottom: 0;left: 50%;z-index: 0;}#sk-container-id-5 div.sk-serial {display: flex;flex-direction: column;align-items: center;background-color: white;padding-right: 0.2em;padding-left: 0.2em;position: relative;}#sk-container-id-5 div.sk-item {position: relative;z-index: 1;}#sk-container-id-5 div.sk-parallel {display: flex;align-items: stretch;justify-content: center;background-color: white;position: relative;}#sk-container-id-5 div.sk-item::before, #sk-container-id-5 div.sk-parallel-item::before {content: \"\";position: absolute;border-left: 1px solid gray;box-sizing: border-box;top: 0;bottom: 0;left: 50%;z-index: -1;}#sk-container-id-5 div.sk-parallel-item {display: flex;flex-direction: column;z-index: 1;position: relative;background-color: white;}#sk-container-id-5 div.sk-parallel-item:first-child::after {align-self: flex-end;width: 50%;}#sk-container-id-5 div.sk-parallel-item:last-child::after {align-self: flex-start;width: 50%;}#sk-container-id-5 div.sk-parallel-item:only-child::after {width: 0;}#sk-container-id-5 div.sk-dashed-wrapped {border: 1px dashed gray;margin: 0 0.4em 0.5em 0.4em;box-sizing: border-box;padding-bottom: 0.4em;background-color: white;}#sk-container-id-5 div.sk-label label {font-family: monospace;font-weight: bold;display: inline-block;line-height: 1.2em;}#sk-container-id-5 div.sk-label-container {text-align: center;}#sk-container-id-5 div.sk-container {/* jupyter's `normalize.less` sets `[hidden] { display: none; }` but bootstrap.min.css set `[hidden] { display: none !important; }` so we also need the `!important` here to be able to override the default hidden behavior on the sphinx rendered scikit-learn.org. See: https://github.com/scikit-learn/scikit-learn/issues/21755 */display: inline-block !important;position: relative;}#sk-container-id-5 div.sk-text-repr-fallback {display: none;}</style><div id=\"sk-container-id-5\" class=\"sk-top-container\"><div class=\"sk-text-repr-fallback\"><pre>GridSearchCV(cv=5, estimator=DecisionTreeClassifier(), n_jobs=-1,\n",
              "             param_grid={&#x27;ccp_alpha&#x27;: [0.001, 0.005, 0.01, 0.05, 0.1],\n",
              "                         &#x27;max_depth&#x27;: [6, 7, 8, 9, 10],\n",
              "                         &#x27;min_samples_leaf&#x27;: [1, 2, 3, 4, 5]},\n",
              "             scoring=&#x27;accuracy&#x27;)</pre><b>In a Jupyter environment, please rerun this cell to show the HTML representation or trust the notebook. <br />On GitHub, the HTML representation is unable to render, please try loading this page with nbviewer.org.</b></div><div class=\"sk-container\" hidden><div class=\"sk-item sk-dashed-wrapped\"><div class=\"sk-label-container\"><div class=\"sk-label sk-toggleable\"><input class=\"sk-toggleable__control sk-hidden--visually\" id=\"sk-estimator-id-13\" type=\"checkbox\" ><label for=\"sk-estimator-id-13\" class=\"sk-toggleable__label sk-toggleable__label-arrow\">GridSearchCV</label><div class=\"sk-toggleable__content\"><pre>GridSearchCV(cv=5, estimator=DecisionTreeClassifier(), n_jobs=-1,\n",
              "             param_grid={&#x27;ccp_alpha&#x27;: [0.001, 0.005, 0.01, 0.05, 0.1],\n",
              "                         &#x27;max_depth&#x27;: [6, 7, 8, 9, 10],\n",
              "                         &#x27;min_samples_leaf&#x27;: [1, 2, 3, 4, 5]},\n",
              "             scoring=&#x27;accuracy&#x27;)</pre></div></div></div><div class=\"sk-parallel\"><div class=\"sk-parallel-item\"><div class=\"sk-item\"><div class=\"sk-label-container\"><div class=\"sk-label sk-toggleable\"><input class=\"sk-toggleable__control sk-hidden--visually\" id=\"sk-estimator-id-14\" type=\"checkbox\" ><label for=\"sk-estimator-id-14\" class=\"sk-toggleable__label sk-toggleable__label-arrow\">estimator: DecisionTreeClassifier</label><div class=\"sk-toggleable__content\"><pre>DecisionTreeClassifier()</pre></div></div></div><div class=\"sk-serial\"><div class=\"sk-item\"><div class=\"sk-estimator sk-toggleable\"><input class=\"sk-toggleable__control sk-hidden--visually\" id=\"sk-estimator-id-15\" type=\"checkbox\" ><label for=\"sk-estimator-id-15\" class=\"sk-toggleable__label sk-toggleable__label-arrow\">DecisionTreeClassifier</label><div class=\"sk-toggleable__content\"><pre>DecisionTreeClassifier()</pre></div></div></div></div></div></div></div></div></div></div>"
            ]
          },
          "metadata": {},
          "execution_count": 33
        }
      ]
    },
    {
      "cell_type": "code",
      "source": [
        "best_model = grid_dtc.best_estimator_\n",
        "best_param = grid_dtc.best_params_\n",
        "print(\"best paramers for decision tree: \", best_param)\n",
        "print(\"best accuracy score for decision tree is: {:.3f}\".format(grid_dtc.best_score_))\n",
        "\n",
        "y_pred = best_model.predict(X_test)\n",
        "\n",
        "# Compute test_accuracy\n",
        "test_accu = accuracy_score(y_test, y_pred)\n",
        "\n",
        "# Print test_roc_auc\n",
        "print('Test set accuracy score for decision tree: {:.3f}'.format(test_accu))"
      ],
      "metadata": {
        "colab": {
          "base_uri": "https://localhost:8080/"
        },
        "id": "ZrgKjkaw9zQO",
        "outputId": "b780cdbe-dbe1-4030-a2ed-ef4b319ca60a"
      },
      "id": "ZrgKjkaw9zQO",
      "execution_count": null,
      "outputs": [
        {
          "output_type": "stream",
          "name": "stdout",
          "text": [
            "best paramers:  {'ccp_alpha': 0.01, 'max_depth': 8, 'min_samples_leaf': 1}\n",
            "best accuracy score is: 0.557\n",
            "Test set accuracy score: 0.543\n"
          ]
        }
      ]
    },
    {
      "cell_type": "markdown",
      "source": [
        "based on the result, I don't think there is an overfitting problem. But I still used bagging/boosting to see if the accuracy will improve."
      ],
      "metadata": {
        "id": "02HodvMXdBPd"
      },
      "id": "02HodvMXdBPd"
    },
    {
      "cell_type": "markdown",
      "source": [
        "Decision Tree Classifier: Bagging Applied"
      ],
      "metadata": {
        "id": "ugVjsD1BaqDk"
      },
      "id": "ugVjsD1BaqDk"
    },
    {
      "cell_type": "code",
      "source": [
        "from sklearn.ensemble import BaggingClassifier\n",
        "\n",
        "def bagging_dtc(num_trees):\n",
        "  dtc = DecisionTreeClassifier(min_samples_leaf=1, max_depth=8, ccp_alpha=0.01)\n",
        "  dtc_bagging = BaggingClassifier(estimator=dtc,\n",
        "                  n_estimators=num_trees,\n",
        "                  oob_score=True,\n",
        "                  random_state=1)\n",
        "  dtc_bagging.fit(X_train, y_train)\n",
        "  y_pred = dtc_bagging.predict(X_test)\n",
        "  acc_test = accuracy_score(y_pred, y_test)\n",
        "  acc_oob = dtc_bagging.oob_score_\n",
        "  return acc_test, acc_oob\n",
        "  \n",
        "l = [50,100,150,200,250,300]\n",
        "for num in l:\n",
        "  acc_test, acc_oob = bagging_dtc(num)\n",
        "  print(\"Number of Trees = \",num, \": \", 'Test set accuracy for Decision Tree Classifier (Bagging): {:.3f}, OOB accuracy for Decision Tree Classifier (Bagging): {:.3f}'.format(acc_test, acc_oob))"
      ],
      "metadata": {
        "colab": {
          "base_uri": "https://localhost:8080/"
        },
        "id": "Hdoq7b4Fcqmy",
        "outputId": "d4cbc72c-db45-470a-809c-4d8eca6c36d2"
      },
      "id": "Hdoq7b4Fcqmy",
      "execution_count": null,
      "outputs": [
        {
          "output_type": "stream",
          "name": "stdout",
          "text": [
            "Number of Trees =  50 :  Test set accuracy for Decision Tree Classifier (Bagging): 0.591, OOB accuracy for Decision Tree Classifier (Bagging): 0.620\n",
            "Number of Trees =  100 :  Test set accuracy for Decision Tree Classifier (Bagging): 0.591, OOB accuracy for Decision Tree Classifier (Bagging): 0.626\n",
            "Number of Trees =  150 :  Test set accuracy for Decision Tree Classifier (Bagging): 0.591, OOB accuracy for Decision Tree Classifier (Bagging): 0.623\n",
            "Number of Trees =  200 :  Test set accuracy for Decision Tree Classifier (Bagging): 0.598, OOB accuracy for Decision Tree Classifier (Bagging): 0.616\n",
            "Number of Trees =  250 :  Test set accuracy for Decision Tree Classifier (Bagging): 0.601, OOB accuracy for Decision Tree Classifier (Bagging): 0.616\n",
            "Number of Trees =  300 :  Test set accuracy for Decision Tree Classifier (Bagging): 0.598, OOB accuracy for Decision Tree Classifier (Bagging): 0.615\n"
          ]
        }
      ]
    },
    {
      "cell_type": "markdown",
      "source": [
        "Decision Tree Classifier: Boosting Applied"
      ],
      "metadata": {
        "id": "00xyfNIalscb"
      },
      "id": "00xyfNIalscb"
    },
    {
      "cell_type": "markdown",
      "source": [
        "Adaboost"
      ],
      "metadata": {
        "id": "FLd2l-OdExru"
      },
      "id": "FLd2l-OdExru"
    },
    {
      "cell_type": "code",
      "source": [
        "from sklearn.ensemble import AdaBoostClassifier\n",
        "\n",
        "# Instantiate dt\n",
        "def adaboost_dtc(num_trees):\n",
        "  dtc = DecisionTreeClassifier(min_samples_leaf=1, max_depth=8, ccp_alpha=0.01)  #using the parameters derived from the pure decision tree classifier\n",
        "\n",
        "  # Instantiate ada\n",
        "  dtc_ada = AdaBoostClassifier(estimator=dtc, n_estimators=100, random_state=1)  #tune n_estimators from 150 to 200 increases the accuracy\n",
        "  dtc_ada.fit(X_train, y_train)\n",
        "  train_accu = dtc_ada.score(X_train, y_train)\n",
        "\n",
        "  y_pred = dtc_ada.predict(X_test)\n",
        "  test_accu = accuracy_score(y_pred,y_test)\n",
        "  return train_accu, test_accu\n",
        "\n",
        "for num in l:\n",
        "  train_accu, test_accu = adaboost_dtc(num)\n",
        "  print('Number of Trees = ', num, ': ', 'Train set accuracy for Decision Tree Classifier (Adaboost): {:.3f}, Test set accuracy: {:.3f}'.format(train_accu, test_accu))"
      ],
      "metadata": {
        "colab": {
          "base_uri": "https://localhost:8080/"
        },
        "id": "SzVH-WmJlq8y",
        "outputId": "75a48584-b7a7-4186-f900-76399e4e5bb3"
      },
      "id": "SzVH-WmJlq8y",
      "execution_count": null,
      "outputs": [
        {
          "output_type": "stream",
          "name": "stdout",
          "text": [
            "Number of Trees =  50 :  Train set accuracy for Decision Tree Classifier (Adaboost): 0.985, Test set accuracy: 0.656\n",
            "Number of Trees =  100 :  Train set accuracy for Decision Tree Classifier (Adaboost): 0.985, Test set accuracy: 0.656\n",
            "Number of Trees =  150 :  Train set accuracy for Decision Tree Classifier (Adaboost): 0.985, Test set accuracy: 0.656\n",
            "Number of Trees =  200 :  Train set accuracy for Decision Tree Classifier (Adaboost): 0.985, Test set accuracy: 0.656\n",
            "Number of Trees =  250 :  Train set accuracy for Decision Tree Classifier (Adaboost): 0.985, Test set accuracy: 0.656\n",
            "Number of Trees =  300 :  Train set accuracy for Decision Tree Classifier (Adaboost): 0.985, Test set accuracy: 0.656\n"
          ]
        }
      ]
    },
    {
      "cell_type": "markdown",
      "source": [
        "Gradient Boosting"
      ],
      "metadata": {
        "id": "VziOxT5GEz5-"
      },
      "id": "VziOxT5GEz5-"
    },
    {
      "cell_type": "code",
      "source": [
        "from sklearn.ensemble import GradientBoostingClassifier\n",
        "\n",
        "# Instantiate gb\n",
        "gb = GradientBoostingClassifier(learning_rate = 0.1)\n",
        "\n",
        "# Apply GridSearchCV\n",
        "params_gb = {'learning_rate': [0.01,0.05,0.1,0.15],\n",
        "        'n_estimators':[50,100,150,200],\n",
        "        'max_depth': [4,6,8,10]}  #from 0.01,0.05,0.1, learning rate = 0.1 yields a best result\n",
        "grid_gb = GridSearchCV(estimator = gb,\n",
        "             param_grid = params_gb,\n",
        "             scoring = 'accuracy',\n",
        "             cv = 5,\n",
        "             n_jobs = -1)\n",
        "grid_gb.fit(X_train, y_train)"
      ],
      "metadata": {
        "colab": {
          "base_uri": "https://localhost:8080/",
          "height": 116
        },
        "id": "BId7yCxvop2f",
        "outputId": "57ed9ce6-a7a3-4495-8fba-5f4947190d32"
      },
      "id": "BId7yCxvop2f",
      "execution_count": null,
      "outputs": [
        {
          "output_type": "execute_result",
          "data": {
            "text/plain": [
              "GridSearchCV(cv=5, estimator=GradientBoostingClassifier(), n_jobs=-1,\n",
              "             param_grid={'learning_rate': [0.01, 0.05, 0.1, 0.15],\n",
              "                         'max_depth': [4, 6, 8, 10],\n",
              "                         'n_estimators': [50, 100, 150, 200]},\n",
              "             scoring='accuracy')"
            ],
            "text/html": [
              "<style>#sk-container-id-1 {color: black;background-color: white;}#sk-container-id-1 pre{padding: 0;}#sk-container-id-1 div.sk-toggleable {background-color: white;}#sk-container-id-1 label.sk-toggleable__label {cursor: pointer;display: block;width: 100%;margin-bottom: 0;padding: 0.3em;box-sizing: border-box;text-align: center;}#sk-container-id-1 label.sk-toggleable__label-arrow:before {content: \"▸\";float: left;margin-right: 0.25em;color: #696969;}#sk-container-id-1 label.sk-toggleable__label-arrow:hover:before {color: black;}#sk-container-id-1 div.sk-estimator:hover label.sk-toggleable__label-arrow:before {color: black;}#sk-container-id-1 div.sk-toggleable__content {max-height: 0;max-width: 0;overflow: hidden;text-align: left;background-color: #f0f8ff;}#sk-container-id-1 div.sk-toggleable__content pre {margin: 0.2em;color: black;border-radius: 0.25em;background-color: #f0f8ff;}#sk-container-id-1 input.sk-toggleable__control:checked~div.sk-toggleable__content {max-height: 200px;max-width: 100%;overflow: auto;}#sk-container-id-1 input.sk-toggleable__control:checked~label.sk-toggleable__label-arrow:before {content: \"▾\";}#sk-container-id-1 div.sk-estimator input.sk-toggleable__control:checked~label.sk-toggleable__label {background-color: #d4ebff;}#sk-container-id-1 div.sk-label input.sk-toggleable__control:checked~label.sk-toggleable__label {background-color: #d4ebff;}#sk-container-id-1 input.sk-hidden--visually {border: 0;clip: rect(1px 1px 1px 1px);clip: rect(1px, 1px, 1px, 1px);height: 1px;margin: -1px;overflow: hidden;padding: 0;position: absolute;width: 1px;}#sk-container-id-1 div.sk-estimator {font-family: monospace;background-color: #f0f8ff;border: 1px dotted black;border-radius: 0.25em;box-sizing: border-box;margin-bottom: 0.5em;}#sk-container-id-1 div.sk-estimator:hover {background-color: #d4ebff;}#sk-container-id-1 div.sk-parallel-item::after {content: \"\";width: 100%;border-bottom: 1px solid gray;flex-grow: 1;}#sk-container-id-1 div.sk-label:hover label.sk-toggleable__label {background-color: #d4ebff;}#sk-container-id-1 div.sk-serial::before {content: \"\";position: absolute;border-left: 1px solid gray;box-sizing: border-box;top: 0;bottom: 0;left: 50%;z-index: 0;}#sk-container-id-1 div.sk-serial {display: flex;flex-direction: column;align-items: center;background-color: white;padding-right: 0.2em;padding-left: 0.2em;position: relative;}#sk-container-id-1 div.sk-item {position: relative;z-index: 1;}#sk-container-id-1 div.sk-parallel {display: flex;align-items: stretch;justify-content: center;background-color: white;position: relative;}#sk-container-id-1 div.sk-item::before, #sk-container-id-1 div.sk-parallel-item::before {content: \"\";position: absolute;border-left: 1px solid gray;box-sizing: border-box;top: 0;bottom: 0;left: 50%;z-index: -1;}#sk-container-id-1 div.sk-parallel-item {display: flex;flex-direction: column;z-index: 1;position: relative;background-color: white;}#sk-container-id-1 div.sk-parallel-item:first-child::after {align-self: flex-end;width: 50%;}#sk-container-id-1 div.sk-parallel-item:last-child::after {align-self: flex-start;width: 50%;}#sk-container-id-1 div.sk-parallel-item:only-child::after {width: 0;}#sk-container-id-1 div.sk-dashed-wrapped {border: 1px dashed gray;margin: 0 0.4em 0.5em 0.4em;box-sizing: border-box;padding-bottom: 0.4em;background-color: white;}#sk-container-id-1 div.sk-label label {font-family: monospace;font-weight: bold;display: inline-block;line-height: 1.2em;}#sk-container-id-1 div.sk-label-container {text-align: center;}#sk-container-id-1 div.sk-container {/* jupyter's `normalize.less` sets `[hidden] { display: none; }` but bootstrap.min.css set `[hidden] { display: none !important; }` so we also need the `!important` here to be able to override the default hidden behavior on the sphinx rendered scikit-learn.org. See: https://github.com/scikit-learn/scikit-learn/issues/21755 */display: inline-block !important;position: relative;}#sk-container-id-1 div.sk-text-repr-fallback {display: none;}</style><div id=\"sk-container-id-1\" class=\"sk-top-container\"><div class=\"sk-text-repr-fallback\"><pre>GridSearchCV(cv=5, estimator=GradientBoostingClassifier(), n_jobs=-1,\n",
              "             param_grid={&#x27;learning_rate&#x27;: [0.01, 0.05, 0.1, 0.15],\n",
              "                         &#x27;max_depth&#x27;: [4, 6, 8, 10],\n",
              "                         &#x27;n_estimators&#x27;: [50, 100, 150, 200]},\n",
              "             scoring=&#x27;accuracy&#x27;)</pre><b>In a Jupyter environment, please rerun this cell to show the HTML representation or trust the notebook. <br />On GitHub, the HTML representation is unable to render, please try loading this page with nbviewer.org.</b></div><div class=\"sk-container\" hidden><div class=\"sk-item sk-dashed-wrapped\"><div class=\"sk-label-container\"><div class=\"sk-label sk-toggleable\"><input class=\"sk-toggleable__control sk-hidden--visually\" id=\"sk-estimator-id-1\" type=\"checkbox\" ><label for=\"sk-estimator-id-1\" class=\"sk-toggleable__label sk-toggleable__label-arrow\">GridSearchCV</label><div class=\"sk-toggleable__content\"><pre>GridSearchCV(cv=5, estimator=GradientBoostingClassifier(), n_jobs=-1,\n",
              "             param_grid={&#x27;learning_rate&#x27;: [0.01, 0.05, 0.1, 0.15],\n",
              "                         &#x27;max_depth&#x27;: [4, 6, 8, 10],\n",
              "                         &#x27;n_estimators&#x27;: [50, 100, 150, 200]},\n",
              "             scoring=&#x27;accuracy&#x27;)</pre></div></div></div><div class=\"sk-parallel\"><div class=\"sk-parallel-item\"><div class=\"sk-item\"><div class=\"sk-label-container\"><div class=\"sk-label sk-toggleable\"><input class=\"sk-toggleable__control sk-hidden--visually\" id=\"sk-estimator-id-2\" type=\"checkbox\" ><label for=\"sk-estimator-id-2\" class=\"sk-toggleable__label sk-toggleable__label-arrow\">estimator: GradientBoostingClassifier</label><div class=\"sk-toggleable__content\"><pre>GradientBoostingClassifier()</pre></div></div></div><div class=\"sk-serial\"><div class=\"sk-item\"><div class=\"sk-estimator sk-toggleable\"><input class=\"sk-toggleable__control sk-hidden--visually\" id=\"sk-estimator-id-3\" type=\"checkbox\" ><label for=\"sk-estimator-id-3\" class=\"sk-toggleable__label sk-toggleable__label-arrow\">GradientBoostingClassifier</label><div class=\"sk-toggleable__content\"><pre>GradientBoostingClassifier()</pre></div></div></div></div></div></div></div></div></div></div>"
            ]
          },
          "metadata": {},
          "execution_count": 17
        }
      ]
    },
    {
      "cell_type": "code",
      "source": [
        "best_model = grid_gb.best_estimator_\n",
        "best_param = grid_gb.best_params_\n",
        "print(\"best paramers of decision tree (gradient boosting): \", best_param)\n",
        "print(\"best accuracy score for decision tree (gradient boosting) is: {:.3f}\".format(grid_gb.best_score_))\n",
        "\n",
        "y_pred = best_model.predict(X_test)\n",
        "test_accu = accuracy_score(y_test, y_pred)\n",
        "print('Test set accuracy score for decision tree (gradient boosting): {:.3f}'.format(test_accu))"
      ],
      "metadata": {
        "colab": {
          "base_uri": "https://localhost:8080/"
        },
        "id": "Z3dHtxY6R3of",
        "outputId": "1872527e-4332-4cd4-c637-b7df2fc0f538"
      },
      "id": "Z3dHtxY6R3of",
      "execution_count": null,
      "outputs": [
        {
          "output_type": "stream",
          "name": "stdout",
          "text": [
            "best paramers of decision tree (gradient boosting):  {'learning_rate': 0.15, 'max_depth': 4, 'n_estimators': 100}\n",
            "best accuracy score for decision tree (gradient boosting) is: 0.686\n",
            "Test set accuracy score for decision tree (gradient boosting): 0.656\n"
          ]
        }
      ]
    },
    {
      "cell_type": "markdown",
      "source": [
        "Random Forest"
      ],
      "metadata": {
        "id": "z246ipEIalYm"
      },
      "id": "z246ipEIalYm"
    },
    {
      "cell_type": "code",
      "execution_count": null,
      "id": "756857b6",
      "metadata": {
        "colab": {
          "base_uri": "https://localhost:8080/",
          "height": 116
        },
        "id": "756857b6",
        "outputId": "b00edc5f-98fc-493e-9d97-1d1e7a56ddcb"
      },
      "outputs": [
        {
          "output_type": "execute_result",
          "data": {
            "text/plain": [
              "GridSearchCV(cv=5, estimator=RandomForestClassifier(), n_jobs=-1,\n",
              "             param_grid={'max_depth': [6, 7, 8, 9, 10],\n",
              "                         'min_samples_leaf': [1, 2, 3, 4, 5],\n",
              "                         'n_estimators': [25, 50, 100, 150, 200]},\n",
              "             scoring='accuracy')"
            ],
            "text/html": [
              "<style>#sk-container-id-1 {color: black;background-color: white;}#sk-container-id-1 pre{padding: 0;}#sk-container-id-1 div.sk-toggleable {background-color: white;}#sk-container-id-1 label.sk-toggleable__label {cursor: pointer;display: block;width: 100%;margin-bottom: 0;padding: 0.3em;box-sizing: border-box;text-align: center;}#sk-container-id-1 label.sk-toggleable__label-arrow:before {content: \"▸\";float: left;margin-right: 0.25em;color: #696969;}#sk-container-id-1 label.sk-toggleable__label-arrow:hover:before {color: black;}#sk-container-id-1 div.sk-estimator:hover label.sk-toggleable__label-arrow:before {color: black;}#sk-container-id-1 div.sk-toggleable__content {max-height: 0;max-width: 0;overflow: hidden;text-align: left;background-color: #f0f8ff;}#sk-container-id-1 div.sk-toggleable__content pre {margin: 0.2em;color: black;border-radius: 0.25em;background-color: #f0f8ff;}#sk-container-id-1 input.sk-toggleable__control:checked~div.sk-toggleable__content {max-height: 200px;max-width: 100%;overflow: auto;}#sk-container-id-1 input.sk-toggleable__control:checked~label.sk-toggleable__label-arrow:before {content: \"▾\";}#sk-container-id-1 div.sk-estimator input.sk-toggleable__control:checked~label.sk-toggleable__label {background-color: #d4ebff;}#sk-container-id-1 div.sk-label input.sk-toggleable__control:checked~label.sk-toggleable__label {background-color: #d4ebff;}#sk-container-id-1 input.sk-hidden--visually {border: 0;clip: rect(1px 1px 1px 1px);clip: rect(1px, 1px, 1px, 1px);height: 1px;margin: -1px;overflow: hidden;padding: 0;position: absolute;width: 1px;}#sk-container-id-1 div.sk-estimator {font-family: monospace;background-color: #f0f8ff;border: 1px dotted black;border-radius: 0.25em;box-sizing: border-box;margin-bottom: 0.5em;}#sk-container-id-1 div.sk-estimator:hover {background-color: #d4ebff;}#sk-container-id-1 div.sk-parallel-item::after {content: \"\";width: 100%;border-bottom: 1px solid gray;flex-grow: 1;}#sk-container-id-1 div.sk-label:hover label.sk-toggleable__label {background-color: #d4ebff;}#sk-container-id-1 div.sk-serial::before {content: \"\";position: absolute;border-left: 1px solid gray;box-sizing: border-box;top: 0;bottom: 0;left: 50%;z-index: 0;}#sk-container-id-1 div.sk-serial {display: flex;flex-direction: column;align-items: center;background-color: white;padding-right: 0.2em;padding-left: 0.2em;position: relative;}#sk-container-id-1 div.sk-item {position: relative;z-index: 1;}#sk-container-id-1 div.sk-parallel {display: flex;align-items: stretch;justify-content: center;background-color: white;position: relative;}#sk-container-id-1 div.sk-item::before, #sk-container-id-1 div.sk-parallel-item::before {content: \"\";position: absolute;border-left: 1px solid gray;box-sizing: border-box;top: 0;bottom: 0;left: 50%;z-index: -1;}#sk-container-id-1 div.sk-parallel-item {display: flex;flex-direction: column;z-index: 1;position: relative;background-color: white;}#sk-container-id-1 div.sk-parallel-item:first-child::after {align-self: flex-end;width: 50%;}#sk-container-id-1 div.sk-parallel-item:last-child::after {align-self: flex-start;width: 50%;}#sk-container-id-1 div.sk-parallel-item:only-child::after {width: 0;}#sk-container-id-1 div.sk-dashed-wrapped {border: 1px dashed gray;margin: 0 0.4em 0.5em 0.4em;box-sizing: border-box;padding-bottom: 0.4em;background-color: white;}#sk-container-id-1 div.sk-label label {font-family: monospace;font-weight: bold;display: inline-block;line-height: 1.2em;}#sk-container-id-1 div.sk-label-container {text-align: center;}#sk-container-id-1 div.sk-container {/* jupyter's `normalize.less` sets `[hidden] { display: none; }` but bootstrap.min.css set `[hidden] { display: none !important; }` so we also need the `!important` here to be able to override the default hidden behavior on the sphinx rendered scikit-learn.org. See: https://github.com/scikit-learn/scikit-learn/issues/21755 */display: inline-block !important;position: relative;}#sk-container-id-1 div.sk-text-repr-fallback {display: none;}</style><div id=\"sk-container-id-1\" class=\"sk-top-container\"><div class=\"sk-text-repr-fallback\"><pre>GridSearchCV(cv=5, estimator=RandomForestClassifier(), n_jobs=-1,\n",
              "             param_grid={&#x27;max_depth&#x27;: [6, 7, 8, 9, 10],\n",
              "                         &#x27;min_samples_leaf&#x27;: [1, 2, 3, 4, 5],\n",
              "                         &#x27;n_estimators&#x27;: [25, 50, 100, 150, 200]},\n",
              "             scoring=&#x27;accuracy&#x27;)</pre><b>In a Jupyter environment, please rerun this cell to show the HTML representation or trust the notebook. <br />On GitHub, the HTML representation is unable to render, please try loading this page with nbviewer.org.</b></div><div class=\"sk-container\" hidden><div class=\"sk-item sk-dashed-wrapped\"><div class=\"sk-label-container\"><div class=\"sk-label sk-toggleable\"><input class=\"sk-toggleable__control sk-hidden--visually\" id=\"sk-estimator-id-1\" type=\"checkbox\" ><label for=\"sk-estimator-id-1\" class=\"sk-toggleable__label sk-toggleable__label-arrow\">GridSearchCV</label><div class=\"sk-toggleable__content\"><pre>GridSearchCV(cv=5, estimator=RandomForestClassifier(), n_jobs=-1,\n",
              "             param_grid={&#x27;max_depth&#x27;: [6, 7, 8, 9, 10],\n",
              "                         &#x27;min_samples_leaf&#x27;: [1, 2, 3, 4, 5],\n",
              "                         &#x27;n_estimators&#x27;: [25, 50, 100, 150, 200]},\n",
              "             scoring=&#x27;accuracy&#x27;)</pre></div></div></div><div class=\"sk-parallel\"><div class=\"sk-parallel-item\"><div class=\"sk-item\"><div class=\"sk-label-container\"><div class=\"sk-label sk-toggleable\"><input class=\"sk-toggleable__control sk-hidden--visually\" id=\"sk-estimator-id-2\" type=\"checkbox\" ><label for=\"sk-estimator-id-2\" class=\"sk-toggleable__label sk-toggleable__label-arrow\">estimator: RandomForestClassifier</label><div class=\"sk-toggleable__content\"><pre>RandomForestClassifier()</pre></div></div></div><div class=\"sk-serial\"><div class=\"sk-item\"><div class=\"sk-estimator sk-toggleable\"><input class=\"sk-toggleable__control sk-hidden--visually\" id=\"sk-estimator-id-3\" type=\"checkbox\" ><label for=\"sk-estimator-id-3\" class=\"sk-toggleable__label sk-toggleable__label-arrow\">RandomForestClassifier</label><div class=\"sk-toggleable__content\"><pre>RandomForestClassifier()</pre></div></div></div></div></div></div></div></div></div></div>"
            ]
          },
          "metadata": {},
          "execution_count": 10
        }
      ],
      "source": [
        "rf = RandomForestClassifier(criterion = \"gini\",max_features = \"sqrt\")\n",
        "params_rf = {'n_estimators': [25,50,100,150,200],\n",
        "        'max_depth':[6,7,8,9,10],\n",
        "        'min_samples_leaf':[1,2,3,4,5]}\n",
        "grid_rf = GridSearchCV(estimator = rf,\n",
        "             param_grid = params_rf,\n",
        "             scoring = 'accuracy',\n",
        "             cv = 5,\n",
        "             n_jobs = -1)\n",
        "grid_rf.fit(X_train, y_train)"
      ]
    },
    {
      "cell_type": "code",
      "source": [
        "best_model = grid_rf.best_estimator_\n",
        "best_param = grid_rf.best_params_\n",
        "print(\"best paramers of random forest: \", best_param)\n",
        "print(\"best accuracy score of random forest is: {:.3f}\".format(grid_rf.best_score_))\n",
        "\n",
        "y_pred = best_model.predict(X_test)\n",
        "\n",
        "# Compute test_accuracy\n",
        "test_accu = accuracy_score(y_test, y_pred)\n",
        "\n",
        "# Print test_roc_auc\n",
        "print('Test set accuracy score for random forest: {:.3f}'.format(test_accu))"
      ],
      "metadata": {
        "colab": {
          "base_uri": "https://localhost:8080/"
        },
        "id": "tHq8SpWw7WST",
        "outputId": "16479e95-cba1-444c-9eed-1454182af3f4"
      },
      "id": "tHq8SpWw7WST",
      "execution_count": null,
      "outputs": [
        {
          "output_type": "stream",
          "name": "stdout",
          "text": [
            "best paramers of random forest:  {'max_depth': 10, 'min_samples_leaf': 2, 'n_estimators': 200}\n",
            "best accuracy score of random forest is: 0.686\n",
            "Test set accuracy score for random forest: 0.646\n"
          ]
        }
      ]
    },
    {
      "cell_type": "markdown",
      "source": [
        "Fine tune hyperparameters again"
      ],
      "metadata": {
        "id": "LqLCn905-eky"
      },
      "id": "LqLCn905-eky"
    },
    {
      "cell_type": "code",
      "source": [
        "rf2 = RandomForestClassifier(criterion = \"gini\", max_features = \"sqrt\")\n",
        "params_rf2 = {'min_samples_leaf':[1,2,3,4,5],\n",
        "        'n_estimators': [200,250,300],\n",
        "        'max_depth':[10,15,20]}\n",
        "grid_rf2 = GridSearchCV(estimator = rf2,\n",
        "             param_grid = params_rf2,\n",
        "             scoring = 'accuracy',\n",
        "             cv = 5,\n",
        "             n_jobs = -1)\n",
        "grid_rf2.fit(X_train, y_train)"
      ],
      "metadata": {
        "colab": {
          "base_uri": "https://localhost:8080/",
          "height": 116
        },
        "id": "dPig74Jf-VA0",
        "outputId": "c8427421-b604-4608-acb0-db4fbfb2979d"
      },
      "id": "dPig74Jf-VA0",
      "execution_count": null,
      "outputs": [
        {
          "output_type": "execute_result",
          "data": {
            "text/plain": [
              "GridSearchCV(cv=5, estimator=RandomForestClassifier(), n_jobs=-1,\n",
              "             param_grid={'max_depth': [10, 15, 20],\n",
              "                         'min_samples_leaf': [1, 2, 3, 4, 5],\n",
              "                         'n_estimators': [200, 250, 300]},\n",
              "             scoring='accuracy')"
            ],
            "text/html": [
              "<style>#sk-container-id-2 {color: black;background-color: white;}#sk-container-id-2 pre{padding: 0;}#sk-container-id-2 div.sk-toggleable {background-color: white;}#sk-container-id-2 label.sk-toggleable__label {cursor: pointer;display: block;width: 100%;margin-bottom: 0;padding: 0.3em;box-sizing: border-box;text-align: center;}#sk-container-id-2 label.sk-toggleable__label-arrow:before {content: \"▸\";float: left;margin-right: 0.25em;color: #696969;}#sk-container-id-2 label.sk-toggleable__label-arrow:hover:before {color: black;}#sk-container-id-2 div.sk-estimator:hover label.sk-toggleable__label-arrow:before {color: black;}#sk-container-id-2 div.sk-toggleable__content {max-height: 0;max-width: 0;overflow: hidden;text-align: left;background-color: #f0f8ff;}#sk-container-id-2 div.sk-toggleable__content pre {margin: 0.2em;color: black;border-radius: 0.25em;background-color: #f0f8ff;}#sk-container-id-2 input.sk-toggleable__control:checked~div.sk-toggleable__content {max-height: 200px;max-width: 100%;overflow: auto;}#sk-container-id-2 input.sk-toggleable__control:checked~label.sk-toggleable__label-arrow:before {content: \"▾\";}#sk-container-id-2 div.sk-estimator input.sk-toggleable__control:checked~label.sk-toggleable__label {background-color: #d4ebff;}#sk-container-id-2 div.sk-label input.sk-toggleable__control:checked~label.sk-toggleable__label {background-color: #d4ebff;}#sk-container-id-2 input.sk-hidden--visually {border: 0;clip: rect(1px 1px 1px 1px);clip: rect(1px, 1px, 1px, 1px);height: 1px;margin: -1px;overflow: hidden;padding: 0;position: absolute;width: 1px;}#sk-container-id-2 div.sk-estimator {font-family: monospace;background-color: #f0f8ff;border: 1px dotted black;border-radius: 0.25em;box-sizing: border-box;margin-bottom: 0.5em;}#sk-container-id-2 div.sk-estimator:hover {background-color: #d4ebff;}#sk-container-id-2 div.sk-parallel-item::after {content: \"\";width: 100%;border-bottom: 1px solid gray;flex-grow: 1;}#sk-container-id-2 div.sk-label:hover label.sk-toggleable__label {background-color: #d4ebff;}#sk-container-id-2 div.sk-serial::before {content: \"\";position: absolute;border-left: 1px solid gray;box-sizing: border-box;top: 0;bottom: 0;left: 50%;z-index: 0;}#sk-container-id-2 div.sk-serial {display: flex;flex-direction: column;align-items: center;background-color: white;padding-right: 0.2em;padding-left: 0.2em;position: relative;}#sk-container-id-2 div.sk-item {position: relative;z-index: 1;}#sk-container-id-2 div.sk-parallel {display: flex;align-items: stretch;justify-content: center;background-color: white;position: relative;}#sk-container-id-2 div.sk-item::before, #sk-container-id-2 div.sk-parallel-item::before {content: \"\";position: absolute;border-left: 1px solid gray;box-sizing: border-box;top: 0;bottom: 0;left: 50%;z-index: -1;}#sk-container-id-2 div.sk-parallel-item {display: flex;flex-direction: column;z-index: 1;position: relative;background-color: white;}#sk-container-id-2 div.sk-parallel-item:first-child::after {align-self: flex-end;width: 50%;}#sk-container-id-2 div.sk-parallel-item:last-child::after {align-self: flex-start;width: 50%;}#sk-container-id-2 div.sk-parallel-item:only-child::after {width: 0;}#sk-container-id-2 div.sk-dashed-wrapped {border: 1px dashed gray;margin: 0 0.4em 0.5em 0.4em;box-sizing: border-box;padding-bottom: 0.4em;background-color: white;}#sk-container-id-2 div.sk-label label {font-family: monospace;font-weight: bold;display: inline-block;line-height: 1.2em;}#sk-container-id-2 div.sk-label-container {text-align: center;}#sk-container-id-2 div.sk-container {/* jupyter's `normalize.less` sets `[hidden] { display: none; }` but bootstrap.min.css set `[hidden] { display: none !important; }` so we also need the `!important` here to be able to override the default hidden behavior on the sphinx rendered scikit-learn.org. See: https://github.com/scikit-learn/scikit-learn/issues/21755 */display: inline-block !important;position: relative;}#sk-container-id-2 div.sk-text-repr-fallback {display: none;}</style><div id=\"sk-container-id-2\" class=\"sk-top-container\"><div class=\"sk-text-repr-fallback\"><pre>GridSearchCV(cv=5, estimator=RandomForestClassifier(), n_jobs=-1,\n",
              "             param_grid={&#x27;max_depth&#x27;: [10, 15, 20],\n",
              "                         &#x27;min_samples_leaf&#x27;: [1, 2, 3, 4, 5],\n",
              "                         &#x27;n_estimators&#x27;: [200, 250, 300]},\n",
              "             scoring=&#x27;accuracy&#x27;)</pre><b>In a Jupyter environment, please rerun this cell to show the HTML representation or trust the notebook. <br />On GitHub, the HTML representation is unable to render, please try loading this page with nbviewer.org.</b></div><div class=\"sk-container\" hidden><div class=\"sk-item sk-dashed-wrapped\"><div class=\"sk-label-container\"><div class=\"sk-label sk-toggleable\"><input class=\"sk-toggleable__control sk-hidden--visually\" id=\"sk-estimator-id-4\" type=\"checkbox\" ><label for=\"sk-estimator-id-4\" class=\"sk-toggleable__label sk-toggleable__label-arrow\">GridSearchCV</label><div class=\"sk-toggleable__content\"><pre>GridSearchCV(cv=5, estimator=RandomForestClassifier(), n_jobs=-1,\n",
              "             param_grid={&#x27;max_depth&#x27;: [10, 15, 20],\n",
              "                         &#x27;min_samples_leaf&#x27;: [1, 2, 3, 4, 5],\n",
              "                         &#x27;n_estimators&#x27;: [200, 250, 300]},\n",
              "             scoring=&#x27;accuracy&#x27;)</pre></div></div></div><div class=\"sk-parallel\"><div class=\"sk-parallel-item\"><div class=\"sk-item\"><div class=\"sk-label-container\"><div class=\"sk-label sk-toggleable\"><input class=\"sk-toggleable__control sk-hidden--visually\" id=\"sk-estimator-id-5\" type=\"checkbox\" ><label for=\"sk-estimator-id-5\" class=\"sk-toggleable__label sk-toggleable__label-arrow\">estimator: RandomForestClassifier</label><div class=\"sk-toggleable__content\"><pre>RandomForestClassifier()</pre></div></div></div><div class=\"sk-serial\"><div class=\"sk-item\"><div class=\"sk-estimator sk-toggleable\"><input class=\"sk-toggleable__control sk-hidden--visually\" id=\"sk-estimator-id-6\" type=\"checkbox\" ><label for=\"sk-estimator-id-6\" class=\"sk-toggleable__label sk-toggleable__label-arrow\">RandomForestClassifier</label><div class=\"sk-toggleable__content\"><pre>RandomForestClassifier()</pre></div></div></div></div></div></div></div></div></div></div>"
            ]
          },
          "metadata": {},
          "execution_count": 22
        }
      ]
    },
    {
      "cell_type": "code",
      "source": [
        "best_model = grid_rf2.best_estimator_\n",
        "best_param = grid_rf2.best_params_\n",
        "print(\"best paramers of random forest(2): \", best_param)\n",
        "print(\"best accuracy score of random forest(2) is: {:.3f}\".format(grid_rf2.best_score_))\n",
        "\n",
        "y_pred = best_model.predict(X_test)\n",
        "\n",
        "# Compute test_accuracy\n",
        "test_accu = accuracy_score(y_test, y_pred)\n",
        "\n",
        "# Print test_roc_auc\n",
        "print('Test set accuracy score for random forest(2): {:.3f}'.format(test_accu))"
      ],
      "metadata": {
        "colab": {
          "base_uri": "https://localhost:8080/"
        },
        "id": "465g0mHw-50m",
        "outputId": "0923c858-2f68-48c0-a29e-37e714cfa18a"
      },
      "id": "465g0mHw-50m",
      "execution_count": null,
      "outputs": [
        {
          "output_type": "stream",
          "name": "stdout",
          "text": [
            "best paramers of random forest(2):  {'max_depth': 15, 'min_samples_leaf': 1, 'n_estimators': 250}\n",
            "best accuracy score of random forest(2) is: 0.693\n",
            "Test set accuracy score for random forest(2): 0.653\n"
          ]
        }
      ]
    },
    {
      "cell_type": "markdown",
      "source": [
        "Compare the first and second random forest, the second one performs slightly better."
      ],
      "metadata": {
        "id": "mlzZy2z3_Z34"
      },
      "id": "mlzZy2z3_Z34"
    },
    {
      "cell_type": "code",
      "source": [
        "rf_best = RandomForestClassifier(n_estimators=250, min_samples_leaf=1, max_depth=15, criterion=\"gini\", max_features=\"sqrt\")\n",
        "rf_best.fit(X_train, y_train)\n",
        "y_pred = rf_best.predict(X_test)\n",
        "test_accu = accuracy_score(y_test, y_pred)\n",
        "print('Test set accuracy score for best random forest: {:.3f}'.format(test_accu))"
      ],
      "metadata": {
        "colab": {
          "base_uri": "https://localhost:8080/"
        },
        "id": "t-Tnv3rt_1e0",
        "outputId": "ee539418-d0af-422b-8346-25b81edf54e1"
      },
      "id": "t-Tnv3rt_1e0",
      "execution_count": 9,
      "outputs": [
        {
          "output_type": "stream",
          "name": "stdout",
          "text": [
            "Test set accuracy score for best random forest: 0.645\n"
          ]
        }
      ]
    },
    {
      "cell_type": "code",
      "source": [
        "rf_best.feature_importances_"
      ],
      "metadata": {
        "colab": {
          "base_uri": "https://localhost:8080/"
        },
        "id": "4nUyLnKqMYXx",
        "outputId": "2bae78df-9704-4379-983f-b6ef7c7761cc"
      },
      "id": "4nUyLnKqMYXx",
      "execution_count": 10,
      "outputs": [
        {
          "output_type": "execute_result",
          "data": {
            "text/plain": [
              "array([0.0251687 , 0.00809783, 0.02345385, 0.00756316, 0.00967192,\n",
              "       0.00781053, 0.01329059, 0.01145522, 0.00892857, 0.00904205,\n",
              "       0.00753852, 0.01023917, 0.00812759, 0.00784993, 0.00621435,\n",
              "       0.01016968, 0.00779944, 0.01111977, 0.00964042, 0.00760268,\n",
              "       0.007297  , 0.00773613, 0.00941525, 0.00876476, 0.01181374,\n",
              "       0.01723042, 0.00775952, 0.00638115, 0.00644874, 0.00662297,\n",
              "       0.00803347, 0.00792746, 0.0101648 , 0.00816317, 0.00833804,\n",
              "       0.00660403, 0.00580043, 0.00537161, 0.00926103, 0.00622721,\n",
              "       0.00695146, 0.00627245, 0.00949332, 0.00734097, 0.00617344,\n",
              "       0.00686073, 0.00738582, 0.00727769, 0.00716782, 0.00680265,\n",
              "       0.01671946, 0.02199478, 0.02849442, 0.03145746, 0.04018379,\n",
              "       0.03815113, 0.02141869, 0.030379  , 0.01935458, 0.02903086,\n",
              "       0.0189843 , 0.00972086, 0.01402692, 0.02320699, 0.02478443,\n",
              "       0.01223713, 0.00613824, 0.01343218, 0.02548693, 0.02209201,\n",
              "       0.03338422, 0.01940235, 0.00927343, 0.00742824, 0.00733925,\n",
              "       0.00658699, 0.00772085, 0.0067976 , 0.00690164])"
            ]
          },
          "metadata": {},
          "execution_count": 10
        }
      ]
    },
    {
      "cell_type": "code",
      "source": [
        "feature_scores = pd.Series(rf_best.feature_importances_, index=X_train.columns).sort_values(ascending=False)\n",
        "display(feature_scores)"
      ],
      "metadata": {
        "colab": {
          "base_uri": "https://localhost:8080/",
          "height": 233
        },
        "id": "oqTPAmJPosdr",
        "outputId": "e91f57b0-ed6f-4a59-dad8-039358213824"
      },
      "id": "oqTPAmJPosdr",
      "execution_count": 11,
      "outputs": [
        {
          "output_type": "display_data",
          "data": {
            "text/plain": [
              "rmseP_a         0.040184\n",
              "rmseP_std       0.038151\n",
              "onset_a         0.033384\n",
              "melspect_std    0.031457\n",
              "rmseH_std       0.030379\n",
              "                  ...   \n",
              "mfcc_std_1      0.006214\n",
              "chroma_std_6    0.006173\n",
              "tonnetz_a       0.006138\n",
              "chroma_a_10     0.005800\n",
              "chroma_a_11     0.005372\n",
              "Length: 79, dtype: float64"
            ]
          },
          "metadata": {}
        }
      ]
    },
    {
      "cell_type": "code",
      "source": [
        "type(feature_scores)"
      ],
      "metadata": {
        "colab": {
          "base_uri": "https://localhost:8080/"
        },
        "id": "_sujN60oOA0a",
        "outputId": "d4844538-5204-4e1b-9160-056f4cb19eea"
      },
      "id": "_sujN60oOA0a",
      "execution_count": null,
      "outputs": [
        {
          "output_type": "execute_result",
          "data": {
            "text/plain": [
              "pandas.core.series.Series"
            ]
          },
          "metadata": {},
          "execution_count": 33
        }
      ]
    },
    {
      "cell_type": "code",
      "source": [
        "import matplotlib.pyplot as plt\n",
        "import seaborn as sns\n",
        "%matplotlib inline"
      ],
      "metadata": {
        "id": "OzJy9fadEdMF"
      },
      "id": "OzJy9fadEdMF",
      "execution_count": 13,
      "outputs": []
    },
    {
      "cell_type": "code",
      "source": [
        "sns.barplot(x=feature_scores, y=feature_scores.index)\n",
        "# Add labels to the graph\n",
        "plt.xlabel('Feature Importance Score')\n",
        "plt.ylabel('Features')\n",
        "\n",
        "# Add title to the graph\n",
        "plt.title(\"Visualizing Important Features\")\n",
        "\n",
        "# Visualize the graph\n",
        "plt.show()"
      ],
      "metadata": {
        "colab": {
          "base_uri": "https://localhost:8080/",
          "height": 472
        },
        "id": "zsMjoFnsDYUO",
        "outputId": "afafc394-48d9-4515-adef-a8f1aa883abe"
      },
      "id": "zsMjoFnsDYUO",
      "execution_count": 14,
      "outputs": [
        {
          "output_type": "display_data",
          "data": {
            "text/plain": [
              "<Figure size 640x480 with 1 Axes>"
            ],
            "image/png": "[encoded data removed]"
          },
          "metadata": {}
        }
      ]
    },
    {
      "cell_type": "markdown",
      "source": [
        "Drop features based on feature importance (delete features with importance < 0.005)"
      ],
      "metadata": {
        "id": "8y6IggBpHFla"
      },
      "id": "8y6IggBpHFla"
    },
    {
      "cell_type": "code",
      "source": [
        "X.head()"
      ],
      "metadata": {
        "colab": {
          "base_uri": "https://localhost:8080/",
          "height": 235
        },
        "id": "UNbvawR4Natp",
        "outputId": "898f8bb2-db4a-4d5f-9ffc-9d9dbacfd323"
      },
      "id": "UNbvawR4Natp",
      "execution_count": null,
      "outputs": [
        {
          "output_type": "execute_result",
          "data": {
            "text/plain": [
              "    mfcc_a_0   mfcc_a_1   mfcc_a_2   mfcc_a_3   mfcc_a_4   mfcc_a_5  \\\n",
              "0 -131.34530  154.44778 -46.625813  55.491830  -2.969374  28.455832   \n",
              "1 -216.48515  159.88239 -53.843456  41.647510   4.802261   6.194261   \n",
              "2  -97.64007  137.78816 -43.407673  57.867115 -17.740084  48.168274   \n",
              "3 -218.33733  139.85650 -46.182710  29.928583  -5.652246  26.629574   \n",
              "4 -137.82199  145.93646 -52.225964  44.550194  -5.257767  24.834461   \n",
              "\n",
              "    mfcc_a_6   mfcc_a_7   mfcc_a_8   mfcc_a_9  ...   zcr_std   onset_a  \\\n",
              "0 -11.929317   9.539672   4.456010   9.052435  ...  0.019586  1.541892   \n",
              "1  -0.619864   1.253317   5.258920   9.118914  ...  0.022674  1.589639   \n",
              "2 -20.405445  14.013074 -11.915717  13.601735  ...  0.021188  1.332900   \n",
              "3  -6.704617  15.074043   0.800906   0.926584  ...  0.025217  1.527841   \n",
              "4  -7.554444  12.882658   4.022466  11.714938  ...  0.031764  1.525155   \n",
              "\n",
              "   onset_std         bpm  rmseP_skew  rmseP_kurtosis  rmseH_skew  \\\n",
              "0   1.521225  132.512019    1.070878        1.396955    0.741772   \n",
              "1   1.765213  117.453835    1.569087        2.719492    0.010281   \n",
              "2   0.778537  123.046875    1.270062        1.725401    0.076682   \n",
              "3   1.310864  132.512019    1.251199        1.432018    1.522334   \n",
              "4   1.458287   89.102909    2.108472        5.425519    0.541542   \n",
              "\n",
              "   rmseH_kurtosis    beats_a  beats_std  \n",
              "0        1.111939  14.542479   8.524608  \n",
              "1       -0.229946  14.460827   8.436646  \n",
              "2       -0.120848  14.568310   8.531551  \n",
              "3        2.031958  14.527072   8.542730  \n",
              "4        1.362728  14.487932   8.556227  \n",
              "\n",
              "[5 rows x 79 columns]"
            ],
            "text/html": [
              "\n",
              "  <div id=\"df-c832b724-f741-4f7d-ac54-14c2732f0bac\">\n",
              "    <div class=\"colab-df-container\">\n",
              "      <div>\n",
              "<style scoped>\n",
              "    .dataframe tbody tr th:only-of-type {\n",
              "        vertical-align: middle;\n",
              "    }\n",
              "\n",
              "    .dataframe tbody tr th {\n",
              "        vertical-align: top;\n",
              "    }\n",
              "\n",
              "    .dataframe thead th {\n",
              "        text-align: right;\n",
              "    }\n",
              "</style>\n",
              "<table border=\"1\" class=\"dataframe\">\n",
              "  <thead>\n",
              "    <tr style=\"text-align: right;\">\n",
              "      <th></th>\n",
              "      <th>mfcc_a_0</th>\n",
              "      <th>mfcc_a_1</th>\n",
              "      <th>mfcc_a_2</th>\n",
              "      <th>mfcc_a_3</th>\n",
              "      <th>mfcc_a_4</th>\n",
              "      <th>mfcc_a_5</th>\n",
              "      <th>mfcc_a_6</th>\n",
              "      <th>mfcc_a_7</th>\n",
              "      <th>mfcc_a_8</th>\n",
              "      <th>mfcc_a_9</th>\n",
              "      <th>...</th>\n",
              "      <th>zcr_std</th>\n",
              "      <th>onset_a</th>\n",
              "      <th>onset_std</th>\n",
              "      <th>bpm</th>\n",
              "      <th>rmseP_skew</th>\n",
              "      <th>rmseP_kurtosis</th>\n",
              "      <th>rmseH_skew</th>\n",
              "      <th>rmseH_kurtosis</th>\n",
              "      <th>beats_a</th>\n",
              "      <th>beats_std</th>\n",
              "    </tr>\n",
              "  </thead>\n",
              "  <tbody>\n",
              "    <tr>\n",
              "      <th>0</th>\n",
              "      <td>-131.34530</td>\n",
              "      <td>154.44778</td>\n",
              "      <td>-46.625813</td>\n",
              "      <td>55.491830</td>\n",
              "      <td>-2.969374</td>\n",
              "      <td>28.455832</td>\n",
              "      <td>-11.929317</td>\n",
              "      <td>9.539672</td>\n",
              "      <td>4.456010</td>\n",
              "      <td>9.052435</td>\n",
              "      <td>...</td>\n",
              "      <td>0.019586</td>\n",
              "      <td>1.541892</td>\n",
              "      <td>1.521225</td>\n",
              "      <td>132.512019</td>\n",
              "      <td>1.070878</td>\n",
              "      <td>1.396955</td>\n",
              "      <td>0.741772</td>\n",
              "      <td>1.111939</td>\n",
              "      <td>14.542479</td>\n",
              "      <td>8.524608</td>\n",
              "    </tr>\n",
              "    <tr>\n",
              "      <th>1</th>\n",
              "      <td>-216.48515</td>\n",
              "      <td>159.88239</td>\n",
              "      <td>-53.843456</td>\n",
              "      <td>41.647510</td>\n",
              "      <td>4.802261</td>\n",
              "      <td>6.194261</td>\n",
              "      <td>-0.619864</td>\n",
              "      <td>1.253317</td>\n",
              "      <td>5.258920</td>\n",
              "      <td>9.118914</td>\n",
              "      <td>...</td>\n",
              "      <td>0.022674</td>\n",
              "      <td>1.589639</td>\n",
              "      <td>1.765213</td>\n",
              "      <td>117.453835</td>\n",
              "      <td>1.569087</td>\n",
              "      <td>2.719492</td>\n",
              "      <td>0.010281</td>\n",
              "      <td>-0.229946</td>\n",
              "      <td>14.460827</td>\n",
              "      <td>8.436646</td>\n",
              "    </tr>\n",
              "    <tr>\n",
              "      <th>2</th>\n",
              "      <td>-97.64007</td>\n",
              "      <td>137.78816</td>\n",
              "      <td>-43.407673</td>\n",
              "      <td>57.867115</td>\n",
              "      <td>-17.740084</td>\n",
              "      <td>48.168274</td>\n",
              "      <td>-20.405445</td>\n",
              "      <td>14.013074</td>\n",
              "      <td>-11.915717</td>\n",
              "      <td>13.601735</td>\n",
              "      <td>...</td>\n",
              "      <td>0.021188</td>\n",
              "      <td>1.332900</td>\n",
              "      <td>0.778537</td>\n",
              "      <td>123.046875</td>\n",
              "      <td>1.270062</td>\n",
              "      <td>1.725401</td>\n",
              "      <td>0.076682</td>\n",
              "      <td>-0.120848</td>\n",
              "      <td>14.568310</td>\n",
              "      <td>8.531551</td>\n",
              "    </tr>\n",
              "    <tr>\n",
              "      <th>3</th>\n",
              "      <td>-218.33733</td>\n",
              "      <td>139.85650</td>\n",
              "      <td>-46.182710</td>\n",
              "      <td>29.928583</td>\n",
              "      <td>-5.652246</td>\n",
              "      <td>26.629574</td>\n",
              "      <td>-6.704617</td>\n",
              "      <td>15.074043</td>\n",
              "      <td>0.800906</td>\n",
              "      <td>0.926584</td>\n",
              "      <td>...</td>\n",
              "      <td>0.025217</td>\n",
              "      <td>1.527841</td>\n",
              "      <td>1.310864</td>\n",
              "      <td>132.512019</td>\n",
              "      <td>1.251199</td>\n",
              "      <td>1.432018</td>\n",
              "      <td>1.522334</td>\n",
              "      <td>2.031958</td>\n",
              "      <td>14.527072</td>\n",
              "      <td>8.542730</td>\n",
              "    </tr>\n",
              "    <tr>\n",
              "      <th>4</th>\n",
              "      <td>-137.82199</td>\n",
              "      <td>145.93646</td>\n",
              "      <td>-52.225964</td>\n",
              "      <td>44.550194</td>\n",
              "      <td>-5.257767</td>\n",
              "      <td>24.834461</td>\n",
              "      <td>-7.554444</td>\n",
              "      <td>12.882658</td>\n",
              "      <td>4.022466</td>\n",
              "      <td>11.714938</td>\n",
              "      <td>...</td>\n",
              "      <td>0.031764</td>\n",
              "      <td>1.525155</td>\n",
              "      <td>1.458287</td>\n",
              "      <td>89.102909</td>\n",
              "      <td>2.108472</td>\n",
              "      <td>5.425519</td>\n",
              "      <td>0.541542</td>\n",
              "      <td>1.362728</td>\n",
              "      <td>14.487932</td>\n",
              "      <td>8.556227</td>\n",
              "    </tr>\n",
              "  </tbody>\n",
              "</table>\n",
              "<p>5 rows × 79 columns</p>\n",
              "</div>\n",
              "      <button class=\"colab-df-convert\" onclick=\"convertToInteractive('df-c832b724-f741-4f7d-ac54-14c2732f0bac')\"\n",
              "              title=\"Convert this dataframe to an interactive table.\"\n",
              "              style=\"display:none;\">\n",
              "        \n",
              "  <svg xmlns=\"http://www.w3.org/2000/svg\" height=\"24px\"viewBox=\"0 0 24 24\"\n",
              "       width=\"24px\">\n",
              "    <path d=\"M0 0h24v24H0V0z\" fill=\"none\"/>\n",
              "    <path d=\"M18.56 5.44l.94 2.06.94-2.06 2.06-.94-2.06-.94-.94-2.06-.94 2.06-2.06.94zm-11 1L8.5 8.5l.94-2.06 2.06-.94-2.06-.94L8.5 2.5l-.94 2.06-2.06.94zm10 10l.94 2.06.94-2.06 2.06-.94-2.06-.94-.94-2.06-.94 2.06-2.06.94z\"/><path d=\"M17.41 7.96l-1.37-1.37c-.4-.4-.92-.59-1.43-.59-.52 0-1.04.2-1.43.59L10.3 9.45l-7.72 7.72c-.78.78-.78 2.05 0 2.83L4 21.41c.39.39.9.59 1.41.59.51 0 1.02-.2 1.41-.59l7.78-7.78 2.81-2.81c.8-.78.8-2.07 0-2.86zM5.41 20L4 18.59l7.72-7.72 1.47 1.35L5.41 20z\"/>\n",
              "  </svg>\n",
              "      </button>\n",
              "      \n",
              "  <style>\n",
              "    .colab-df-container {\n",
              "      display:flex;\n",
              "      flex-wrap:wrap;\n",
              "      gap: 12px;\n",
              "    }\n",
              "\n",
              "    .colab-df-convert {\n",
              "      background-color: #E8F0FE;\n",
              "      border: none;\n",
              "      border-radius: 50%;\n",
              "      cursor: pointer;\n",
              "      display: none;\n",
              "      fill: #1967D2;\n",
              "      height: 32px;\n",
              "      padding: 0 0 0 0;\n",
              "      width: 32px;\n",
              "    }\n",
              "\n",
              "    .colab-df-convert:hover {\n",
              "      background-color: #E2EBFA;\n",
              "      box-shadow: 0px 1px 2px rgba(60, 64, 67, 0.3), 0px 1px 3px 1px rgba(60, 64, 67, 0.15);\n",
              "      fill: #174EA6;\n",
              "    }\n",
              "\n",
              "    [theme=dark] .colab-df-convert {\n",
              "      background-color: #3B4455;\n",
              "      fill: #D2E3FC;\n",
              "    }\n",
              "\n",
              "    [theme=dark] .colab-df-convert:hover {\n",
              "      background-color: #434B5C;\n",
              "      box-shadow: 0px 1px 3px 1px rgba(0, 0, 0, 0.15);\n",
              "      filter: drop-shadow(0px 1px 2px rgba(0, 0, 0, 0.3));\n",
              "      fill: #FFFFFF;\n",
              "    }\n",
              "  </style>\n",
              "\n",
              "      <script>\n",
              "        const buttonEl =\n",
              "          document.querySelector('#df-c832b724-f741-4f7d-ac54-14c2732f0bac button.colab-df-convert');\n",
              "        buttonEl.style.display =\n",
              "          google.colab.kernel.accessAllowed ? 'block' : 'none';\n",
              "\n",
              "        async function convertToInteractive(key) {\n",
              "          const element = document.querySelector('#df-c832b724-f741-4f7d-ac54-14c2732f0bac');\n",
              "          const dataTable =\n",
              "            await google.colab.kernel.invokeFunction('convertToInteractive',\n",
              "                                                     [key], {});\n",
              "          if (!dataTable) return;\n",
              "\n",
              "          const docLinkHtml = 'Like what you see? Visit the ' +\n",
              "            '<a target=\"_blank\" href=https://colab.research.google.com/notebooks/data_table.ipynb>data table notebook</a>'\n",
              "            + ' to learn more about interactive tables.';\n",
              "          element.innerHTML = '';\n",
              "          dataTable['output_type'] = 'display_data';\n",
              "          await google.colab.output.renderOutput(dataTable, element);\n",
              "          const docLink = document.createElement('div');\n",
              "          docLink.innerHTML = docLinkHtml;\n",
              "          element.appendChild(docLink);\n",
              "        }\n",
              "      </script>\n",
              "    </div>\n",
              "  </div>\n",
              "  "
            ]
          },
          "metadata": {},
          "execution_count": 51
        }
      ]
    },
    {
      "cell_type": "code",
      "source": [
        "print(feature_scores[feature_scores<0.005])"
      ],
      "metadata": {
        "colab": {
          "base_uri": "https://localhost:8080/"
        },
        "id": "xGW-dWxJMNjD",
        "outputId": "f25d6dfb-457e-4c7d-b101-0abe0c3f49c4"
      },
      "id": "xGW-dWxJMNjD",
      "execution_count": null,
      "outputs": [
        {
          "output_type": "stream",
          "name": "stdout",
          "text": [
            "chroma_std_3    0.004975\n",
            "chroma_a_9      0.004946\n",
            "chroma_a_10     0.004900\n",
            "chroma_a_11     0.004641\n",
            "tonnetz_a       0.004323\n",
            "dtype: float64\n"
          ]
        }
      ]
    },
    {
      "cell_type": "code",
      "source": [
        "feature_drop1 = [\"chroma_a_9\",\"chroma_a_10\",\"chroma_a_11\",\"tonnetz_a\"]\n",
        "X_drop1 = X.drop(feature_drop1, axis=1)\n",
        "X_train_drop1, X_test_drop1, y_train, y_test = train_test_split(X_drop1, y, test_size=0.33, random_state=42)\n",
        "rf_best_drop1 = RandomForestClassifier(n_estimators=200, min_samples_leaf=2, max_depth=10, criterion=\"gini\", max_features=\"sqrt\")\n",
        "rf_best_drop1.fit(X_train_drop1, y_train)\n",
        "y_pred_drop1 = rf_best_drop1.predict(X_test_drop1)\n",
        "train_accu = rf_best_drop1.score(X_train_drop1,y_train)\n",
        "test_accu = accuracy_score(y_test, y_pred_drop1)\n",
        "print('Training accuracy score for best random forest (drop features < 0.005): {:.3f}, Test set accuracy: {:.3f}'.format(train_accu, test_accu))"
      ],
      "metadata": {
        "colab": {
          "base_uri": "https://localhost:8080/"
        },
        "id": "Rl7UYMOdIBua",
        "outputId": "6a657ea0-935a-43d6-855b-3b00f364be8c"
      },
      "id": "Rl7UYMOdIBua",
      "execution_count": null,
      "outputs": [
        {
          "output_type": "stream",
          "name": "stdout",
          "text": [
            "Training accuracy score for best random forest (drop features < 0.005): 0.998, Test set accuracy: 0.653\n"
          ]
        }
      ]
    },
    {
      "cell_type": "code",
      "source": [
        "print(feature_scores[feature_scores<0.007].index.to_list())"
      ],
      "metadata": {
        "colab": {
          "base_uri": "https://localhost:8080/"
        },
        "id": "OYq43MN1r6bX",
        "outputId": "a126435b-5c28-43ad-9040-e03207d7f40e"
      },
      "id": "OYq43MN1r6bX",
      "execution_count": 16,
      "outputs": [
        {
          "output_type": "stream",
          "name": "stdout",
          "text": [
            "['chroma_std_2', 'beats_std', 'chroma_std_7', 'chroma_std_11', 'beats_a', 'chroma_a_3', 'chroma_a_9', 'rmseH_skew', 'chroma_a_2', 'chroma_a_1', 'chroma_std_3', 'chroma_std_1', 'mfcc_std_1', 'chroma_std_6', 'tonnetz_a', 'chroma_a_10', 'chroma_a_11']\n"
          ]
        }
      ]
    },
    {
      "cell_type": "markdown",
      "source": [
        "Overfitting problem exists, tune hyperparameters"
      ],
      "metadata": {
        "id": "2pgoetbdIceG"
      },
      "id": "2pgoetbdIceG"
    },
    {
      "cell_type": "code",
      "source": [
        "train_accu_lst = []\n",
        "test_accu_lst = []\n",
        "for threshold in np.arange(0.0045, 0.02, 0.0005):\n",
        "  drop_features = feature_scores[feature_scores<threshold].index.tolist()\n",
        "  X_drop = X.drop(drop_features, axis=1)\n",
        "  X_train_drop, X_test_drop, y_train, y_test = train_test_split(X_drop, y, test_size=0.4, random_state=42)\n",
        "  rf_drop = RandomForestClassifier(criterion=\"gini\", max_features=\"sqrt\")\n",
        "\n",
        "  #GridSearchCV\n",
        "  params_rf_drop = {'n_estimators':[25,50,100,150,200],\n",
        "          'max_depth': [4,6,8,10,12,14],\n",
        "          'min_samples_leaf': [1,2,3,4]}\n",
        "  grid_rf_drop = GridSearchCV(estimator = rf_drop,\n",
        "             param_grid = params_rf_drop,\n",
        "             scoring = 'accuracy',\n",
        "             cv = 5,\n",
        "             n_jobs = -1)\n",
        "  grid_rf_drop.fit(X_train_drop, y_train)\n",
        "\n",
        "  best_model = grid_rf_drop.best_estimator_\n",
        "  best_param = grid_rf_drop.best_params_\n",
        "  train_accu = grid_rf_drop.best_score_\n",
        "\n",
        "  y_pred = best_model.predict(X_test_drop)\n",
        "  test_accu = accuracy_score(y_test, y_pred)\n",
        "\n",
        "  test_accu = accuracy_score(y_test, y_pred)\n",
        "  train_accu_lst.append(train_accu)\n",
        "  test_accu_lst.append(test_accu)\n",
        "\n",
        "  print(\"When threshold is: {:.4f}, the training accuracy is: {:.4f}, the testing accuracy is: {:.3f}\".format(threshold, train_accu, test_accu), \"Best parameters are: \", best_param)"
      ],
      "metadata": {
        "colab": {
          "base_uri": "https://localhost:8080/"
        },
        "id": "PQ1glWcAN3Xk",
        "outputId": "91b90b13-bf1c-4cc7-9b82-15680998edcf"
      },
      "id": "PQ1glWcAN3Xk",
      "execution_count": 25,
      "outputs": [
        {
          "output_type": "stream",
          "name": "stdout",
          "text": [
            "When threshold is: 0.0045, the training accuracy is: 0.6874, the testing accuracy is: 0.631 Best parameters are:  {'max_depth': 8, 'min_samples_leaf': 1, 'n_estimators': 100}\n",
            "When threshold is: 0.0050, the training accuracy is: 0.6873, the testing accuracy is: 0.631 Best parameters are:  {'max_depth': 10, 'min_samples_leaf': 1, 'n_estimators': 200}\n",
            "When threshold is: 0.0055, the training accuracy is: 0.6950, the testing accuracy is: 0.631 Best parameters are:  {'max_depth': 12, 'min_samples_leaf': 1, 'n_estimators': 200}\n",
            "When threshold is: 0.0060, the training accuracy is: 0.6912, the testing accuracy is: 0.653 Best parameters are:  {'max_depth': 10, 'min_samples_leaf': 1, 'n_estimators': 150}\n",
            "When threshold is: 0.0065, the training accuracy is: 0.6856, the testing accuracy is: 0.642 Best parameters are:  {'max_depth': 10, 'min_samples_leaf': 4, 'n_estimators': 100}\n",
            "When threshold is: 0.0070, the training accuracy is: 0.6874, the testing accuracy is: 0.662 Best parameters are:  {'max_depth': 12, 'min_samples_leaf': 2, 'n_estimators': 150}\n",
            "When threshold is: 0.0075, the training accuracy is: 0.6912, the testing accuracy is: 0.653 Best parameters are:  {'max_depth': 12, 'min_samples_leaf': 1, 'n_estimators': 200}\n",
            "When threshold is: 0.0080, the training accuracy is: 0.6874, the testing accuracy is: 0.648 Best parameters are:  {'max_depth': 12, 'min_samples_leaf': 3, 'n_estimators': 150}\n",
            "When threshold is: 0.0085, the training accuracy is: 0.6930, the testing accuracy is: 0.653 Best parameters are:  {'max_depth': 12, 'min_samples_leaf': 3, 'n_estimators': 150}\n",
            "When threshold is: 0.0090, the training accuracy is: 0.6930, the testing accuracy is: 0.636 Best parameters are:  {'max_depth': 14, 'min_samples_leaf': 2, 'n_estimators': 50}\n",
            "When threshold is: 0.0095, the training accuracy is: 0.6930, the testing accuracy is: 0.631 Best parameters are:  {'max_depth': 10, 'min_samples_leaf': 1, 'n_estimators': 150}\n",
            "When threshold is: 0.0100, the training accuracy is: 0.6930, the testing accuracy is: 0.648 Best parameters are:  {'max_depth': 14, 'min_samples_leaf': 1, 'n_estimators': 50}\n",
            "When threshold is: 0.0105, the training accuracy is: 0.6836, the testing accuracy is: 0.639 Best parameters are:  {'max_depth': 14, 'min_samples_leaf': 1, 'n_estimators': 150}\n",
            "When threshold is: 0.0110, the training accuracy is: 0.6874, the testing accuracy is: 0.619 Best parameters are:  {'max_depth': 14, 'min_samples_leaf': 1, 'n_estimators': 200}\n",
            "When threshold is: 0.0115, the training accuracy is: 0.6874, the testing accuracy is: 0.608 Best parameters are:  {'max_depth': 14, 'min_samples_leaf': 2, 'n_estimators': 50}\n",
            "When threshold is: 0.0120, the training accuracy is: 0.6703, the testing accuracy is: 0.599 Best parameters are:  {'max_depth': 12, 'min_samples_leaf': 3, 'n_estimators': 50}\n",
            "When threshold is: 0.0125, the training accuracy is: 0.6760, the testing accuracy is: 0.614 Best parameters are:  {'max_depth': 14, 'min_samples_leaf': 2, 'n_estimators': 25}\n",
            "When threshold is: 0.0130, the training accuracy is: 0.6722, the testing accuracy is: 0.602 Best parameters are:  {'max_depth': 10, 'min_samples_leaf': 4, 'n_estimators': 25}\n",
            "When threshold is: 0.0135, the training accuracy is: 0.6741, the testing accuracy is: 0.614 Best parameters are:  {'max_depth': 12, 'min_samples_leaf': 2, 'n_estimators': 50}\n",
            "When threshold is: 0.0140, the training accuracy is: 0.6646, the testing accuracy is: 0.608 Best parameters are:  {'max_depth': 12, 'min_samples_leaf': 2, 'n_estimators': 50}\n",
            "When threshold is: 0.0145, the training accuracy is: 0.6703, the testing accuracy is: 0.619 Best parameters are:  {'max_depth': 12, 'min_samples_leaf': 2, 'n_estimators': 100}\n",
            "When threshold is: 0.0150, the training accuracy is: 0.6741, the testing accuracy is: 0.614 Best parameters are:  {'max_depth': 10, 'min_samples_leaf': 4, 'n_estimators': 50}\n",
            "When threshold is: 0.0155, the training accuracy is: 0.6722, the testing accuracy is: 0.614 Best parameters are:  {'max_depth': 10, 'min_samples_leaf': 4, 'n_estimators': 50}\n",
            "When threshold is: 0.0160, the training accuracy is: 0.6666, the testing accuracy is: 0.608 Best parameters are:  {'max_depth': 6, 'min_samples_leaf': 1, 'n_estimators': 50}\n",
            "When threshold is: 0.0165, the training accuracy is: 0.6722, the testing accuracy is: 0.631 Best parameters are:  {'max_depth': 14, 'min_samples_leaf': 2, 'n_estimators': 100}\n",
            "When threshold is: 0.0170, the training accuracy is: 0.6703, the testing accuracy is: 0.616 Best parameters are:  {'max_depth': 12, 'min_samples_leaf': 2, 'n_estimators': 150}\n",
            "When threshold is: 0.0175, the training accuracy is: 0.6703, the testing accuracy is: 0.625 Best parameters are:  {'max_depth': 12, 'min_samples_leaf': 1, 'n_estimators': 200}\n",
            "When threshold is: 0.0180, the training accuracy is: 0.6722, the testing accuracy is: 0.622 Best parameters are:  {'max_depth': 10, 'min_samples_leaf': 4, 'n_estimators': 200}\n",
            "When threshold is: 0.0185, the training accuracy is: 0.6704, the testing accuracy is: 0.631 Best parameters are:  {'max_depth': 8, 'min_samples_leaf': 1, 'n_estimators': 100}\n",
            "When threshold is: 0.0190, the training accuracy is: 0.6703, the testing accuracy is: 0.634 Best parameters are:  {'max_depth': 14, 'min_samples_leaf': 3, 'n_estimators': 100}\n",
            "When threshold is: 0.0195, the training accuracy is: 0.6419, the testing accuracy is: 0.631 Best parameters are:  {'max_depth': 14, 'min_samples_leaf': 4, 'n_estimators': 100}\n"
          ]
        }
      ]
    },
    {
      "cell_type": "code",
      "source": [
        "threshold_lst = [i for i in np.arange(0.0045, 0.02, 0.0005)]\n",
        "plt.plot(threshold_lst, train_accu_lst, c=\"red\", label=\"Training Accuracy\")\n",
        "plt.plot(threshold_lst,test_accu_lst, c=\"blue\", label=\"Testing Accuracy\")\n",
        "plt.xlabel('Threshold')\n",
        "plt.ylabel('Training/Testing Accuracy')\n",
        "plt.title(\"Random Forest (feature selection by importance)\")\n",
        "plt.legend()\n",
        "plt.show()"
      ],
      "metadata": {
        "colab": {
          "base_uri": "https://localhost:8080/",
          "height": 472
        },
        "id": "NBR_dTeLQvD4",
        "outputId": "8d87049a-8a23-483d-973e-61510cbf9a8b"
      },
      "id": "NBR_dTeLQvD4",
      "execution_count": 26,
      "outputs": [
        {
          "output_type": "display_data",
          "data": {
            "text/plain": [
              "<Figure size 640x480 with 1 Axes>"
            ],
            "image/png": "[encoded data removed]"
          },
          "metadata": {}
        }
      ]
    },
    {
      "cell_type": "markdown",
      "source": [
        "When threshold is: 0.0070, the training accuracy is: 0.6874, the testing accuracy is: 0.662 Best parameters are:  {'max_depth': 12, 'min_samples_leaf': 2, 'n_estimators': 150}"
      ],
      "metadata": {
        "id": "DYewqVXSJoZv"
      },
      "id": "DYewqVXSJoZv"
    },
    {
      "cell_type": "markdown",
      "id": "6b01dbbc",
      "metadata": {
        "id": "6b01dbbc"
      },
      "source": [
        "### shrinking feature set by feature correlations (only linear correlation will be ocnsidered?)"
      ]
    },
    {
      "cell_type": "code",
      "execution_count": 9,
      "id": "aeb8459d",
      "metadata": {
        "id": "aeb8459d",
        "outputId": "f44b535f-8d24-4ec6-a2ce-96d84939bb22",
        "colab": {
          "base_uri": "https://localhost:8080/"
        }
      },
      "outputs": [
        {
          "output_type": "stream",
          "name": "stdout",
          "text": [
            "                mfcc_a_0  mfcc_a_1  mfcc_a_2  mfcc_a_3  mfcc_a_4  mfcc_a_5  \\\n",
            "mfcc_a_0        1.000000  0.301693  0.741316  0.507841  0.554797  0.583541   \n",
            "mfcc_a_1        0.301693  1.000000  0.074123  0.577294  0.365530  0.582495   \n",
            "mfcc_a_2        0.741316  0.074123  1.000000  0.274318  0.427161  0.290460   \n",
            "mfcc_a_3        0.507841  0.577294  0.274318  1.000000  0.227992  0.608129   \n",
            "mfcc_a_4        0.554797  0.365530  0.427161  0.227992  1.000000  0.398366   \n",
            "...                  ...       ...       ...       ...       ...       ...   \n",
            "rmseP_kurtosis  0.318926  0.036660  0.339671  0.104094  0.200549  0.205093   \n",
            "rmseH_skew      0.271259  0.118550  0.221585  0.177680  0.120479  0.246612   \n",
            "rmseH_kurtosis  0.090077  0.068594  0.060525  0.092555  0.042275  0.147324   \n",
            "beats_a         0.012792  0.006661  0.023089  0.055329  0.021214  0.017915   \n",
            "beats_std       0.107370  0.009767  0.162251  0.107416  0.071750  0.069782   \n",
            "\n",
            "                mfcc_a_6  mfcc_a_7  mfcc_a_8  mfcc_a_9  ...   zcr_std  \\\n",
            "mfcc_a_0        0.221392  0.585370  0.267905  0.515784  ...  0.471996   \n",
            "mfcc_a_1        0.142380  0.485456  0.067003  0.392755  ...  0.638084   \n",
            "mfcc_a_2        0.263636  0.358553  0.201257  0.351299  ...  0.338916   \n",
            "mfcc_a_3        0.055876  0.523017  0.300397  0.412757  ...  0.337120   \n",
            "mfcc_a_4        0.486080  0.319380  0.166715  0.196593  ...  0.415322   \n",
            "...                  ...       ...       ...       ...  ...       ...   \n",
            "rmseP_kurtosis  0.044715  0.220037  0.135324  0.252207  ...  0.178451   \n",
            "rmseH_skew      0.037603  0.223033  0.198336  0.216515  ...  0.076618   \n",
            "rmseH_kurtosis  0.022389  0.138902  0.109941  0.144465  ...  0.096066   \n",
            "beats_a         0.028933  0.000099  0.081313  0.019197  ...  0.004612   \n",
            "beats_std       0.056164  0.054291  0.044554  0.028874  ...  0.007616   \n",
            "\n",
            "                 onset_a  onset_std       bpm  rmseP_skew  rmseP_kurtosis  \\\n",
            "mfcc_a_0        0.458327   0.230551  0.037344    0.364411        0.318926   \n",
            "mfcc_a_1        0.476397   0.383460  0.013549    0.113177        0.036660   \n",
            "mfcc_a_2        0.292319   0.058348  0.018964    0.444711        0.339671   \n",
            "mfcc_a_3        0.318132   0.171875  0.045765    0.103658        0.104094   \n",
            "mfcc_a_4        0.245680   0.081125  0.058107    0.254375        0.200549   \n",
            "...                  ...        ...       ...         ...             ...   \n",
            "rmseP_kurtosis  0.211341   0.151491  0.014337    0.854898        1.000000   \n",
            "rmseH_skew      0.135918   0.075414  0.061703    0.294034        0.236255   \n",
            "rmseH_kurtosis  0.095402   0.063327  0.058228    0.164809        0.156197   \n",
            "beats_a         0.049544   0.006600  0.137021    0.049473        0.053846   \n",
            "beats_std       0.016531   0.130187  0.044893    0.009484        0.018964   \n",
            "\n",
            "                rmseH_skew  rmseH_kurtosis   beats_a  beats_std  \n",
            "mfcc_a_0          0.271259        0.090077  0.012792   0.107370  \n",
            "mfcc_a_1          0.118550        0.068594  0.006661   0.009767  \n",
            "mfcc_a_2          0.221585        0.060525  0.023089   0.162251  \n",
            "mfcc_a_3          0.177680        0.092555  0.055329   0.107416  \n",
            "mfcc_a_4          0.120479        0.042275  0.021214   0.071750  \n",
            "...                    ...             ...       ...        ...  \n",
            "rmseP_kurtosis    0.236255        0.156197  0.053846   0.018964  \n",
            "rmseH_skew        1.000000        0.722802  0.014450   0.047428  \n",
            "rmseH_kurtosis    0.722802        1.000000  0.018633   0.018000  \n",
            "beats_a           0.014450        0.018633  1.000000   0.771367  \n",
            "beats_std         0.047428        0.018000  0.771367   1.000000  \n",
            "\n",
            "[79 rows x 79 columns]\n"
          ]
        }
      ],
      "source": [
        "cor_matrix = X.corr().abs()\n",
        "print(cor_matrix)"
      ]
    },
    {
      "cell_type": "code",
      "execution_count": 10,
      "id": "1cfaab84",
      "metadata": {
        "id": "1cfaab84",
        "outputId": "3e972ed8-ea95-4684-db78-4fc01dd852f3",
        "colab": {
          "base_uri": "https://localhost:8080/"
        }
      },
      "outputs": [
        {
          "output_type": "stream",
          "name": "stdout",
          "text": [
            "                mfcc_a_0  mfcc_a_1  mfcc_a_2  mfcc_a_3  mfcc_a_4  mfcc_a_5  \\\n",
            "mfcc_a_0             NaN  0.301693  0.741316  0.507841  0.554797  0.583541   \n",
            "mfcc_a_1             NaN       NaN  0.074123  0.577294  0.365530  0.582495   \n",
            "mfcc_a_2             NaN       NaN       NaN  0.274318  0.427161  0.290460   \n",
            "mfcc_a_3             NaN       NaN       NaN       NaN  0.227992  0.608129   \n",
            "mfcc_a_4             NaN       NaN       NaN       NaN       NaN  0.398366   \n",
            "...                  ...       ...       ...       ...       ...       ...   \n",
            "rmseP_kurtosis       NaN       NaN       NaN       NaN       NaN       NaN   \n",
            "rmseH_skew           NaN       NaN       NaN       NaN       NaN       NaN   \n",
            "rmseH_kurtosis       NaN       NaN       NaN       NaN       NaN       NaN   \n",
            "beats_a              NaN       NaN       NaN       NaN       NaN       NaN   \n",
            "beats_std            NaN       NaN       NaN       NaN       NaN       NaN   \n",
            "\n",
            "                mfcc_a_6  mfcc_a_7  mfcc_a_8  mfcc_a_9  ...   zcr_std  \\\n",
            "mfcc_a_0        0.221392  0.585370  0.267905  0.515784  ...  0.471996   \n",
            "mfcc_a_1        0.142380  0.485456  0.067003  0.392755  ...  0.638084   \n",
            "mfcc_a_2        0.263636  0.358553  0.201257  0.351299  ...  0.338916   \n",
            "mfcc_a_3        0.055876  0.523017  0.300397  0.412757  ...  0.337120   \n",
            "mfcc_a_4        0.486080  0.319380  0.166715  0.196593  ...  0.415322   \n",
            "...                  ...       ...       ...       ...  ...       ...   \n",
            "rmseP_kurtosis       NaN       NaN       NaN       NaN  ...       NaN   \n",
            "rmseH_skew           NaN       NaN       NaN       NaN  ...       NaN   \n",
            "rmseH_kurtosis       NaN       NaN       NaN       NaN  ...       NaN   \n",
            "beats_a              NaN       NaN       NaN       NaN  ...       NaN   \n",
            "beats_std            NaN       NaN       NaN       NaN  ...       NaN   \n",
            "\n",
            "                 onset_a  onset_std       bpm  rmseP_skew  rmseP_kurtosis  \\\n",
            "mfcc_a_0        0.458327   0.230551  0.037344    0.364411        0.318926   \n",
            "mfcc_a_1        0.476397   0.383460  0.013549    0.113177        0.036660   \n",
            "mfcc_a_2        0.292319   0.058348  0.018964    0.444711        0.339671   \n",
            "mfcc_a_3        0.318132   0.171875  0.045765    0.103658        0.104094   \n",
            "mfcc_a_4        0.245680   0.081125  0.058107    0.254375        0.200549   \n",
            "...                  ...        ...       ...         ...             ...   \n",
            "rmseP_kurtosis       NaN        NaN       NaN         NaN             NaN   \n",
            "rmseH_skew           NaN        NaN       NaN         NaN             NaN   \n",
            "rmseH_kurtosis       NaN        NaN       NaN         NaN             NaN   \n",
            "beats_a              NaN        NaN       NaN         NaN             NaN   \n",
            "beats_std            NaN        NaN       NaN         NaN             NaN   \n",
            "\n",
            "                rmseH_skew  rmseH_kurtosis   beats_a  beats_std  \n",
            "mfcc_a_0          0.271259        0.090077  0.012792   0.107370  \n",
            "mfcc_a_1          0.118550        0.068594  0.006661   0.009767  \n",
            "mfcc_a_2          0.221585        0.060525  0.023089   0.162251  \n",
            "mfcc_a_3          0.177680        0.092555  0.055329   0.107416  \n",
            "mfcc_a_4          0.120479        0.042275  0.021214   0.071750  \n",
            "...                    ...             ...       ...        ...  \n",
            "rmseP_kurtosis    0.236255        0.156197  0.053846   0.018964  \n",
            "rmseH_skew             NaN        0.722802  0.014450   0.047428  \n",
            "rmseH_kurtosis         NaN             NaN  0.018633   0.018000  \n",
            "beats_a                NaN             NaN       NaN   0.771367  \n",
            "beats_std              NaN             NaN       NaN        NaN  \n",
            "\n",
            "[79 rows x 79 columns]\n"
          ]
        }
      ],
      "source": [
        "upper_tri = cor_matrix.where(np.triu(np.ones(cor_matrix.shape),k=1).astype(bool))\n",
        "print(upper_tri)"
      ]
    },
    {
      "cell_type": "code",
      "source": [
        "train_accu_lst = []\n",
        "test_accu_lst = []\n",
        "\n",
        "for threshold in np.arange(0.8,1,0.01):\n",
        "  to_drop = [column for column in upper_tri.columns if any(upper_tri[column] > threshold)]\n",
        "  X_drop = X.drop(to_drop, axis=1)\n",
        "  X_train_drop, X_test_drop, y_train, y_test = train_test_split(X_drop, y, test_size=0.4,random_state=42)\n",
        "  rf_drop = RandomForestClassifier(criterion=\"gini\", max_features=\"sqrt\")\n",
        "\n",
        "  #GridSearchCV\n",
        "  params_rf_drop = {'n_estimators':[25,50,100,150,200],\n",
        "            'max_depth': [4,6,8,10,12],\n",
        "            'min_samples_leaf': [1,2,3,4]}\n",
        "  grid_rf_drop = GridSearchCV(estimator = rf_drop,\n",
        "                 param_grid = params_rf_drop,\n",
        "                 scoring = 'accuracy',\n",
        "                 cv = 5,\n",
        "                 n_jobs = -1)\n",
        "  grid_rf_drop.fit(X_train_drop, y_train)\n",
        "\n",
        "  best_model = grid_rf_drop.best_estimator_\n",
        "  best_param = grid_rf_drop.best_params_\n",
        "  train_accu = grid_rf_drop.best_score_\n",
        "\n",
        "  y_pred = best_model.predict(X_test_drop)\n",
        "  test_accu = accuracy_score(y_test, y_pred)\n",
        "\n",
        "  test_accu = accuracy_score(y_test, y_pred)\n",
        "  train_accu_lst.append(train_accu)\n",
        "  test_accu_lst.append(test_accu)\n",
        "  print(\"When threshold is: {:.4f}, Training accuray is: {:.3f}, Testing accuracy is: {:.3f}\".format(threshold,train_accu,test_accu),\"Best parameters are: \", best_param)\n",
        "\n",
        "#print('Best test set accuracy score for best random forest (dropped features with correlation > {:.3f}): {:.3f}'.format(max_accu_thr, max_accu))"
      ],
      "metadata": {
        "colab": {
          "base_uri": "https://localhost:8080/"
        },
        "id": "veiyEsIRXKOq",
        "outputId": "077adf75-3e98-44c3-d09f-8f264467f058"
      },
      "id": "veiyEsIRXKOq",
      "execution_count": 14,
      "outputs": [
        {
          "output_type": "stream",
          "name": "stdout",
          "text": [
            "When threshold is: 0.8000, Training accuray is: 0.663, Testing accuracy is: 0.614 Best parameters are:  {'max_depth': 10, 'min_samples_leaf': 3, 'n_estimators': 200}\n",
            "When threshold is: 0.8100, Training accuray is: 0.669, Testing accuracy is: 0.653 Best parameters are:  {'max_depth': 10, 'min_samples_leaf': 1, 'n_estimators': 200}\n",
            "When threshold is: 0.8200, Training accuray is: 0.665, Testing accuracy is: 0.645 Best parameters are:  {'max_depth': 12, 'min_samples_leaf': 4, 'n_estimators': 150}\n",
            "When threshold is: 0.8300, Training accuray is: 0.680, Testing accuracy is: 0.668 Best parameters are:  {'max_depth': 10, 'min_samples_leaf': 1, 'n_estimators': 200}\n",
            "When threshold is: 0.8400, Training accuray is: 0.682, Testing accuracy is: 0.656 Best parameters are:  {'max_depth': 10, 'min_samples_leaf': 1, 'n_estimators': 150}\n",
            "When threshold is: 0.8500, Training accuray is: 0.667, Testing accuracy is: 0.628 Best parameters are:  {'max_depth': 10, 'min_samples_leaf': 3, 'n_estimators': 100}\n",
            "When threshold is: 0.8600, Training accuray is: 0.674, Testing accuracy is: 0.614 Best parameters are:  {'max_depth': 12, 'min_samples_leaf': 2, 'n_estimators': 50}\n",
            "When threshold is: 0.8700, Training accuray is: 0.670, Testing accuracy is: 0.636 Best parameters are:  {'max_depth': 8, 'min_samples_leaf': 1, 'n_estimators': 50}\n",
            "When threshold is: 0.8800, Training accuray is: 0.684, Testing accuracy is: 0.653 Best parameters are:  {'max_depth': 12, 'min_samples_leaf': 2, 'n_estimators': 150}\n",
            "When threshold is: 0.8900, Training accuray is: 0.684, Testing accuracy is: 0.656 Best parameters are:  {'max_depth': 10, 'min_samples_leaf': 2, 'n_estimators': 150}\n",
            "When threshold is: 0.9000, Training accuray is: 0.680, Testing accuracy is: 0.625 Best parameters are:  {'max_depth': 12, 'min_samples_leaf': 2, 'n_estimators': 100}\n",
            "When threshold is: 0.9100, Training accuray is: 0.684, Testing accuracy is: 0.625 Best parameters are:  {'max_depth': 10, 'min_samples_leaf': 1, 'n_estimators': 100}\n",
            "When threshold is: 0.9200, Training accuray is: 0.685, Testing accuracy is: 0.636 Best parameters are:  {'max_depth': 12, 'min_samples_leaf': 1, 'n_estimators': 100}\n",
            "When threshold is: 0.9300, Training accuray is: 0.689, Testing accuracy is: 0.639 Best parameters are:  {'max_depth': 10, 'min_samples_leaf': 2, 'n_estimators': 50}\n",
            "When threshold is: 0.9400, Training accuray is: 0.687, Testing accuracy is: 0.642 Best parameters are:  {'max_depth': 8, 'min_samples_leaf': 1, 'n_estimators': 150}\n",
            "When threshold is: 0.9500, Training accuray is: 0.682, Testing accuracy is: 0.634 Best parameters are:  {'max_depth': 8, 'min_samples_leaf': 2, 'n_estimators': 150}\n",
            "When threshold is: 0.9600, Training accuray is: 0.682, Testing accuracy is: 0.648 Best parameters are:  {'max_depth': 10, 'min_samples_leaf': 2, 'n_estimators': 150}\n",
            "When threshold is: 0.9700, Training accuray is: 0.689, Testing accuracy is: 0.645 Best parameters are:  {'max_depth': 10, 'min_samples_leaf': 2, 'n_estimators': 50}\n",
            "When threshold is: 0.9800, Training accuray is: 0.686, Testing accuracy is: 0.651 Best parameters are:  {'max_depth': 12, 'min_samples_leaf': 1, 'n_estimators': 100}\n",
            "When threshold is: 0.9900, Training accuray is: 0.689, Testing accuracy is: 0.628 Best parameters are:  {'max_depth': 12, 'min_samples_leaf': 3, 'n_estimators': 200}\n"
          ]
        }
      ]
    },
    {
      "cell_type": "code",
      "execution_count": 17,
      "id": "db3cb512",
      "metadata": {
        "id": "db3cb512",
        "outputId": "72936d89-b4c9-46b4-f462-9c8c140c7069",
        "colab": {
          "base_uri": "https://localhost:8080/",
          "height": 472
        }
      },
      "outputs": [
        {
          "output_type": "display_data",
          "data": {
            "text/plain": [
              "<Figure size 640x480 with 1 Axes>"
            ],
            "image/png": "[encoded data removed]"
          },
          "metadata": {}
        }
      ],
      "source": [
        "threshold_lst = [i for i in np.arange(0.8,1,0.01)]\n",
        "plt.plot(threshold_lst, train_accu_lst, c=\"red\", label=\"Training Accuracy\")\n",
        "plt.plot(threshold_lst,test_accu_lst, c=\"blue\", label=\"Testing Accuracy\")\n",
        "plt.xlabel('Threshold')\n",
        "plt.ylabel('Training/Testing Accuracy')\n",
        "plt.title(\"Random Forest (Feature Selection by Correlation)\")\n",
        "plt.legend()\n",
        "plt.show()"
      ]
    },
    {
      "cell_type": "markdown",
      "source": [
        "When threshold is: 0.8300, Training accuray is: 0.680, Testing accuracy is: 0.668 Best parameters are:  {'max_depth': 10, 'min_samples_leaf': 1, 'n_estimators': 200}"
      ],
      "metadata": {
        "id": "fezN4f-5d_U7"
      },
      "id": "fezN4f-5d_U7"
    },
    {
      "cell_type": "code",
      "source": [
        "best_to_drop = [column for column in upper_tri.columns if any(upper_tri[column] > 0.83)]\n",
        "new_X = X.drop(best_to_drop, axis=1)\n",
        "new_X_train, new_X_test, y_train, y_test = train_test_split(new_X, y, test_size=0.4, random_state=42)\n",
        "rf_best = RandomForestClassifier(n_estimators=200, min_samples_leaf=1, max_depth=10, criterion=\"gini\", max_features=\"sqrt\")\n",
        "rf_best.fit(new_X_train, y_train)\n",
        "y_pred = rf_best.predict(new_X_test)"
      ],
      "metadata": {
        "id": "w54LxoTMaWuB"
      },
      "id": "w54LxoTMaWuB",
      "execution_count": 11,
      "outputs": []
    },
    {
      "cell_type": "code",
      "execution_count": 12,
      "id": "7dd4dbed",
      "metadata": {
        "id": "7dd4dbed",
        "colab": {
          "base_uri": "https://localhost:8080/",
          "height": 233
        },
        "outputId": "296c401b-5b00-4ca0-8d60-877606b10b37"
      },
      "outputs": [
        {
          "output_type": "display_data",
          "data": {
            "text/plain": [
              "onset_a          0.058245\n",
              "melspect_a       0.057208\n",
              "rolloff_std      0.044556\n",
              "mfcc_a_2         0.043756\n",
              "mfcc_a_0         0.042272\n",
              "                   ...   \n",
              "chroma_std_10    0.008284\n",
              "beats_a          0.008157\n",
              "chroma_a_2       0.008005\n",
              "chroma_std_3     0.007887\n",
              "tonnetz_a        0.005828\n",
              "Length: 63, dtype: float64"
            ]
          },
          "metadata": {}
        }
      ],
      "source": [
        "new_feature_scores = pd.Series(rf_best.feature_importances_, index=new_X_train.columns).sort_values(ascending=False)  #after select features by correlation\n",
        "display(new_feature_scores)"
      ]
    },
    {
      "cell_type": "markdown",
      "source": [
        "Feature Selection by correlaton & importance"
      ],
      "metadata": {
        "id": "iMK9W9e6xqqn"
      },
      "id": "iMK9W9e6xqqn"
    },
    {
      "cell_type": "code",
      "source": [
        "train_accu_lst = []\n",
        "test_accu_lst = []\n",
        "for threshold in np.arange(0.0045, 0.02, 0.0005):\n",
        "  drop_features = new_feature_scores[new_feature_scores<threshold].index.tolist()\n",
        "  X_drop = new_X.drop(drop_features, axis=1)\n",
        "  X_train_drop, X_test_drop, y_train, y_test = train_test_split(X_drop, y, test_size=0.4, random_state=42)\n",
        "  rf_drop = RandomForestClassifier(criterion=\"gini\", max_features=\"sqrt\")\n",
        "\n",
        "  #GridSearchCV\n",
        "  params_rf_drop = {'n_estimators':[25,50,100,150,200],\n",
        "          'max_depth': [4,6,8,10,12,14],\n",
        "          'min_samples_leaf': [1,2,3,4]}\n",
        "  grid_rf_drop = GridSearchCV(estimator = rf_drop,\n",
        "             param_grid = params_rf_drop,\n",
        "             scoring = 'accuracy',\n",
        "             cv = 5,\n",
        "             n_jobs = -1)\n",
        "  grid_rf_drop.fit(X_train_drop, y_train)\n",
        "\n",
        "  best_model = grid_rf_drop.best_estimator_\n",
        "  best_param = grid_rf_drop.best_params_\n",
        "  train_accu = grid_rf_drop.best_score_\n",
        "\n",
        "  y_pred = best_model.predict(X_test_drop)\n",
        "  test_accu = accuracy_score(y_test, y_pred)\n",
        "\n",
        "  test_accu = accuracy_score(y_test, y_pred)\n",
        "  train_accu_lst.append(train_accu)\n",
        "  test_accu_lst.append(test_accu)\n",
        "\n",
        "  print(\"When threshold is: {:.4f}, the training accuracy is: {:.4f}, the testing accuracy is: {:.3f}\".format(threshold, train_accu, test_accu), \"Best parameters are: \", best_param)"
      ],
      "metadata": {
        "id": "EO4IqoG_bqGI",
        "colab": {
          "base_uri": "https://localhost:8080/"
        },
        "outputId": "4c7c54b4-4974-4c47-9dac-1c5b2452cc9e"
      },
      "id": "EO4IqoG_bqGI",
      "execution_count": 13,
      "outputs": [
        {
          "output_type": "stream",
          "name": "stdout",
          "text": [
            "When threshold is: 0.0045, the training accuracy is: 0.6818, the testing accuracy is: 0.656 Best parameters are:  {'max_depth': 10, 'min_samples_leaf': 1, 'n_estimators': 200}\n",
            "When threshold is: 0.0050, the training accuracy is: 0.6742, the testing accuracy is: 0.645 Best parameters are:  {'max_depth': 14, 'min_samples_leaf': 2, 'n_estimators': 100}\n",
            "When threshold is: 0.0055, the training accuracy is: 0.6723, the testing accuracy is: 0.659 Best parameters are:  {'max_depth': 14, 'min_samples_leaf': 2, 'n_estimators': 100}\n",
            "When threshold is: 0.0060, the training accuracy is: 0.6761, the testing accuracy is: 0.648 Best parameters are:  {'max_depth': 8, 'min_samples_leaf': 4, 'n_estimators': 200}\n",
            "When threshold is: 0.0065, the training accuracy is: 0.6723, the testing accuracy is: 0.645 Best parameters are:  {'max_depth': 10, 'min_samples_leaf': 2, 'n_estimators': 150}\n",
            "When threshold is: 0.0070, the training accuracy is: 0.6760, the testing accuracy is: 0.648 Best parameters are:  {'max_depth': 12, 'min_samples_leaf': 3, 'n_estimators': 200}\n",
            "When threshold is: 0.0075, the training accuracy is: 0.6648, the testing accuracy is: 0.642 Best parameters are:  {'max_depth': 12, 'min_samples_leaf': 3, 'n_estimators': 100}\n",
            "When threshold is: 0.0080, the training accuracy is: 0.6704, the testing accuracy is: 0.648 Best parameters are:  {'max_depth': 14, 'min_samples_leaf': 2, 'n_estimators': 200}\n",
            "When threshold is: 0.0085, the training accuracy is: 0.6722, the testing accuracy is: 0.648 Best parameters are:  {'max_depth': 12, 'min_samples_leaf': 2, 'n_estimators': 200}\n",
            "When threshold is: 0.0090, the training accuracy is: 0.6818, the testing accuracy is: 0.656 Best parameters are:  {'max_depth': 14, 'min_samples_leaf': 1, 'n_estimators': 150}\n",
            "When threshold is: 0.0095, the training accuracy is: 0.6761, the testing accuracy is: 0.656 Best parameters are:  {'max_depth': 14, 'min_samples_leaf': 3, 'n_estimators': 150}\n",
            "When threshold is: 0.0100, the training accuracy is: 0.6722, the testing accuracy is: 0.653 Best parameters are:  {'max_depth': 14, 'min_samples_leaf': 1, 'n_estimators': 200}\n",
            "When threshold is: 0.0105, the training accuracy is: 0.6723, the testing accuracy is: 0.651 Best parameters are:  {'max_depth': 12, 'min_samples_leaf': 1, 'n_estimators': 200}\n",
            "When threshold is: 0.0110, the training accuracy is: 0.6761, the testing accuracy is: 0.639 Best parameters are:  {'max_depth': 14, 'min_samples_leaf': 1, 'n_estimators': 150}\n",
            "When threshold is: 0.0115, the training accuracy is: 0.6780, the testing accuracy is: 0.656 Best parameters are:  {'max_depth': 12, 'min_samples_leaf': 2, 'n_estimators': 150}\n",
            "When threshold is: 0.0120, the training accuracy is: 0.6761, the testing accuracy is: 0.645 Best parameters are:  {'max_depth': 10, 'min_samples_leaf': 1, 'n_estimators': 150}\n",
            "When threshold is: 0.0125, the training accuracy is: 0.6780, the testing accuracy is: 0.656 Best parameters are:  {'max_depth': 14, 'min_samples_leaf': 1, 'n_estimators': 200}\n",
            "When threshold is: 0.0130, the training accuracy is: 0.6912, the testing accuracy is: 0.648 Best parameters are:  {'max_depth': 10, 'min_samples_leaf': 2, 'n_estimators': 100}\n",
            "When threshold is: 0.0135, the training accuracy is: 0.6837, the testing accuracy is: 0.645 Best parameters are:  {'max_depth': 8, 'min_samples_leaf': 1, 'n_estimators': 200}\n",
            "When threshold is: 0.0140, the training accuracy is: 0.6874, the testing accuracy is: 0.628 Best parameters are:  {'max_depth': 14, 'min_samples_leaf': 1, 'n_estimators': 200}\n",
            "When threshold is: 0.0145, the training accuracy is: 0.6799, the testing accuracy is: 0.648 Best parameters are:  {'max_depth': 10, 'min_samples_leaf': 1, 'n_estimators': 100}\n",
            "When threshold is: 0.0150, the training accuracy is: 0.6875, the testing accuracy is: 0.628 Best parameters are:  {'max_depth': 12, 'min_samples_leaf': 1, 'n_estimators': 200}\n",
            "When threshold is: 0.0155, the training accuracy is: 0.6723, the testing accuracy is: 0.653 Best parameters are:  {'max_depth': 10, 'min_samples_leaf': 2, 'n_estimators': 150}\n",
            "When threshold is: 0.0160, the training accuracy is: 0.6779, the testing accuracy is: 0.631 Best parameters are:  {'max_depth': 14, 'min_samples_leaf': 1, 'n_estimators': 25}\n",
            "When threshold is: 0.0165, the training accuracy is: 0.6685, the testing accuracy is: 0.642 Best parameters are:  {'max_depth': 12, 'min_samples_leaf': 1, 'n_estimators': 150}\n",
            "When threshold is: 0.0170, the training accuracy is: 0.6760, the testing accuracy is: 0.668 Best parameters are:  {'max_depth': 14, 'min_samples_leaf': 1, 'n_estimators': 150}\n",
            "When threshold is: 0.0175, the training accuracy is: 0.6703, the testing accuracy is: 0.634 Best parameters are:  {'max_depth': 14, 'min_samples_leaf': 1, 'n_estimators': 200}\n",
            "When threshold is: 0.0180, the training accuracy is: 0.6704, the testing accuracy is: 0.619 Best parameters are:  {'max_depth': 10, 'min_samples_leaf': 3, 'n_estimators': 200}\n",
            "When threshold is: 0.0185, the training accuracy is: 0.6665, the testing accuracy is: 0.636 Best parameters are:  {'max_depth': 8, 'min_samples_leaf': 1, 'n_estimators': 200}\n",
            "When threshold is: 0.0190, the training accuracy is: 0.6495, the testing accuracy is: 0.642 Best parameters are:  {'max_depth': 12, 'min_samples_leaf': 1, 'n_estimators': 200}\n",
            "When threshold is: 0.0195, the training accuracy is: 0.6495, the testing accuracy is: 0.616 Best parameters are:  {'max_depth': 12, 'min_samples_leaf': 1, 'n_estimators': 100}\n"
          ]
        }
      ]
    },
    {
      "cell_type": "code",
      "source": [
        "threshold_lst = [i for i in np.arange(0.0045, 0.02, 0.0005)]\n",
        "plt.plot(threshold_lst,test_accu_lst,color=\"blue\",label=\"Testing Accuracy\")\n",
        "plt.plot(threshold_lst, train_accu_lst,color=\"red\",label=\"Training Accuracy\")\n",
        "plt.xlabel('Threshold')\n",
        "plt.ylabel('Training/Testing Accuracy')\n",
        "plt.title(\"Random Forest (feature selection by correlation & importance)\")\n",
        "plt.legend()\n",
        "plt.show()"
      ],
      "metadata": {
        "colab": {
          "base_uri": "https://localhost:8080/",
          "height": 472
        },
        "id": "lFu89neLdLnU",
        "outputId": "137aac52-e9a4-4a90-88f9-2bc56dbb357e"
      },
      "id": "lFu89neLdLnU",
      "execution_count": 18,
      "outputs": [
        {
          "output_type": "display_data",
          "data": {
            "text/plain": [
              "<Figure size 640x480 with 1 Axes>"
            ],
            "image/png": "[encoded data removed]"
          },
          "metadata": {}
        }
      ]
    },
    {
      "cell_type": "markdown",
      "source": [
        "No significant improvement"
      ],
      "metadata": {
        "id": "hsmRm6h7dl3O"
      },
      "id": "hsmRm6h7dl3O"
    },
    {
      "cell_type": "markdown",
      "source": [
        "### Final Model"
      ],
      "metadata": {
        "id": "B_DiqysIrH30"
      },
      "id": "B_DiqysIrH30"
    },
    {
      "cell_type": "code",
      "source": [
        "final_features_drop = ['chroma_std_2', 'beats_std', 'chroma_std_7', 'chroma_std_11', 'beats_a', 'chroma_a_3', 'chroma_a_9', 'rmseH_skew', 'chroma_a_2', 'chroma_a_1', 'chroma_std_3', 'chroma_std_1', 'mfcc_std_1', 'chroma_std_6', 'tonnetz_a', 'chroma_a_10', 'chroma_a_11']\n",
        "X_final = X.drop(final_features_drop, axis=1)\n",
        "X_train_final, X_test_final, y_train, y_test = train_test_split(X_final, y, test_size=0.4, random_state=42)\n",
        "rf_final = RandomForestClassifier(n_estimators=150, max_depth=12, min_samples_leaf=2, criterion=\"gini\", max_features=\"sqrt\")\n",
        "rf_final.fit(X_train_final,y_train)\n",
        "y_train_pred = rf_final.predict(X_train_final)\n",
        "train_accuracy = accuracy_score(y_train, y_train_pred)\n",
        "pred_y = rf_final.predict(X_test_final)\n",
        "test_accuracy = accuracy_score(y_test, pred_y)\n",
        "print(\"Final Model: \", \"Training accuracy: {:.3f}, Testing accuracy: {:.3f}\".format(train_accuracy, test_accuracy))"
      ],
      "metadata": {
        "colab": {
          "base_uri": "https://localhost:8080/"
        },
        "id": "oGSEyeQorGzA",
        "outputId": "632a783f-ca89-4270-f30b-ea12bb6fa054"
      },
      "id": "oGSEyeQorGzA",
      "execution_count": 19,
      "outputs": [
        {
          "output_type": "stream",
          "name": "stdout",
          "text": [
            "Final Model:  Training accuracy: 0.996, Testing accuracy: 0.651\n"
          ]
        }
      ]
    },
    {
      "cell_type": "code",
      "source": [
        "from sklearn.metrics import classification_report\n",
        "print(classification_report(y_test, pred_y))"
      ],
      "metadata": {
        "colab": {
          "base_uri": "https://localhost:8080/"
        },
        "id": "-o8xNw0pxATI",
        "outputId": "e8ae1547-4e55-40aa-d4b4-e0521e5f5592"
      },
      "id": "-o8xNw0pxATI",
      "execution_count": 20,
      "outputs": [
        {
          "output_type": "stream",
          "name": "stdout",
          "text": [
            "              precision    recall  f1-score   support\n",
            "\n",
            "       blues       0.58      0.68      0.62        50\n",
            "   classical       0.95      0.98      0.96        41\n",
            "       disco       0.59      0.73      0.65        44\n",
            "  electronic       0.65      0.40      0.49        50\n",
            "      hiphop       0.60      0.53      0.56        47\n",
            "        jazz       0.79      0.69      0.74        39\n",
            "         pop       0.47      0.56      0.51        34\n",
            "        rock       0.64      0.68      0.66        47\n",
            "\n",
            "    accuracy                           0.65       352\n",
            "   macro avg       0.66      0.66      0.65       352\n",
            "weighted avg       0.66      0.65      0.65       352\n",
            "\n"
          ]
        }
      ]
    },
    {
      "cell_type": "code",
      "source": [
        "from sklearn.metrics import confusion_matrix, ConfusionMatrixDisplay\n",
        "conf_mat = confusion_matrix(y_test, pred_y)\n",
        "ConfusionMatrixDisplay(confusion_matrix=conf_mat, display_labels=rf_best.classes_).plot()"
      ],
      "metadata": {
        "colab": {
          "base_uri": "https://localhost:8080/",
          "height": 473
        },
        "id": "LUWlG89eNWg8",
        "outputId": "5ee3d208-4642-4656-f10d-72340fd1b7d1"
      },
      "id": "LUWlG89eNWg8",
      "execution_count": 27,
      "outputs": [
        {
          "output_type": "execute_result",
          "data": {
            "text/plain": [
              "<sklearn.metrics._plot.confusion_matrix.ConfusionMatrixDisplay at 0x7f5777d1f370>"
            ]
          },
          "metadata": {},
          "execution_count": 27
        },
        {
          "output_type": "display_data",
          "data": {
            "text/plain": [
              "<Figure size 640x480 with 2 Axes>"
            ],
            "image/png": "[encoded data removed]"
          },
          "metadata": {}
        }
      ]
    },
    {
      "cell_type": "code",
      "source": [],
      "metadata": {
        "id": "vv5CDKnxOa2s"
      },
      "id": "vv5CDKnxOa2s",
      "execution_count": null,
      "outputs": []
    }
  ],
  "metadata": {
    "kernelspec": {
      "display_name": "Python 3 (ipykernel)",
      "language": "python",
      "name": "python3"
    },
    "language_info": {
      "codemirror_mode": {
        "name": "ipython",
        "version": 3
      },
      "file_extension": ".py",
      "mimetype": "text/x-python",
      "name": "python",
      "nbconvert_exporter": "python",
      "pygments_lexer": "ipython3",
      "version": "3.10.9"
    },
    "colab": {
      "provenance": [],
      "include_colab_link": true
    }
  },
  "nbformat": 4,
  "nbformat_minor": 5
}