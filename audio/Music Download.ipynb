{
 "cells": [
  {
   "cell_type": "code",
   "execution_count": 1,
   "metadata": {},
   "outputs": [],
   "source": [
    "from urllib.request import urlopen\n",
    "import pandas as pd\n",
    "import os"
   ]
  },
  {
   "cell_type": "code",
   "execution_count": 3,
   "metadata": {},
   "outputs": [],
   "source": [
    "import requests"
   ]
  },
  {
   "cell_type": "code",
   "execution_count": 5,
   "metadata": {},
   "outputs": [],
   "source": [
    "path = 'D:\\\\Spring2023\\\\Machine Learning\\\\Final Project\\\\Playlist by Genre\\\\'\n",
    "def download_music(path, genre):\n",
    "    genre_df = pd.read_csv(path + genre + '.csv', usecols=['id','preview_url'], keep_default_na=False)\n",
    "    for index, id, url in genre_df.itertuples():\n",
    "        if not url:\n",
    "            continue\n",
    "\n",
    "        file_extension = '.wav'\n",
    "        r = requests.get(url)\n",
    "        last_part = url.split(\"/\")[-1]\n",
    "        end_idx = last_part.index(\"?\")\n",
    "        last_url_path = last_part[:end_idx]\n",
    "\n",
    "        if file_extension not in last_url_path:\n",
    "            filename = f'{last_url_path}{file_extension}'\n",
    "        # Else take the last part of the url as filename\n",
    "        else:\n",
    "            filename = last_url_path\n",
    "\n",
    "        with open(filename, 'wb') as f:\n",
    "            # You will get the file in base64 as content\n",
    "            f.write(r.content)\n",
    "    print(\"download finish\")"
   ]
  },
  {
   "cell_type": "code",
   "execution_count": 6,
   "metadata": {},
   "outputs": [],
   "source": [
    "download_music(path,\"alternative\")"
   ]
  },
  {
   "cell_type": "code",
   "execution_count": 7,
   "metadata": {},
   "outputs": [],
   "source": [
    "download_music(path,\"blues\")"
   ]
  },
  {
   "cell_type": "code",
   "execution_count": 8,
   "metadata": {},
   "outputs": [],
   "source": [
    "download_music(path,\"classical\")"
   ]
  },
  {
   "cell_type": "code",
   "execution_count": 9,
   "metadata": {},
   "outputs": [],
   "source": [
    "download_music(path,\"disco\")"
   ]
  },
  {
   "cell_type": "code",
   "execution_count": 10,
   "metadata": {},
   "outputs": [],
   "source": [
    "download_music(path,\"electronic\")"
   ]
  },
  {
   "cell_type": "code",
   "execution_count": 11,
   "metadata": {},
   "outputs": [],
   "source": [
    "download_music(path,\"folk\")"
   ]
  },
  {
   "cell_type": "code",
   "execution_count": 12,
   "metadata": {},
   "outputs": [],
   "source": [
    "download_music(path,\"hiphop\")"
   ]
  },
  {
   "cell_type": "code",
   "execution_count": 13,
   "metadata": {},
   "outputs": [],
   "source": [
    "download_music(path,\"jazz\")"
   ]
  },
  {
   "cell_type": "code",
   "execution_count": 14,
   "metadata": {},
   "outputs": [],
   "source": [
    "download_music(path,\"pop\")"
   ]
  },
  {
   "cell_type": "code",
   "execution_count": 15,
   "metadata": {},
   "outputs": [],
   "source": [
    "download_music(path,\"rock\")"
   ]
  },
  {
   "cell_type": "code",
   "execution_count": null,
   "metadata": {},
   "outputs": [],
   "source": []
  }
 ],
 "metadata": {
  "kernelspec": {
   "display_name": "Python 3 (ipykernel)",
   "language": "python",
   "name": "python3"
  },
  "language_info": {
   "codemirror_mode": {
    "name": "ipython",
    "version": 3
   },
   "file_extension": ".py",
   "mimetype": "text/x-python",
   "name": "python",
   "nbconvert_exporter": "python",
   "pygments_lexer": "ipython3",
   "version": "3.10.9"
  }
 },
 "nbformat": 4,
 "nbformat_minor": 4
}
