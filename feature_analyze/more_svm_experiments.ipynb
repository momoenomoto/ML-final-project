{
 "cells": [
  {
   "cell_type": "code",
   "execution_count": 1,
   "metadata": {},
   "outputs": [],
   "source": [
    "import pandas as pd\n",
    "import seaborn as sns\n",
    "import numpy as np\n",
    "import matplotlib.pyplot as plt"
   ]
  },
  {
   "cell_type": "code",
   "execution_count": 2,
   "metadata": {},
   "outputs": [],
   "source": [
    "from sklearn.preprocessing import MinMaxScaler\n",
    "from sklearn.preprocessing import LabelEncoder\n",
    "from sklearn.decomposition import PCA\n",
    "from sklearn.model_selection import train_test_split\n",
    "from sklearn.metrics import classification_report\n",
    "from sklearn.metrics import plot_confusion_matrix\n",
    "from sklearn.metrics import confusion_matrix\n",
    "from sklearn.model_selection import GridSearchCV\n",
    "from sklearn.neighbors import KNeighborsClassifier\n",
    "from sklearn.linear_model import LogisticRegression\n",
    "from sklearn.svm import SVC\n",
    "from sklearn.metrics import accuracy_score\n",
    "from sklearn.pipeline import Pipeline"
   ]
  },
  {
   "cell_type": "code",
   "execution_count": 4,
   "metadata": {},
   "outputs": [],
   "source": [
    "le = LabelEncoder()"
   ]
  },
  {
   "cell_type": "code",
   "execution_count": 3,
   "metadata": {},
   "outputs": [],
   "source": [
    "df = pd.read_csv('all_data_no_duplicates_equal_size.csv', index_col=0)"
   ]
  },
  {
   "cell_type": "code",
   "execution_count": 5,
   "metadata": {},
   "outputs": [],
   "source": [
    "le.fit(df['genre'])\n",
    "df[\"genre\"] = le.transform(df['genre'])"
   ]
  },
  {
   "cell_type": "code",
   "execution_count": 6,
   "metadata": {},
   "outputs": [],
   "source": [
    "X = df.drop(['genre'], axis=1)\n",
    "y = df['genre']"
   ]
  },
  {
   "cell_type": "code",
   "execution_count": 7,
   "metadata": {},
   "outputs": [],
   "source": [
    "X_train, X_test, y_train, y_test = train_test_split(X, y, test_size=0.33, stratify=y, random_state=0)"
   ]
  },
  {
   "cell_type": "code",
   "execution_count": 8,
   "metadata": {},
   "outputs": [],
   "source": [
    "svm = SVC()\n",
    "scaler = MinMaxScaler()\n",
    "pca = PCA()"
   ]
  },
  {
   "cell_type": "code",
   "execution_count": 11,
   "metadata": {},
   "outputs": [
    {
     "name": "stdout",
     "output_type": "stream",
     "text": [
      "Fitting 10 folds for each of 64 candidates, totalling 640 fits\n",
      "Best parameter (CV score=0.717):\n",
      "{'pca__n_components': 40, 'svm__C': 10, 'svm__gamma': 0.1, 'svm__kernel': 'rbf'}\n",
      "0.7165692577440093\n"
     ]
    }
   ],
   "source": [
    "pipeSVM = Pipeline(steps=[(\"scaler\", scaler), (\"pca\", pca), (\"svm\", svm)])\n",
    "\n",
    "param_grid_svm = {\n",
    "    \"pca__n_components\": [30, 35, 40, 45, 50],\n",
    "    \"svm__C\": [0.1, 1, 10, 100], \n",
    "    \"svm__gamma\": [1, 0.1, 0.01, 0.001],\n",
    "    \"svm__kernel\": ['rbf'],\n",
    "}\n",
    "\n",
    "search_svm = GridSearchCV(pipeSVM, param_grid_svm, cv=10, scoring='accuracy', verbose=1)\n",
    "search_svm.fit(X_train, y_train)\n",
    "print(\"Best parameter (CV score=%0.3f):\" % search_svm.best_score_)\n",
    "print(search_svm.best_params_)\n",
    "print(search_svm.best_score_)"
   ]
  },
  {
   "cell_type": "code",
   "execution_count": 12,
   "metadata": {},
   "outputs": [
    {
     "name": "stdout",
     "output_type": "stream",
     "text": [
      "Fitting 10 folds for each of 80 candidates, totalling 800 fits\n",
      "Best parameter (CV score=0.717):\n",
      "{'pca__n_components': 40, 'svm__C': 10, 'svm__gamma': 0.1, 'svm__kernel': 'rbf'}\n",
      "0.7165400350672122\n"
     ]
    }
   ],
   "source": [
    "pipeSVM = Pipeline(steps=[(\"scaler\", scaler), (\"pca\", pca), (\"svm\", svm)])\n",
    "\n",
    "param_grid_svm = {\n",
    "    \"pca__n_components\": [30, 35, 40, 45, 50],\n",
    "    \"svm__C\": [0.1, 1, 10, 100], \n",
    "    \"svm__gamma\": [1, 0.1, 0.01, 0.001],\n",
    "    \"svm__kernel\": ['rbf'],\n",
    "}\n",
    "\n",
    "search_svm = GridSearchCV(pipeSVM, param_grid_svm, cv=10, scoring='accuracy', verbose=1)\n",
    "search_svm.fit(X_train, y_train)\n",
    "print(\"Best parameter (CV score=%0.3f):\" % search_svm.best_score_)\n",
    "print(search_svm.best_params_)\n",
    "print(search_svm.best_score_)"
   ]
  },
  {
   "cell_type": "code",
   "execution_count": null,
   "metadata": {},
   "outputs": [],
   "source": []
  }
 ],
 "metadata": {
  "kernelspec": {
   "display_name": "Python 3",
   "language": "python",
   "name": "python3"
  },
  "language_info": {
   "codemirror_mode": {
    "name": "ipython",
    "version": 3
   },
   "file_extension": ".py",
   "mimetype": "text/x-python",
   "name": "python",
   "nbconvert_exporter": "python",
   "pygments_lexer": "ipython3",
   "version": "3.9.1"
  },
  "orig_nbformat": 4
 },
 "nbformat": 4,
 "nbformat_minor": 2
}
