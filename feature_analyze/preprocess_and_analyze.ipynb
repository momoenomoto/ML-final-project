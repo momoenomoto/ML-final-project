{
 "cells": [
  {
   "cell_type": "code",
   "execution_count": 1,
   "metadata": {},
   "outputs": [],
   "source": [
    "import pandas as pd\n",
    "import seaborn as sns\n",
    "import numpy as np\n",
    "import matplotlib.pyplot as plt"
   ]
  },
  {
   "cell_type": "code",
   "execution_count": 20,
   "metadata": {},
   "outputs": [],
   "source": [
    "from sklearn.preprocessing import MinMaxScaler\n",
    "from sklearn.preprocessing import LabelEncoder\n",
    "from sklearn.decomposition import PCA\n",
    "from sklearn.model_selection import train_test_split\n",
    "from sklearn.metrics import classification_report\n",
    "from sklearn.metrics import plot_confusion_matrix\n",
    "from sklearn.metrics import confusion_matrix\n",
    "from sklearn.model_selection import GridSearchCV\n",
    "from sklearn.neighbors import KNeighborsClassifier\n",
    "from sklearn.svm import SVC\n",
    "from sklearn.metrics import accuracy_score"
   ]
  },
  {
   "cell_type": "code",
   "execution_count": 3,
   "metadata": {},
   "outputs": [],
   "source": [
    "df = pd.read_csv('all_data_no_duplicates_equal_size.csv', index_col=0)"
   ]
  },
  {
   "cell_type": "code",
   "execution_count": 4,
   "metadata": {},
   "outputs": [
    {
     "data": {
      "text/html": [
       "<div>\n",
       "<style scoped>\n",
       "    .dataframe tbody tr th:only-of-type {\n",
       "        vertical-align: middle;\n",
       "    }\n",
       "\n",
       "    .dataframe tbody tr th {\n",
       "        vertical-align: top;\n",
       "    }\n",
       "\n",
       "    .dataframe thead th {\n",
       "        text-align: right;\n",
       "    }\n",
       "</style>\n",
       "<table border=\"1\" class=\"dataframe\">\n",
       "  <thead>\n",
       "    <tr style=\"text-align: right;\">\n",
       "      <th></th>\n",
       "      <th>mfcc_a_0</th>\n",
       "      <th>mfcc_a_1</th>\n",
       "      <th>mfcc_a_2</th>\n",
       "      <th>mfcc_a_3</th>\n",
       "      <th>mfcc_a_4</th>\n",
       "      <th>mfcc_a_5</th>\n",
       "      <th>mfcc_a_6</th>\n",
       "      <th>mfcc_a_7</th>\n",
       "      <th>mfcc_a_8</th>\n",
       "      <th>mfcc_a_9</th>\n",
       "      <th>...</th>\n",
       "      <th>onset_a</th>\n",
       "      <th>onset_std</th>\n",
       "      <th>bpm</th>\n",
       "      <th>rmseP_skew</th>\n",
       "      <th>rmseP_kurtosis</th>\n",
       "      <th>rmseH_skew</th>\n",
       "      <th>rmseH_kurtosis</th>\n",
       "      <th>beats_a</th>\n",
       "      <th>beats_std</th>\n",
       "      <th>genre</th>\n",
       "    </tr>\n",
       "    <tr>\n",
       "      <th>song_id</th>\n",
       "      <th></th>\n",
       "      <th></th>\n",
       "      <th></th>\n",
       "      <th></th>\n",
       "      <th></th>\n",
       "      <th></th>\n",
       "      <th></th>\n",
       "      <th></th>\n",
       "      <th></th>\n",
       "      <th></th>\n",
       "      <th></th>\n",
       "      <th></th>\n",
       "      <th></th>\n",
       "      <th></th>\n",
       "      <th></th>\n",
       "      <th></th>\n",
       "      <th></th>\n",
       "      <th></th>\n",
       "      <th></th>\n",
       "      <th></th>\n",
       "      <th></th>\n",
       "    </tr>\n",
       "  </thead>\n",
       "  <tbody>\n",
       "    <tr>\n",
       "      <th>17bf8d5f74d4e53a3f918263da27600ba0e555b5</th>\n",
       "      <td>-131.34530</td>\n",
       "      <td>154.44778</td>\n",
       "      <td>-46.625813</td>\n",
       "      <td>55.491830</td>\n",
       "      <td>-2.969374</td>\n",
       "      <td>28.455832</td>\n",
       "      <td>-11.929317</td>\n",
       "      <td>9.539672</td>\n",
       "      <td>4.456010</td>\n",
       "      <td>9.052435</td>\n",
       "      <td>...</td>\n",
       "      <td>1.541892</td>\n",
       "      <td>1.521225</td>\n",
       "      <td>132.512019</td>\n",
       "      <td>1.070878</td>\n",
       "      <td>1.396955</td>\n",
       "      <td>0.741772</td>\n",
       "      <td>1.111939</td>\n",
       "      <td>14.542479</td>\n",
       "      <td>8.524608</td>\n",
       "      <td>blues</td>\n",
       "    </tr>\n",
       "    <tr>\n",
       "      <th>80822cc306bcf4d6ce727ed9b185382183590feb</th>\n",
       "      <td>-216.48515</td>\n",
       "      <td>159.88239</td>\n",
       "      <td>-53.843456</td>\n",
       "      <td>41.647510</td>\n",
       "      <td>4.802261</td>\n",
       "      <td>6.194261</td>\n",
       "      <td>-0.619864</td>\n",
       "      <td>1.253317</td>\n",
       "      <td>5.258920</td>\n",
       "      <td>9.118914</td>\n",
       "      <td>...</td>\n",
       "      <td>1.589639</td>\n",
       "      <td>1.765213</td>\n",
       "      <td>117.453835</td>\n",
       "      <td>1.569087</td>\n",
       "      <td>2.719492</td>\n",
       "      <td>0.010281</td>\n",
       "      <td>-0.229946</td>\n",
       "      <td>14.460827</td>\n",
       "      <td>8.436646</td>\n",
       "      <td>blues</td>\n",
       "    </tr>\n",
       "    <tr>\n",
       "      <th>fe86aae90064f43dd3c9ccc2271fd3570ea8d530</th>\n",
       "      <td>-97.64007</td>\n",
       "      <td>137.78816</td>\n",
       "      <td>-43.407673</td>\n",
       "      <td>57.867115</td>\n",
       "      <td>-17.740084</td>\n",
       "      <td>48.168274</td>\n",
       "      <td>-20.405445</td>\n",
       "      <td>14.013074</td>\n",
       "      <td>-11.915717</td>\n",
       "      <td>13.601735</td>\n",
       "      <td>...</td>\n",
       "      <td>1.332900</td>\n",
       "      <td>0.778537</td>\n",
       "      <td>123.046875</td>\n",
       "      <td>1.270062</td>\n",
       "      <td>1.725401</td>\n",
       "      <td>0.076682</td>\n",
       "      <td>-0.120848</td>\n",
       "      <td>14.568310</td>\n",
       "      <td>8.531551</td>\n",
       "      <td>blues</td>\n",
       "    </tr>\n",
       "    <tr>\n",
       "      <th>8a36fef7cc58e415b09f472062d529ad75f6888a</th>\n",
       "      <td>-218.33733</td>\n",
       "      <td>139.85650</td>\n",
       "      <td>-46.182710</td>\n",
       "      <td>29.928583</td>\n",
       "      <td>-5.652246</td>\n",
       "      <td>26.629574</td>\n",
       "      <td>-6.704617</td>\n",
       "      <td>15.074043</td>\n",
       "      <td>0.800906</td>\n",
       "      <td>0.926584</td>\n",
       "      <td>...</td>\n",
       "      <td>1.527841</td>\n",
       "      <td>1.310864</td>\n",
       "      <td>132.512019</td>\n",
       "      <td>1.251199</td>\n",
       "      <td>1.432018</td>\n",
       "      <td>1.522334</td>\n",
       "      <td>2.031958</td>\n",
       "      <td>14.527072</td>\n",
       "      <td>8.542730</td>\n",
       "      <td>blues</td>\n",
       "    </tr>\n",
       "    <tr>\n",
       "      <th>6a90012a2f47eb44abcaf1641683f86425713e40</th>\n",
       "      <td>-137.82199</td>\n",
       "      <td>145.93646</td>\n",
       "      <td>-52.225964</td>\n",
       "      <td>44.550194</td>\n",
       "      <td>-5.257767</td>\n",
       "      <td>24.834461</td>\n",
       "      <td>-7.554444</td>\n",
       "      <td>12.882658</td>\n",
       "      <td>4.022466</td>\n",
       "      <td>11.714938</td>\n",
       "      <td>...</td>\n",
       "      <td>1.525155</td>\n",
       "      <td>1.458287</td>\n",
       "      <td>89.102909</td>\n",
       "      <td>2.108472</td>\n",
       "      <td>5.425519</td>\n",
       "      <td>0.541542</td>\n",
       "      <td>1.362728</td>\n",
       "      <td>14.487932</td>\n",
       "      <td>8.556227</td>\n",
       "      <td>blues</td>\n",
       "    </tr>\n",
       "  </tbody>\n",
       "</table>\n",
       "<p>5 rows × 80 columns</p>\n",
       "</div>"
      ],
      "text/plain": [
       "                                           mfcc_a_0   mfcc_a_1   mfcc_a_2  \\\n",
       "song_id                                                                     \n",
       "17bf8d5f74d4e53a3f918263da27600ba0e555b5 -131.34530  154.44778 -46.625813   \n",
       "80822cc306bcf4d6ce727ed9b185382183590feb -216.48515  159.88239 -53.843456   \n",
       "fe86aae90064f43dd3c9ccc2271fd3570ea8d530  -97.64007  137.78816 -43.407673   \n",
       "8a36fef7cc58e415b09f472062d529ad75f6888a -218.33733  139.85650 -46.182710   \n",
       "6a90012a2f47eb44abcaf1641683f86425713e40 -137.82199  145.93646 -52.225964   \n",
       "\n",
       "                                           mfcc_a_3   mfcc_a_4   mfcc_a_5  \\\n",
       "song_id                                                                     \n",
       "17bf8d5f74d4e53a3f918263da27600ba0e555b5  55.491830  -2.969374  28.455832   \n",
       "80822cc306bcf4d6ce727ed9b185382183590feb  41.647510   4.802261   6.194261   \n",
       "fe86aae90064f43dd3c9ccc2271fd3570ea8d530  57.867115 -17.740084  48.168274   \n",
       "8a36fef7cc58e415b09f472062d529ad75f6888a  29.928583  -5.652246  26.629574   \n",
       "6a90012a2f47eb44abcaf1641683f86425713e40  44.550194  -5.257767  24.834461   \n",
       "\n",
       "                                           mfcc_a_6   mfcc_a_7   mfcc_a_8  \\\n",
       "song_id                                                                     \n",
       "17bf8d5f74d4e53a3f918263da27600ba0e555b5 -11.929317   9.539672   4.456010   \n",
       "80822cc306bcf4d6ce727ed9b185382183590feb  -0.619864   1.253317   5.258920   \n",
       "fe86aae90064f43dd3c9ccc2271fd3570ea8d530 -20.405445  14.013074 -11.915717   \n",
       "8a36fef7cc58e415b09f472062d529ad75f6888a  -6.704617  15.074043   0.800906   \n",
       "6a90012a2f47eb44abcaf1641683f86425713e40  -7.554444  12.882658   4.022466   \n",
       "\n",
       "                                           mfcc_a_9  ...   onset_a  onset_std  \\\n",
       "song_id                                              ...                        \n",
       "17bf8d5f74d4e53a3f918263da27600ba0e555b5   9.052435  ...  1.541892   1.521225   \n",
       "80822cc306bcf4d6ce727ed9b185382183590feb   9.118914  ...  1.589639   1.765213   \n",
       "fe86aae90064f43dd3c9ccc2271fd3570ea8d530  13.601735  ...  1.332900   0.778537   \n",
       "8a36fef7cc58e415b09f472062d529ad75f6888a   0.926584  ...  1.527841   1.310864   \n",
       "6a90012a2f47eb44abcaf1641683f86425713e40  11.714938  ...  1.525155   1.458287   \n",
       "\n",
       "                                                 bpm  rmseP_skew  \\\n",
       "song_id                                                            \n",
       "17bf8d5f74d4e53a3f918263da27600ba0e555b5  132.512019    1.070878   \n",
       "80822cc306bcf4d6ce727ed9b185382183590feb  117.453835    1.569087   \n",
       "fe86aae90064f43dd3c9ccc2271fd3570ea8d530  123.046875    1.270062   \n",
       "8a36fef7cc58e415b09f472062d529ad75f6888a  132.512019    1.251199   \n",
       "6a90012a2f47eb44abcaf1641683f86425713e40   89.102909    2.108472   \n",
       "\n",
       "                                          rmseP_kurtosis  rmseH_skew  \\\n",
       "song_id                                                                \n",
       "17bf8d5f74d4e53a3f918263da27600ba0e555b5        1.396955    0.741772   \n",
       "80822cc306bcf4d6ce727ed9b185382183590feb        2.719492    0.010281   \n",
       "fe86aae90064f43dd3c9ccc2271fd3570ea8d530        1.725401    0.076682   \n",
       "8a36fef7cc58e415b09f472062d529ad75f6888a        1.432018    1.522334   \n",
       "6a90012a2f47eb44abcaf1641683f86425713e40        5.425519    0.541542   \n",
       "\n",
       "                                          rmseH_kurtosis    beats_a  \\\n",
       "song_id                                                               \n",
       "17bf8d5f74d4e53a3f918263da27600ba0e555b5        1.111939  14.542479   \n",
       "80822cc306bcf4d6ce727ed9b185382183590feb       -0.229946  14.460827   \n",
       "fe86aae90064f43dd3c9ccc2271fd3570ea8d530       -0.120848  14.568310   \n",
       "8a36fef7cc58e415b09f472062d529ad75f6888a        2.031958  14.527072   \n",
       "6a90012a2f47eb44abcaf1641683f86425713e40        1.362728  14.487932   \n",
       "\n",
       "                                          beats_std  genre  \n",
       "song_id                                                     \n",
       "17bf8d5f74d4e53a3f918263da27600ba0e555b5   8.524608  blues  \n",
       "80822cc306bcf4d6ce727ed9b185382183590feb   8.436646  blues  \n",
       "fe86aae90064f43dd3c9ccc2271fd3570ea8d530   8.531551  blues  \n",
       "8a36fef7cc58e415b09f472062d529ad75f6888a   8.542730  blues  \n",
       "6a90012a2f47eb44abcaf1641683f86425713e40   8.556227  blues  \n",
       "\n",
       "[5 rows x 80 columns]"
      ]
     },
     "execution_count": 4,
     "metadata": {},
     "output_type": "execute_result"
    }
   ],
   "source": [
    "df.head()"
   ]
  },
  {
   "attachments": {},
   "cell_type": "markdown",
   "metadata": {},
   "source": [
    "## Train Test Split"
   ]
  },
  {
   "attachments": {},
   "cell_type": "markdown",
   "metadata": {},
   "source": [
    "Split data first to avoid data leakage."
   ]
  },
  {
   "cell_type": "code",
   "execution_count": 5,
   "metadata": {},
   "outputs": [],
   "source": [
    "X = df.drop(['genre'], axis=1)\n",
    "y = df['genre']"
   ]
  },
  {
   "cell_type": "code",
   "execution_count": 6,
   "metadata": {},
   "outputs": [],
   "source": [
    "X_train, X_test, y_train, y_test = train_test_split(X, y, test_size=0.33, stratify=y, random_state=0)"
   ]
  },
  {
   "attachments": {},
   "cell_type": "markdown",
   "metadata": {},
   "source": [
    "## Add Encoded Label"
   ]
  },
  {
   "cell_type": "code",
   "execution_count": 7,
   "metadata": {},
   "outputs": [
    {
     "data": {
      "text/plain": [
       "LabelEncoder()"
      ]
     },
     "execution_count": 7,
     "metadata": {},
     "output_type": "execute_result"
    }
   ],
   "source": [
    "le = LabelEncoder()\n",
    "le.fit(y_train)"
   ]
  },
  {
   "cell_type": "code",
   "execution_count": 8,
   "metadata": {},
   "outputs": [
    {
     "data": {
      "text/plain": [
       "{'blues': 0,\n",
       " 'classical': 1,\n",
       " 'disco': 2,\n",
       " 'electronic': 3,\n",
       " 'hiphop': 4,\n",
       " 'jazz': 5,\n",
       " 'pop': 6,\n",
       " 'rock': 7}"
      ]
     },
     "execution_count": 8,
     "metadata": {},
     "output_type": "execute_result"
    }
   ],
   "source": [
    "integer_mapping = {l: i for i, l in enumerate(le.classes_)}\n",
    "integer_mapping"
   ]
  },
  {
   "cell_type": "code",
   "execution_count": 9,
   "metadata": {},
   "outputs": [],
   "source": [
    "y_train = le.transform(y_train)"
   ]
  },
  {
   "attachments": {},
   "cell_type": "markdown",
   "metadata": {},
   "source": [
    "## Normalize Data"
   ]
  },
  {
   "cell_type": "code",
   "execution_count": 10,
   "metadata": {},
   "outputs": [
    {
     "data": {
      "text/plain": [
       "MinMaxScaler()"
      ]
     },
     "execution_count": 10,
     "metadata": {},
     "output_type": "execute_result"
    }
   ],
   "source": [
    "scaler = MinMaxScaler()\n",
    "scaler.fit(X_train)"
   ]
  },
  {
   "cell_type": "code",
   "execution_count": 11,
   "metadata": {},
   "outputs": [
    {
     "data": {
      "text/plain": [
       "array([[0.72421513, 0.59108237, 0.19782452, ..., 0.05358386, 0.71193438,\n",
       "        0.83544622],\n",
       "       [0.79813827, 0.49151313, 0.42019212, ..., 0.01889095, 0.7775551 ,\n",
       "        0.89224038],\n",
       "       [0.88867823, 0.4752002 , 0.22055826, ..., 0.03955386, 0.77787513,\n",
       "        0.83587753],\n",
       "       ...,\n",
       "       [0.89029076, 0.44432169, 0.18342791, ..., 0.03750217, 0.7433581 ,\n",
       "        0.89459902],\n",
       "       [0.75147139, 0.64526921, 0.36018344, ..., 0.02056444, 0.79299933,\n",
       "        0.83877967],\n",
       "       [0.54623376, 0.65068471, 0.23994259, ..., 0.21766329, 0.79570906,\n",
       "        0.81993317]])"
      ]
     },
     "execution_count": 11,
     "metadata": {},
     "output_type": "execute_result"
    }
   ],
   "source": [
    "X_train_scaled = scaler.transform(X_train)\n",
    "X_train_scaled"
   ]
  },
  {
   "cell_type": "code",
   "execution_count": 12,
   "metadata": {},
   "outputs": [
    {
     "data": {
      "text/plain": [
       "(589, 79)"
      ]
     },
     "execution_count": 12,
     "metadata": {},
     "output_type": "execute_result"
    }
   ],
   "source": [
    "X_train_scaled.shape"
   ]
  },
  {
   "attachments": {},
   "cell_type": "markdown",
   "metadata": {},
   "source": [
    "## PCA - Dimension Reduction"
   ]
  },
  {
   "cell_type": "code",
   "execution_count": 13,
   "metadata": {},
   "outputs": [
    {
     "data": {
      "text/plain": [
       "PCA(n_components=20)"
      ]
     },
     "execution_count": 13,
     "metadata": {},
     "output_type": "execute_result"
    }
   ],
   "source": [
    "pca = PCA(n_components=20) \n",
    "pca.fit(X_train_scaled)"
   ]
  },
  {
   "cell_type": "code",
   "execution_count": 14,
   "metadata": {},
   "outputs": [],
   "source": [
    "X_train_PC = pca.transform(X_train_scaled)"
   ]
  },
  {
   "cell_type": "code",
   "execution_count": 15,
   "metadata": {},
   "outputs": [],
   "source": [
    "principalDf = pd.DataFrame(data = X_train_PC, columns = ['pc1', 'pc2', 'pc3', 'pc4', 'pc5', 'pc6', 'pc7', 'pc8', 'pc9', 'pc10', 'pc11', 'pc12', 'pc13', 'pc14', 'pc15', 'pc16', 'pc17', 'pc18', 'pc19', 'pc20'])"
   ]
  },
  {
   "cell_type": "code",
   "execution_count": 16,
   "metadata": {},
   "outputs": [
    {
     "data": {
      "text/plain": [
       "<BarContainer object of 20 artists>"
      ]
     },
     "execution_count": 16,
     "metadata": {},
     "output_type": "execute_result"
    },
    {
     "data": {
      "image/png": "[encoded data removed]",
      "text/plain": [
       "<Figure size 432x288 with 1 Axes>"
      ]
     },
     "metadata": {
      "needs_background": "light"
     },
     "output_type": "display_data"
    }
   ],
   "source": [
    "plt.bar(principalDf.columns, pca.explained_variance_ratio_)"
   ]
  },
  {
   "cell_type": "code",
   "execution_count": 17,
   "metadata": {},
   "outputs": [
    {
     "data": {
      "text/plain": [
       "0.8489399718054322"
      ]
     },
     "execution_count": 17,
     "metadata": {},
     "output_type": "execute_result"
    }
   ],
   "source": [
    "sum(pca.explained_variance_ratio_[0:20])"
   ]
  },
  {
   "attachments": {},
   "cell_type": "markdown",
   "metadata": {},
   "source": [
    "First 20 PCs account for 85% of variance."
   ]
  },
  {
   "cell_type": "code",
   "execution_count": 18,
   "metadata": {},
   "outputs": [
    {
     "data": {
      "text/html": [
       "<div>\n",
       "<style scoped>\n",
       "    .dataframe tbody tr th:only-of-type {\n",
       "        vertical-align: middle;\n",
       "    }\n",
       "\n",
       "    .dataframe tbody tr th {\n",
       "        vertical-align: top;\n",
       "    }\n",
       "\n",
       "    .dataframe thead th {\n",
       "        text-align: right;\n",
       "    }\n",
       "</style>\n",
       "<table border=\"1\" class=\"dataframe\">\n",
       "  <thead>\n",
       "    <tr style=\"text-align: right;\">\n",
       "      <th></th>\n",
       "      <th>pc1</th>\n",
       "      <th>pc2</th>\n",
       "      <th>pc3</th>\n",
       "      <th>pc4</th>\n",
       "      <th>pc5</th>\n",
       "      <th>pc6</th>\n",
       "      <th>pc7</th>\n",
       "      <th>pc8</th>\n",
       "      <th>pc9</th>\n",
       "      <th>pc10</th>\n",
       "      <th>pc11</th>\n",
       "      <th>pc12</th>\n",
       "      <th>pc13</th>\n",
       "      <th>pc14</th>\n",
       "      <th>pc15</th>\n",
       "      <th>pc16</th>\n",
       "      <th>pc17</th>\n",
       "      <th>pc18</th>\n",
       "      <th>pc19</th>\n",
       "      <th>pc20</th>\n",
       "    </tr>\n",
       "  </thead>\n",
       "  <tbody>\n",
       "    <tr>\n",
       "      <th>0</th>\n",
       "      <td>-0.017265</td>\n",
       "      <td>0.073234</td>\n",
       "      <td>0.235378</td>\n",
       "      <td>0.337747</td>\n",
       "      <td>0.135218</td>\n",
       "      <td>-0.086882</td>\n",
       "      <td>-0.060840</td>\n",
       "      <td>-0.357947</td>\n",
       "      <td>-0.122165</td>\n",
       "      <td>-0.032167</td>\n",
       "      <td>0.256323</td>\n",
       "      <td>-0.160945</td>\n",
       "      <td>0.236770</td>\n",
       "      <td>0.062168</td>\n",
       "      <td>0.027008</td>\n",
       "      <td>0.091937</td>\n",
       "      <td>0.198494</td>\n",
       "      <td>0.082511</td>\n",
       "      <td>-0.099987</td>\n",
       "      <td>-0.036501</td>\n",
       "    </tr>\n",
       "    <tr>\n",
       "      <th>1</th>\n",
       "      <td>-0.853209</td>\n",
       "      <td>0.503111</td>\n",
       "      <td>-1.062490</td>\n",
       "      <td>-0.110682</td>\n",
       "      <td>-0.017323</td>\n",
       "      <td>0.085556</td>\n",
       "      <td>0.062203</td>\n",
       "      <td>0.226820</td>\n",
       "      <td>-0.757619</td>\n",
       "      <td>0.059778</td>\n",
       "      <td>0.349063</td>\n",
       "      <td>0.313811</td>\n",
       "      <td>0.249408</td>\n",
       "      <td>-0.061995</td>\n",
       "      <td>0.461120</td>\n",
       "      <td>0.027295</td>\n",
       "      <td>-0.004298</td>\n",
       "      <td>0.122174</td>\n",
       "      <td>0.095083</td>\n",
       "      <td>-0.053202</td>\n",
       "    </tr>\n",
       "    <tr>\n",
       "      <th>2</th>\n",
       "      <td>-1.071746</td>\n",
       "      <td>0.398660</td>\n",
       "      <td>0.152159</td>\n",
       "      <td>0.352237</td>\n",
       "      <td>0.249050</td>\n",
       "      <td>0.002128</td>\n",
       "      <td>-0.384163</td>\n",
       "      <td>-0.111942</td>\n",
       "      <td>-0.299720</td>\n",
       "      <td>-0.075336</td>\n",
       "      <td>0.484703</td>\n",
       "      <td>0.072586</td>\n",
       "      <td>-0.273931</td>\n",
       "      <td>-0.246006</td>\n",
       "      <td>-0.001800</td>\n",
       "      <td>0.183615</td>\n",
       "      <td>0.204479</td>\n",
       "      <td>-0.118018</td>\n",
       "      <td>-0.170886</td>\n",
       "      <td>0.175325</td>\n",
       "    </tr>\n",
       "    <tr>\n",
       "      <th>3</th>\n",
       "      <td>0.786546</td>\n",
       "      <td>0.958698</td>\n",
       "      <td>0.661862</td>\n",
       "      <td>0.389581</td>\n",
       "      <td>-0.022711</td>\n",
       "      <td>0.311274</td>\n",
       "      <td>-0.098250</td>\n",
       "      <td>-0.233877</td>\n",
       "      <td>0.320022</td>\n",
       "      <td>0.524698</td>\n",
       "      <td>0.822237</td>\n",
       "      <td>-0.294817</td>\n",
       "      <td>-0.323149</td>\n",
       "      <td>0.458129</td>\n",
       "      <td>-0.255308</td>\n",
       "      <td>-0.281866</td>\n",
       "      <td>-0.337613</td>\n",
       "      <td>0.535445</td>\n",
       "      <td>0.095215</td>\n",
       "      <td>0.247379</td>\n",
       "    </tr>\n",
       "    <tr>\n",
       "      <th>4</th>\n",
       "      <td>1.448522</td>\n",
       "      <td>0.144797</td>\n",
       "      <td>0.347733</td>\n",
       "      <td>0.345240</td>\n",
       "      <td>-0.648344</td>\n",
       "      <td>0.134018</td>\n",
       "      <td>-0.141322</td>\n",
       "      <td>0.000801</td>\n",
       "      <td>-0.037219</td>\n",
       "      <td>0.003257</td>\n",
       "      <td>0.153738</td>\n",
       "      <td>0.172846</td>\n",
       "      <td>-0.060770</td>\n",
       "      <td>-0.040095</td>\n",
       "      <td>-0.143955</td>\n",
       "      <td>0.001852</td>\n",
       "      <td>-0.317747</td>\n",
       "      <td>0.041268</td>\n",
       "      <td>0.245371</td>\n",
       "      <td>0.005068</td>\n",
       "    </tr>\n",
       "    <tr>\n",
       "      <th>...</th>\n",
       "      <td>...</td>\n",
       "      <td>...</td>\n",
       "      <td>...</td>\n",
       "      <td>...</td>\n",
       "      <td>...</td>\n",
       "      <td>...</td>\n",
       "      <td>...</td>\n",
       "      <td>...</td>\n",
       "      <td>...</td>\n",
       "      <td>...</td>\n",
       "      <td>...</td>\n",
       "      <td>...</td>\n",
       "      <td>...</td>\n",
       "      <td>...</td>\n",
       "      <td>...</td>\n",
       "      <td>...</td>\n",
       "      <td>...</td>\n",
       "      <td>...</td>\n",
       "      <td>...</td>\n",
       "      <td>...</td>\n",
       "    </tr>\n",
       "    <tr>\n",
       "      <th>584</th>\n",
       "      <td>1.060972</td>\n",
       "      <td>0.573800</td>\n",
       "      <td>-0.186293</td>\n",
       "      <td>0.144333</td>\n",
       "      <td>-0.444950</td>\n",
       "      <td>-0.027416</td>\n",
       "      <td>0.116618</td>\n",
       "      <td>-0.019849</td>\n",
       "      <td>0.116849</td>\n",
       "      <td>0.099256</td>\n",
       "      <td>0.034400</td>\n",
       "      <td>-0.127974</td>\n",
       "      <td>-0.121165</td>\n",
       "      <td>0.343030</td>\n",
       "      <td>-0.055119</td>\n",
       "      <td>0.103183</td>\n",
       "      <td>0.253331</td>\n",
       "      <td>0.033476</td>\n",
       "      <td>-0.183675</td>\n",
       "      <td>0.125118</td>\n",
       "    </tr>\n",
       "    <tr>\n",
       "      <th>585</th>\n",
       "      <td>0.012840</td>\n",
       "      <td>0.758579</td>\n",
       "      <td>-0.205939</td>\n",
       "      <td>0.349576</td>\n",
       "      <td>-0.061084</td>\n",
       "      <td>-0.052708</td>\n",
       "      <td>0.243478</td>\n",
       "      <td>-0.235701</td>\n",
       "      <td>-0.454309</td>\n",
       "      <td>0.163183</td>\n",
       "      <td>0.515622</td>\n",
       "      <td>0.180354</td>\n",
       "      <td>0.137966</td>\n",
       "      <td>0.118047</td>\n",
       "      <td>0.199746</td>\n",
       "      <td>0.200598</td>\n",
       "      <td>0.076662</td>\n",
       "      <td>0.133889</td>\n",
       "      <td>0.071946</td>\n",
       "      <td>0.228734</td>\n",
       "    </tr>\n",
       "    <tr>\n",
       "      <th>586</th>\n",
       "      <td>-0.165722</td>\n",
       "      <td>-0.559592</td>\n",
       "      <td>0.209028</td>\n",
       "      <td>-0.056490</td>\n",
       "      <td>-0.160157</td>\n",
       "      <td>0.625413</td>\n",
       "      <td>0.352789</td>\n",
       "      <td>0.063396</td>\n",
       "      <td>0.005084</td>\n",
       "      <td>0.002976</td>\n",
       "      <td>0.138778</td>\n",
       "      <td>0.004120</td>\n",
       "      <td>0.097807</td>\n",
       "      <td>-0.031154</td>\n",
       "      <td>0.012042</td>\n",
       "      <td>-0.012967</td>\n",
       "      <td>0.121551</td>\n",
       "      <td>0.085314</td>\n",
       "      <td>-0.006083</td>\n",
       "      <td>0.026646</td>\n",
       "    </tr>\n",
       "    <tr>\n",
       "      <th>587</th>\n",
       "      <td>-0.696943</td>\n",
       "      <td>-0.300263</td>\n",
       "      <td>-0.671960</td>\n",
       "      <td>0.755936</td>\n",
       "      <td>0.444196</td>\n",
       "      <td>-0.324679</td>\n",
       "      <td>-0.115481</td>\n",
       "      <td>0.139897</td>\n",
       "      <td>-0.163773</td>\n",
       "      <td>0.351455</td>\n",
       "      <td>-0.380906</td>\n",
       "      <td>0.086952</td>\n",
       "      <td>-0.055378</td>\n",
       "      <td>0.258947</td>\n",
       "      <td>-0.129180</td>\n",
       "      <td>0.014898</td>\n",
       "      <td>-0.122321</td>\n",
       "      <td>-0.126504</td>\n",
       "      <td>0.143359</td>\n",
       "      <td>-0.112745</td>\n",
       "    </tr>\n",
       "    <tr>\n",
       "      <th>588</th>\n",
       "      <td>1.225444</td>\n",
       "      <td>0.241445</td>\n",
       "      <td>0.380419</td>\n",
       "      <td>-0.063259</td>\n",
       "      <td>0.080610</td>\n",
       "      <td>0.022083</td>\n",
       "      <td>-0.308013</td>\n",
       "      <td>-0.364643</td>\n",
       "      <td>0.216585</td>\n",
       "      <td>0.016467</td>\n",
       "      <td>-0.061204</td>\n",
       "      <td>-0.154007</td>\n",
       "      <td>0.033060</td>\n",
       "      <td>-0.043294</td>\n",
       "      <td>-0.106169</td>\n",
       "      <td>0.060391</td>\n",
       "      <td>-0.014801</td>\n",
       "      <td>-0.188268</td>\n",
       "      <td>0.215887</td>\n",
       "      <td>0.088868</td>\n",
       "    </tr>\n",
       "  </tbody>\n",
       "</table>\n",
       "<p>589 rows × 20 columns</p>\n",
       "</div>"
      ],
      "text/plain": [
       "          pc1       pc2       pc3       pc4       pc5       pc6       pc7  \\\n",
       "0   -0.017265  0.073234  0.235378  0.337747  0.135218 -0.086882 -0.060840   \n",
       "1   -0.853209  0.503111 -1.062490 -0.110682 -0.017323  0.085556  0.062203   \n",
       "2   -1.071746  0.398660  0.152159  0.352237  0.249050  0.002128 -0.384163   \n",
       "3    0.786546  0.958698  0.661862  0.389581 -0.022711  0.311274 -0.098250   \n",
       "4    1.448522  0.144797  0.347733  0.345240 -0.648344  0.134018 -0.141322   \n",
       "..        ...       ...       ...       ...       ...       ...       ...   \n",
       "584  1.060972  0.573800 -0.186293  0.144333 -0.444950 -0.027416  0.116618   \n",
       "585  0.012840  0.758579 -0.205939  0.349576 -0.061084 -0.052708  0.243478   \n",
       "586 -0.165722 -0.559592  0.209028 -0.056490 -0.160157  0.625413  0.352789   \n",
       "587 -0.696943 -0.300263 -0.671960  0.755936  0.444196 -0.324679 -0.115481   \n",
       "588  1.225444  0.241445  0.380419 -0.063259  0.080610  0.022083 -0.308013   \n",
       "\n",
       "          pc8       pc9      pc10      pc11      pc12      pc13      pc14  \\\n",
       "0   -0.357947 -0.122165 -0.032167  0.256323 -0.160945  0.236770  0.062168   \n",
       "1    0.226820 -0.757619  0.059778  0.349063  0.313811  0.249408 -0.061995   \n",
       "2   -0.111942 -0.299720 -0.075336  0.484703  0.072586 -0.273931 -0.246006   \n",
       "3   -0.233877  0.320022  0.524698  0.822237 -0.294817 -0.323149  0.458129   \n",
       "4    0.000801 -0.037219  0.003257  0.153738  0.172846 -0.060770 -0.040095   \n",
       "..        ...       ...       ...       ...       ...       ...       ...   \n",
       "584 -0.019849  0.116849  0.099256  0.034400 -0.127974 -0.121165  0.343030   \n",
       "585 -0.235701 -0.454309  0.163183  0.515622  0.180354  0.137966  0.118047   \n",
       "586  0.063396  0.005084  0.002976  0.138778  0.004120  0.097807 -0.031154   \n",
       "587  0.139897 -0.163773  0.351455 -0.380906  0.086952 -0.055378  0.258947   \n",
       "588 -0.364643  0.216585  0.016467 -0.061204 -0.154007  0.033060 -0.043294   \n",
       "\n",
       "         pc15      pc16      pc17      pc18      pc19      pc20  \n",
       "0    0.027008  0.091937  0.198494  0.082511 -0.099987 -0.036501  \n",
       "1    0.461120  0.027295 -0.004298  0.122174  0.095083 -0.053202  \n",
       "2   -0.001800  0.183615  0.204479 -0.118018 -0.170886  0.175325  \n",
       "3   -0.255308 -0.281866 -0.337613  0.535445  0.095215  0.247379  \n",
       "4   -0.143955  0.001852 -0.317747  0.041268  0.245371  0.005068  \n",
       "..        ...       ...       ...       ...       ...       ...  \n",
       "584 -0.055119  0.103183  0.253331  0.033476 -0.183675  0.125118  \n",
       "585  0.199746  0.200598  0.076662  0.133889  0.071946  0.228734  \n",
       "586  0.012042 -0.012967  0.121551  0.085314 -0.006083  0.026646  \n",
       "587 -0.129180  0.014898 -0.122321 -0.126504  0.143359 -0.112745  \n",
       "588 -0.106169  0.060391 -0.014801 -0.188268  0.215887  0.088868  \n",
       "\n",
       "[589 rows x 20 columns]"
      ]
     },
     "execution_count": 18,
     "metadata": {},
     "output_type": "execute_result"
    }
   ],
   "source": [
    "principalDf"
   ]
  },
  {
   "attachments": {},
   "cell_type": "markdown",
   "metadata": {},
   "source": [
    "## KNN"
   ]
  },
  {
   "cell_type": "code",
   "execution_count": 19,
   "metadata": {},
   "outputs": [
    {
     "name": "stdout",
     "output_type": "stream",
     "text": [
      "Fitting 10 folds for each of 3000 candidates, totalling 30000 fits\n"
     ]
    },
    {
     "data": {
      "text/plain": [
       "GridSearchCV(cv=10, estimator=KNeighborsClassifier(),\n",
       "             param_grid={'leaf_size': [1, 2, 3, 4, 5, 6, 7, 8, 9, 10, 11, 12,\n",
       "                                       13, 14, 15, 16, 17, 18, 19, 20, 21, 22,\n",
       "                                       23, 24, 25, 26, 27, 28, 29, 30, ...],\n",
       "                         'n_neighbors': [1, 2, 3, 4, 5, 6, 7, 8, 9, 10, 11, 12,\n",
       "                                         13, 14, 15, 16, 17, 18, 19, 20, 21, 22,\n",
       "                                         23, 24, 25, 26, 27, 28, 29, 30],\n",
       "                         'p': [1, 2]},\n",
       "             scoring='accuracy', verbose=1)"
      ]
     },
     "execution_count": 19,
     "metadata": {},
     "output_type": "execute_result"
    }
   ],
   "source": [
    "# defining parameter range\n",
    "k_range = list(range(1, 31))\n",
    "leaf_size = list(range(1, 51))\n",
    "p=[1,2]\n",
    "param_grid = dict(n_neighbors=k_range, leaf_size=leaf_size, p=p)\n",
    "grid_knn = GridSearchCV(KNeighborsClassifier(), param_grid, cv=10, scoring='accuracy', refit=True, return_train_score=False,verbose=1)\n",
    "grid_knn.fit(X_train_PC, y_train)"
   ]
  },
  {
   "cell_type": "code",
   "execution_count": 23,
   "metadata": {},
   "outputs": [
    {
     "name": "stdout",
     "output_type": "stream",
     "text": [
      "{'leaf_size': 1, 'n_neighbors': 17, 'p': 2}\n",
      "KNeighborsClassifier(leaf_size=1, n_neighbors=17)\n",
      "0.5993278784336645\n"
     ]
    }
   ],
   "source": [
    "print(grid_knn.best_params_)\n",
    "print(grid_knn.best_estimator_)\n",
    "print(grid_knn.best_score_) # accuracy for train"
   ]
  },
  {
   "cell_type": "code",
   "execution_count": 24,
   "metadata": {},
   "outputs": [],
   "source": [
    "y_test = le.transform(y_test)\n",
    "X_test_scaled = scaler.transform(X_test)\n",
    "X_test_PC = pca.transform(X_test_scaled)"
   ]
  },
  {
   "cell_type": "code",
   "execution_count": 25,
   "metadata": {},
   "outputs": [
    {
     "name": "stdout",
     "output_type": "stream",
     "text": [
      "              precision    recall  f1-score   support\n",
      "\n",
      "       blues       0.48      0.54      0.51        37\n",
      "   classical       0.95      0.97      0.96        36\n",
      "       disco       0.43      0.83      0.57        36\n",
      "  electronic       0.74      0.39      0.51        36\n",
      "      hiphop       0.70      0.38      0.49        37\n",
      "        jazz       0.89      0.68      0.77        37\n",
      "         pop       0.29      0.28      0.28        36\n",
      "        rock       0.63      0.72      0.68        36\n",
      "\n",
      "    accuracy                           0.60       291\n",
      "   macro avg       0.64      0.60      0.60       291\n",
      "weighted avg       0.64      0.60      0.60       291\n",
      "\n"
     ]
    }
   ],
   "source": [
    "test_preds_knn = grid_knn.predict(X_test_PC)\n",
    "print(classification_report(le.inverse_transform(y_test), le.inverse_transform(test_preds_knn)))"
   ]
  },
  {
   "cell_type": "code",
   "execution_count": 26,
   "metadata": {},
   "outputs": [],
   "source": [
    "class_names = le.classes_\n",
    "cnf_matrix = confusion_matrix(y_test, test_preds_knn)"
   ]
  },
  {
   "cell_type": "code",
   "execution_count": 27,
   "metadata": {},
   "outputs": [
    {
     "data": {
      "text/plain": [
       "<sklearn.metrics._plot.confusion_matrix.ConfusionMatrixDisplay at 0x7fe481b08e20>"
      ]
     },
     "execution_count": 27,
     "metadata": {},
     "output_type": "execute_result"
    },
    {
     "data": {
      "image/png": "[encoded data removed]",
      "text/plain": [
       "<Figure size 432x288 with 2 Axes>"
      ]
     },
     "metadata": {
      "needs_background": "light"
     },
     "output_type": "display_data"
    }
   ],
   "source": [
    "plot_confusion_matrix(grid_knn, X_test_PC, y_test, xticks_rotation=45,\n",
    "                                 display_labels=class_names,\n",
    "                                 cmap=plt.cm.Purples)"
   ]
  },
  {
   "cell_type": "code",
   "execution_count": 28,
   "metadata": {},
   "outputs": [
    {
     "data": {
      "text/plain": [
       "0.5979381443298969"
      ]
     },
     "execution_count": 28,
     "metadata": {},
     "output_type": "execute_result"
    }
   ],
   "source": [
    "accuracy_score(y_test, test_preds_knn) # for KNN"
   ]
  },
  {
   "attachments": {},
   "cell_type": "markdown",
   "metadata": {},
   "source": [
    "## SVM"
   ]
  },
  {
   "cell_type": "code",
   "execution_count": 29,
   "metadata": {},
   "outputs": [
    {
     "name": "stdout",
     "output_type": "stream",
     "text": [
      "Fitting 10 folds for each of 100 candidates, totalling 1000 fits\n"
     ]
    },
    {
     "data": {
      "text/plain": [
       "GridSearchCV(cv=10, estimator=SVC(),\n",
       "             param_grid={'C': [0.1, 1, 10, 100, 1000],\n",
       "                         'gamma': [1, 0.1, 0.01, 0.001, 0.0001],\n",
       "                         'kernel': ['rbf', 'poly', 'sigmoid', 'linear']},\n",
       "             scoring='accuracy', verbose=1)"
      ]
     },
     "execution_count": 29,
     "metadata": {},
     "output_type": "execute_result"
    }
   ],
   "source": [
    "# defining parameter range\n",
    "param_grid = {'C': [0.1, 1, 10, 100, 1000], \n",
    "              'gamma': [1, 0.1, 0.01, 0.001, 0.0001],\n",
    "              'kernel': ['rbf', 'poly', 'sigmoid', 'linear']}\n",
    "grid_svm = GridSearchCV(SVC(), param_grid, scoring='accuracy', cv=10, refit = True, verbose = 1)\n",
    "grid_svm.fit(X_train_PC, y_train)"
   ]
  },
  {
   "cell_type": "code",
   "execution_count": 30,
   "metadata": {},
   "outputs": [
    {
     "name": "stdout",
     "output_type": "stream",
     "text": [
      "{'C': 10, 'gamma': 0.1, 'kernel': 'rbf'}\n",
      "SVC(C=10, gamma=0.1)\n",
      "0.6689947399181765\n"
     ]
    }
   ],
   "source": [
    "print(grid_svm.best_params_)\n",
    "print(grid_svm.best_estimator_)\n",
    "print(grid_svm.best_score_)"
   ]
  },
  {
   "cell_type": "code",
   "execution_count": 31,
   "metadata": {},
   "outputs": [
    {
     "name": "stdout",
     "output_type": "stream",
     "text": [
      "              precision    recall  f1-score   support\n",
      "\n",
      "       blues       0.50      0.54      0.52        37\n",
      "   classical       0.97      1.00      0.99        36\n",
      "       disco       0.64      0.83      0.72        36\n",
      "  electronic       0.53      0.50      0.51        36\n",
      "      hiphop       0.73      0.59      0.66        37\n",
      "        jazz       0.93      0.76      0.84        37\n",
      "         pop       0.47      0.42      0.44        36\n",
      "        rock       0.71      0.81      0.75        36\n",
      "\n",
      "    accuracy                           0.68       291\n",
      "   macro avg       0.69      0.68      0.68       291\n",
      "weighted avg       0.69      0.68      0.68       291\n",
      "\n"
     ]
    }
   ],
   "source": [
    "test_preds_svm = grid_svm.predict(X_test_PC)\n",
    "print(classification_report(le.inverse_transform(y_test), le.inverse_transform(test_preds_svm)))"
   ]
  },
  {
   "cell_type": "code",
   "execution_count": 32,
   "metadata": {},
   "outputs": [
    {
     "data": {
      "text/plain": [
       "<sklearn.metrics._plot.confusion_matrix.ConfusionMatrixDisplay at 0x7fe3c1b0d670>"
      ]
     },
     "execution_count": 32,
     "metadata": {},
     "output_type": "execute_result"
    },
    {
     "data": {
      "image/png": "[encoded data removed]",
      "text/plain": [
       "<Figure size 432x288 with 2 Axes>"
      ]
     },
     "metadata": {
      "needs_background": "light"
     },
     "output_type": "display_data"
    }
   ],
   "source": [
    "class_names = le.classes_\n",
    "cnf_matrix = confusion_matrix(y_test, test_preds_svm)\n",
    "plot_confusion_matrix(grid_svm, X_test_PC, y_test, xticks_rotation=45,\n",
    "                                 display_labels=class_names,\n",
    "                                 cmap=plt.cm.Purples)"
   ]
  },
  {
   "cell_type": "code",
   "execution_count": 33,
   "metadata": {},
   "outputs": [
    {
     "data": {
      "text/plain": [
       "0.6804123711340206"
      ]
     },
     "execution_count": 33,
     "metadata": {},
     "output_type": "execute_result"
    }
   ],
   "source": [
    "accuracy_score(y_test, test_preds_svm) # for SVM"
   ]
  }
 ],
 "metadata": {
  "kernelspec": {
   "display_name": "Python 3",
   "language": "python",
   "name": "python3"
  },
  "language_info": {
   "codemirror_mode": {
    "name": "ipython",
    "version": 3
   },
   "file_extension": ".py",
   "mimetype": "text/x-python",
   "name": "python",
   "nbconvert_exporter": "python",
   "pygments_lexer": "ipython3",
   "version": "3.9.1"
  },
  "orig_nbformat": 4
 },
 "nbformat": 4,
 "nbformat_minor": 2
}
