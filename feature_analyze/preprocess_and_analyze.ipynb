{
  "cells": [
    {
      "cell_type": "code",
      "execution_count": 92,
      "metadata": {
        "id": "gDv-yUQmp2_E"
      },
      "outputs": [],
      "source": [
        "import pandas as pd\n",
        "import seaborn as sns\n",
        "import numpy as np\n",
        "import matplotlib.pyplot as plt"
      ]
    },
    {
      "cell_type": "code",
      "execution_count": 93,
      "metadata": {
        "id": "pLNjzwxFp2_G"
      },
      "outputs": [],
      "source": [
        "from sklearn.preprocessing import MinMaxScaler\n",
        "from sklearn.preprocessing import LabelEncoder\n",
        "from sklearn.decomposition import PCA\n",
        "from sklearn.model_selection import train_test_split\n",
        "from sklearn.metrics import classification_report\n",
        "from sklearn.metrics import ConfusionMatrixDisplay\n",
        "from sklearn.metrics import confusion_matrix\n",
        "from sklearn.model_selection import GridSearchCV\n",
        "from sklearn.neighbors import KNeighborsClassifier\n",
        "from sklearn.linear_model import LogisticRegression\n",
        "from sklearn.svm import SVC\n",
        "from sklearn.metrics import accuracy_score\n",
        "from sklearn.pipeline import Pipeline"
      ]
    },
    {
      "cell_type": "code",
      "execution_count": 94,
      "metadata": {
        "id": "YJ_2WtSMp2_H"
      },
      "outputs": [],
      "source": [
        "df = pd.read_csv('all_data_no_duplicates_equal_size.csv', index_col=0)"
      ]
    },
    {
      "cell_type": "code",
      "execution_count": 95,
      "metadata": {
        "colab": {
          "base_uri": "https://localhost:8080/",
          "height": 331
        },
        "id": "FDwDMIFcp2_H",
        "outputId": "b29d1307-34ba-4828-8595-cb23939989a5"
      },
      "outputs": [
        {
          "data": {
            "text/html": [
              "<div>\n",
              "<style scoped>\n",
              "    .dataframe tbody tr th:only-of-type {\n",
              "        vertical-align: middle;\n",
              "    }\n",
              "\n",
              "    .dataframe tbody tr th {\n",
              "        vertical-align: top;\n",
              "    }\n",
              "\n",
              "    .dataframe thead th {\n",
              "        text-align: right;\n",
              "    }\n",
              "</style>\n",
              "<table border=\"1\" class=\"dataframe\">\n",
              "  <thead>\n",
              "    <tr style=\"text-align: right;\">\n",
              "      <th></th>\n",
              "      <th>mfcc_a_0</th>\n",
              "      <th>mfcc_a_1</th>\n",
              "      <th>mfcc_a_2</th>\n",
              "      <th>mfcc_a_3</th>\n",
              "      <th>mfcc_a_4</th>\n",
              "      <th>mfcc_a_5</th>\n",
              "      <th>mfcc_a_6</th>\n",
              "      <th>mfcc_a_7</th>\n",
              "      <th>mfcc_a_8</th>\n",
              "      <th>mfcc_a_9</th>\n",
              "      <th>...</th>\n",
              "      <th>onset_a</th>\n",
              "      <th>onset_std</th>\n",
              "      <th>bpm</th>\n",
              "      <th>rmseP_skew</th>\n",
              "      <th>rmseP_kurtosis</th>\n",
              "      <th>rmseH_skew</th>\n",
              "      <th>rmseH_kurtosis</th>\n",
              "      <th>beats_a</th>\n",
              "      <th>beats_std</th>\n",
              "      <th>genre</th>\n",
              "    </tr>\n",
              "    <tr>\n",
              "      <th>song_id</th>\n",
              "      <th></th>\n",
              "      <th></th>\n",
              "      <th></th>\n",
              "      <th></th>\n",
              "      <th></th>\n",
              "      <th></th>\n",
              "      <th></th>\n",
              "      <th></th>\n",
              "      <th></th>\n",
              "      <th></th>\n",
              "      <th></th>\n",
              "      <th></th>\n",
              "      <th></th>\n",
              "      <th></th>\n",
              "      <th></th>\n",
              "      <th></th>\n",
              "      <th></th>\n",
              "      <th></th>\n",
              "      <th></th>\n",
              "      <th></th>\n",
              "      <th></th>\n",
              "    </tr>\n",
              "  </thead>\n",
              "  <tbody>\n",
              "    <tr>\n",
              "      <th>17bf8d5f74d4e53a3f918263da27600ba0e555b5</th>\n",
              "      <td>-131.34530</td>\n",
              "      <td>154.44778</td>\n",
              "      <td>-46.625813</td>\n",
              "      <td>55.491830</td>\n",
              "      <td>-2.969374</td>\n",
              "      <td>28.455832</td>\n",
              "      <td>-11.929317</td>\n",
              "      <td>9.539672</td>\n",
              "      <td>4.456010</td>\n",
              "      <td>9.052435</td>\n",
              "      <td>...</td>\n",
              "      <td>1.541892</td>\n",
              "      <td>1.521225</td>\n",
              "      <td>132.512019</td>\n",
              "      <td>1.070878</td>\n",
              "      <td>1.396955</td>\n",
              "      <td>0.741772</td>\n",
              "      <td>1.111939</td>\n",
              "      <td>14.542479</td>\n",
              "      <td>8.524608</td>\n",
              "      <td>blues</td>\n",
              "    </tr>\n",
              "    <tr>\n",
              "      <th>80822cc306bcf4d6ce727ed9b185382183590feb</th>\n",
              "      <td>-216.48515</td>\n",
              "      <td>159.88239</td>\n",
              "      <td>-53.843456</td>\n",
              "      <td>41.647510</td>\n",
              "      <td>4.802261</td>\n",
              "      <td>6.194261</td>\n",
              "      <td>-0.619864</td>\n",
              "      <td>1.253317</td>\n",
              "      <td>5.258920</td>\n",
              "      <td>9.118914</td>\n",
              "      <td>...</td>\n",
              "      <td>1.589639</td>\n",
              "      <td>1.765213</td>\n",
              "      <td>117.453835</td>\n",
              "      <td>1.569087</td>\n",
              "      <td>2.719492</td>\n",
              "      <td>0.010281</td>\n",
              "      <td>-0.229946</td>\n",
              "      <td>14.460827</td>\n",
              "      <td>8.436646</td>\n",
              "      <td>blues</td>\n",
              "    </tr>\n",
              "    <tr>\n",
              "      <th>fe86aae90064f43dd3c9ccc2271fd3570ea8d530</th>\n",
              "      <td>-97.64007</td>\n",
              "      <td>137.78816</td>\n",
              "      <td>-43.407673</td>\n",
              "      <td>57.867115</td>\n",
              "      <td>-17.740084</td>\n",
              "      <td>48.168274</td>\n",
              "      <td>-20.405445</td>\n",
              "      <td>14.013074</td>\n",
              "      <td>-11.915717</td>\n",
              "      <td>13.601735</td>\n",
              "      <td>...</td>\n",
              "      <td>1.332900</td>\n",
              "      <td>0.778537</td>\n",
              "      <td>123.046875</td>\n",
              "      <td>1.270062</td>\n",
              "      <td>1.725401</td>\n",
              "      <td>0.076682</td>\n",
              "      <td>-0.120848</td>\n",
              "      <td>14.568310</td>\n",
              "      <td>8.531551</td>\n",
              "      <td>blues</td>\n",
              "    </tr>\n",
              "    <tr>\n",
              "      <th>8a36fef7cc58e415b09f472062d529ad75f6888a</th>\n",
              "      <td>-218.33733</td>\n",
              "      <td>139.85650</td>\n",
              "      <td>-46.182710</td>\n",
              "      <td>29.928583</td>\n",
              "      <td>-5.652246</td>\n",
              "      <td>26.629574</td>\n",
              "      <td>-6.704617</td>\n",
              "      <td>15.074043</td>\n",
              "      <td>0.800906</td>\n",
              "      <td>0.926584</td>\n",
              "      <td>...</td>\n",
              "      <td>1.527841</td>\n",
              "      <td>1.310864</td>\n",
              "      <td>132.512019</td>\n",
              "      <td>1.251199</td>\n",
              "      <td>1.432018</td>\n",
              "      <td>1.522334</td>\n",
              "      <td>2.031958</td>\n",
              "      <td>14.527072</td>\n",
              "      <td>8.542730</td>\n",
              "      <td>blues</td>\n",
              "    </tr>\n",
              "    <tr>\n",
              "      <th>6a90012a2f47eb44abcaf1641683f86425713e40</th>\n",
              "      <td>-137.82199</td>\n",
              "      <td>145.93646</td>\n",
              "      <td>-52.225964</td>\n",
              "      <td>44.550194</td>\n",
              "      <td>-5.257767</td>\n",
              "      <td>24.834461</td>\n",
              "      <td>-7.554444</td>\n",
              "      <td>12.882658</td>\n",
              "      <td>4.022466</td>\n",
              "      <td>11.714938</td>\n",
              "      <td>...</td>\n",
              "      <td>1.525155</td>\n",
              "      <td>1.458287</td>\n",
              "      <td>89.102909</td>\n",
              "      <td>2.108472</td>\n",
              "      <td>5.425519</td>\n",
              "      <td>0.541542</td>\n",
              "      <td>1.362728</td>\n",
              "      <td>14.487932</td>\n",
              "      <td>8.556227</td>\n",
              "      <td>blues</td>\n",
              "    </tr>\n",
              "  </tbody>\n",
              "</table>\n",
              "<p>5 rows × 80 columns</p>\n",
              "</div>"
            ],
            "text/plain": [
              "                                           mfcc_a_0   mfcc_a_1   mfcc_a_2  \\\n",
              "song_id                                                                     \n",
              "17bf8d5f74d4e53a3f918263da27600ba0e555b5 -131.34530  154.44778 -46.625813   \n",
              "80822cc306bcf4d6ce727ed9b185382183590feb -216.48515  159.88239 -53.843456   \n",
              "fe86aae90064f43dd3c9ccc2271fd3570ea8d530  -97.64007  137.78816 -43.407673   \n",
              "8a36fef7cc58e415b09f472062d529ad75f6888a -218.33733  139.85650 -46.182710   \n",
              "6a90012a2f47eb44abcaf1641683f86425713e40 -137.82199  145.93646 -52.225964   \n",
              "\n",
              "                                           mfcc_a_3   mfcc_a_4   mfcc_a_5  \\\n",
              "song_id                                                                     \n",
              "17bf8d5f74d4e53a3f918263da27600ba0e555b5  55.491830  -2.969374  28.455832   \n",
              "80822cc306bcf4d6ce727ed9b185382183590feb  41.647510   4.802261   6.194261   \n",
              "fe86aae90064f43dd3c9ccc2271fd3570ea8d530  57.867115 -17.740084  48.168274   \n",
              "8a36fef7cc58e415b09f472062d529ad75f6888a  29.928583  -5.652246  26.629574   \n",
              "6a90012a2f47eb44abcaf1641683f86425713e40  44.550194  -5.257767  24.834461   \n",
              "\n",
              "                                           mfcc_a_6   mfcc_a_7   mfcc_a_8  \\\n",
              "song_id                                                                     \n",
              "17bf8d5f74d4e53a3f918263da27600ba0e555b5 -11.929317   9.539672   4.456010   \n",
              "80822cc306bcf4d6ce727ed9b185382183590feb  -0.619864   1.253317   5.258920   \n",
              "fe86aae90064f43dd3c9ccc2271fd3570ea8d530 -20.405445  14.013074 -11.915717   \n",
              "8a36fef7cc58e415b09f472062d529ad75f6888a  -6.704617  15.074043   0.800906   \n",
              "6a90012a2f47eb44abcaf1641683f86425713e40  -7.554444  12.882658   4.022466   \n",
              "\n",
              "                                           mfcc_a_9  ...   onset_a  onset_std  \\\n",
              "song_id                                              ...                        \n",
              "17bf8d5f74d4e53a3f918263da27600ba0e555b5   9.052435  ...  1.541892   1.521225   \n",
              "80822cc306bcf4d6ce727ed9b185382183590feb   9.118914  ...  1.589639   1.765213   \n",
              "fe86aae90064f43dd3c9ccc2271fd3570ea8d530  13.601735  ...  1.332900   0.778537   \n",
              "8a36fef7cc58e415b09f472062d529ad75f6888a   0.926584  ...  1.527841   1.310864   \n",
              "6a90012a2f47eb44abcaf1641683f86425713e40  11.714938  ...  1.525155   1.458287   \n",
              "\n",
              "                                                 bpm  rmseP_skew  \\\n",
              "song_id                                                            \n",
              "17bf8d5f74d4e53a3f918263da27600ba0e555b5  132.512019    1.070878   \n",
              "80822cc306bcf4d6ce727ed9b185382183590feb  117.453835    1.569087   \n",
              "fe86aae90064f43dd3c9ccc2271fd3570ea8d530  123.046875    1.270062   \n",
              "8a36fef7cc58e415b09f472062d529ad75f6888a  132.512019    1.251199   \n",
              "6a90012a2f47eb44abcaf1641683f86425713e40   89.102909    2.108472   \n",
              "\n",
              "                                          rmseP_kurtosis  rmseH_skew  \\\n",
              "song_id                                                                \n",
              "17bf8d5f74d4e53a3f918263da27600ba0e555b5        1.396955    0.741772   \n",
              "80822cc306bcf4d6ce727ed9b185382183590feb        2.719492    0.010281   \n",
              "fe86aae90064f43dd3c9ccc2271fd3570ea8d530        1.725401    0.076682   \n",
              "8a36fef7cc58e415b09f472062d529ad75f6888a        1.432018    1.522334   \n",
              "6a90012a2f47eb44abcaf1641683f86425713e40        5.425519    0.541542   \n",
              "\n",
              "                                          rmseH_kurtosis    beats_a  \\\n",
              "song_id                                                               \n",
              "17bf8d5f74d4e53a3f918263da27600ba0e555b5        1.111939  14.542479   \n",
              "80822cc306bcf4d6ce727ed9b185382183590feb       -0.229946  14.460827   \n",
              "fe86aae90064f43dd3c9ccc2271fd3570ea8d530       -0.120848  14.568310   \n",
              "8a36fef7cc58e415b09f472062d529ad75f6888a        2.031958  14.527072   \n",
              "6a90012a2f47eb44abcaf1641683f86425713e40        1.362728  14.487932   \n",
              "\n",
              "                                          beats_std  genre  \n",
              "song_id                                                     \n",
              "17bf8d5f74d4e53a3f918263da27600ba0e555b5   8.524608  blues  \n",
              "80822cc306bcf4d6ce727ed9b185382183590feb   8.436646  blues  \n",
              "fe86aae90064f43dd3c9ccc2271fd3570ea8d530   8.531551  blues  \n",
              "8a36fef7cc58e415b09f472062d529ad75f6888a   8.542730  blues  \n",
              "6a90012a2f47eb44abcaf1641683f86425713e40   8.556227  blues  \n",
              "\n",
              "[5 rows x 80 columns]"
            ]
          },
          "execution_count": 95,
          "metadata": {},
          "output_type": "execute_result"
        }
      ],
      "source": [
        "df.head()"
      ]
    },
    {
      "cell_type": "markdown",
      "metadata": {
        "id": "xeYCrwizp2_I"
      },
      "source": [
        "## Train Test Split"
      ]
    },
    {
      "cell_type": "markdown",
      "metadata": {
        "id": "hfeo_nudp2_J"
      },
      "source": [
        "Split data first to avoid data leakage."
      ]
    },
    {
      "cell_type": "code",
      "execution_count": 96,
      "metadata": {
        "id": "2YQdp_6bp2_J"
      },
      "outputs": [],
      "source": [
        "X = df.drop(['genre'], axis=1)\n",
        "y = df['genre']"
      ]
    },
    {
      "cell_type": "code",
      "execution_count": null,
      "metadata": {
        "id": "ZNdBrZC_p2_K"
      },
      "outputs": [],
      "source": [
        "X_train, X_test, y_train, y_test = train_test_split(X, y, test_size=0.33, stratify=y, random_state=0)"
      ]
    },
    {
      "cell_type": "code",
      "execution_count": 97,
      "metadata": {},
      "outputs": [],
      "source": [
        "# here use entire set as train\n",
        "X_train = X\n",
        "y_train = y"
      ]
    },
    {
      "cell_type": "markdown",
      "metadata": {
        "id": "k9rRK0jIp2_K"
      },
      "source": [
        "## Add Encoded Label"
      ]
    },
    {
      "cell_type": "code",
      "execution_count": 98,
      "metadata": {
        "colab": {
          "base_uri": "https://localhost:8080/",
          "height": 75
        },
        "id": "5Fk5yuPnp2_K",
        "outputId": "14e3cb8b-3b83-42e8-98a4-55b83bc7a7c7"
      },
      "outputs": [
        {
          "data": {
            "text/plain": [
              "LabelEncoder()"
            ]
          },
          "execution_count": 98,
          "metadata": {},
          "output_type": "execute_result"
        }
      ],
      "source": [
        "le = LabelEncoder()\n",
        "le.fit(y_train)"
      ]
    },
    {
      "cell_type": "code",
      "execution_count": 99,
      "metadata": {
        "id": "a3tNaxGj87o6"
      },
      "outputs": [],
      "source": [
        "y_train = le.transform(y_train)"
      ]
    },
    {
      "cell_type": "code",
      "execution_count": 18,
      "metadata": {
        "colab": {
          "base_uri": "https://localhost:8080/"
        },
        "id": "_0jZK3Q7p2_K",
        "outputId": "f43b08cf-7b84-4693-df79-6078804eedf4"
      },
      "outputs": [
        {
          "data": {
            "text/plain": [
              "{'blues': 0,\n",
              " 'classical': 1,\n",
              " 'disco': 2,\n",
              " 'electronic': 3,\n",
              " 'hiphop': 4,\n",
              " 'jazz': 5,\n",
              " 'pop': 6,\n",
              " 'rock': 7}"
            ]
          },
          "execution_count": 18,
          "metadata": {},
          "output_type": "execute_result"
        }
      ],
      "source": [
        "integer_mapping = {l: i for i, l in enumerate(le.classes_)}\n",
        "integer_mapping"
      ]
    },
    {
      "cell_type": "markdown",
      "metadata": {
        "id": "UAXHcReMp2_L"
      },
      "source": [
        "## Normalize Data"
      ]
    },
    {
      "cell_type": "code",
      "execution_count": 100,
      "metadata": {
        "id": "FKBdr4Kip2_L",
        "outputId": "11b5a9de-ab32-46f2-8695-51ca1a4743d6"
      },
      "outputs": [
        {
          "data": {
            "text/plain": [
              "MinMaxScaler()"
            ]
          },
          "execution_count": 100,
          "metadata": {},
          "output_type": "execute_result"
        }
      ],
      "source": [
        "scaler = MinMaxScaler()\n",
        "scaler.fit(X_train)"
      ]
    },
    {
      "cell_type": "code",
      "execution_count": 101,
      "metadata": {
        "id": "G6k_rNUhp2_L",
        "outputId": "c99da32e-90c2-443c-b24d-ff891dd4d014"
      },
      "outputs": [
        {
          "data": {
            "text/plain": [
              "array([[0.87464603, 0.5328989 , 0.21407806, ..., 0.06575662, 0.85781975,\n",
              "        0.9443782 ],\n",
              "       [0.74055406, 0.57074838, 0.17765418, ..., 0.03399157, 0.84539351,\n",
              "        0.91875167],\n",
              "       [0.92773046, 0.41687256, 0.23031843, ..., 0.03657414, 0.86175088,\n",
              "        0.94640076],\n",
              "       ...,\n",
              "       [0.77892816, 0.60318433, 0.30417404, ..., 0.02159987, 0.83580919,\n",
              "        0.92895419],\n",
              "       [0.8996922 , 0.43889411, 0.18177288, ..., 0.08384796, 0.83289193,\n",
              "        0.91895397],\n",
              "       [0.86334978, 0.57819952, 0.1034806 , ..., 0.03330459, 0.88206079,\n",
              "        0.97627162]])"
            ]
          },
          "execution_count": 101,
          "metadata": {},
          "output_type": "execute_result"
        }
      ],
      "source": [
        "X_train_scaled = scaler.transform(X_train)\n",
        "X_train_scaled"
      ]
    },
    {
      "cell_type": "code",
      "execution_count": 102,
      "metadata": {
        "id": "izGurhpBp2_M",
        "outputId": "fcacb8ec-5f1e-479f-bd36-70dfcbfa6aaa"
      },
      "outputs": [
        {
          "data": {
            "text/plain": [
              "(880, 79)"
            ]
          },
          "execution_count": 102,
          "metadata": {},
          "output_type": "execute_result"
        }
      ],
      "source": [
        "X_train_scaled.shape"
      ]
    },
    {
      "cell_type": "markdown",
      "metadata": {
        "id": "Osq1o-Zlp2_M"
      },
      "source": [
        "## PCA - Dimension Reduction"
      ]
    },
    {
      "cell_type": "code",
      "execution_count": 103,
      "metadata": {
        "id": "v_c1JC3hp2_M",
        "outputId": "a410992a-0e9c-4f15-f2a5-b8edcc7c54b7"
      },
      "outputs": [
        {
          "data": {
            "text/plain": [
              "PCA(n_components=45)"
            ]
          },
          "execution_count": 103,
          "metadata": {},
          "output_type": "execute_result"
        }
      ],
      "source": [
        "pca = PCA(n_components=45) \n",
        "pca.fit(X_train_scaled)"
      ]
    },
    {
      "cell_type": "code",
      "execution_count": 104,
      "metadata": {
        "id": "to9pJvQSp2_M"
      },
      "outputs": [],
      "source": [
        "X_train_PC = pca.transform(X_train_scaled)"
      ]
    },
    {
      "cell_type": "code",
      "execution_count": null,
      "metadata": {
        "id": "hu7JcOLop2_M"
      },
      "outputs": [],
      "source": [
        "principalDf = pd.DataFrame(data = X_train_PC, columns = ['pc1', 'pc2', 'pc3', 'pc4', 'pc5', 'pc6', 'pc7', 'pc8', 'pc9', 'pc10', 'pc11', 'pc12', 'pc13', 'pc14', 'pc15', 'pc16', 'pc17', 'pc18', 'pc19', 'pc20'])"
      ]
    },
    {
      "cell_type": "code",
      "execution_count": null,
      "metadata": {
        "id": "gx9JWroIp2_N",
        "outputId": "761b2179-2abf-4df8-8c8a-4b6f6c9ac613"
      },
      "outputs": [
        {
          "data": {
            "text/plain": [
              "<BarContainer object of 20 artists>"
            ]
          },
          "execution_count": 17,
          "metadata": {},
          "output_type": "execute_result"
        },
        {
          "data": {
            "image/png": "[encoded data removed]",
            "text/plain": [
              "<Figure size 432x288 with 1 Axes>"
            ]
          },
          "metadata": {},
          "output_type": "display_data"
        }
      ],
      "source": [
        "plt.bar(principalDf.columns, pca.explained_variance_ratio_)"
      ]
    },
    {
      "cell_type": "code",
      "execution_count": 108,
      "metadata": {
        "id": "X4y6SO6Rp2_N",
        "outputId": "b0461993-b52d-4f14-a975-37085039d0c3"
      },
      "outputs": [
        {
          "data": {
            "text/plain": [
              "0.8488799694044091"
            ]
          },
          "execution_count": 108,
          "metadata": {},
          "output_type": "execute_result"
        }
      ],
      "source": [
        "sum(pca.explained_variance_ratio_[0:20])"
      ]
    },
    {
      "cell_type": "markdown",
      "metadata": {
        "id": "lD4X8hPqp2_N"
      },
      "source": [
        "First 20 PCs account for 85% of variance."
      ]
    },
    {
      "cell_type": "code",
      "execution_count": 24,
      "metadata": {},
      "outputs": [
        {
          "name": "stdout",
          "output_type": "stream",
          "text": [
            "[0.29528477 0.11029769 0.06775153 0.04991165 0.04716787 0.04027493\n",
            " 0.03199581 0.02551496 0.02385095 0.01976227 0.01891393 0.01807129\n",
            " 0.01614931 0.0148911  0.01451778 0.01279816 0.01263029 0.01040851\n",
            " 0.00946213 0.00922193 0.0079614  0.00728757 0.00677541 0.00640758\n",
            " 0.00615092]\n"
          ]
        },
        {
          "data": {
            "text/plain": [
              "(0.0, 1.0)"
            ]
          },
          "execution_count": 24,
          "metadata": {},
          "output_type": "execute_result"
        },
        {
          "data": {
            "image/png": "[encoded data removed]",
            "text/plain": [
              "<Figure size 936x432 with 1 Axes>"
            ]
          },
          "metadata": {
            "needs_background": "light"
          },
          "output_type": "display_data"
        }
      ],
      "source": [
        "values = pca.explained_variance_ratio_\n",
        "print(values)\n",
        "cumulative = np.cumsum(values)\n",
        "num_components = len(pca.explained_variance_ratio_)\n",
        "index = np.arange(num_components)\n",
        "plt.figure(figsize=(13, 6))\n",
        "ax = plt.subplot()\n",
        "ax.bar(index, values)\n",
        "ax.plot(index, cumulative)\n",
        "for val in range(num_components):\n",
        "    ax.annotate(r\"%s\" % ((str(values[val]*100)[:3])), (index[val], values[val]), va='bottom', ha='center', fontsize=10)\n",
        "\n",
        "ax.xaxis.set_tick_params(width=1)\n",
        "ax.set_xlabel(\"PC Values\")\n",
        "ax.set_ylabel(\"Variance Explained Percentage\")\n",
        "ax.set_ylim(0.0, 1.0)"
      ]
    },
    {
      "cell_type": "code",
      "execution_count": null,
      "metadata": {
        "id": "gDggqlRjp2_O",
        "outputId": "8b33f561-5ce0-4b26-8c02-00cb2335b0b0"
      },
      "outputs": [
        {
          "data": {
            "text/html": [
              "<div>\n",
              "<style scoped>\n",
              "    .dataframe tbody tr th:only-of-type {\n",
              "        vertical-align: middle;\n",
              "    }\n",
              "\n",
              "    .dataframe tbody tr th {\n",
              "        vertical-align: top;\n",
              "    }\n",
              "\n",
              "    .dataframe thead th {\n",
              "        text-align: right;\n",
              "    }\n",
              "</style>\n",
              "<table border=\"1\" class=\"dataframe\">\n",
              "  <thead>\n",
              "    <tr style=\"text-align: right;\">\n",
              "      <th></th>\n",
              "      <th>pc1</th>\n",
              "      <th>pc2</th>\n",
              "      <th>pc3</th>\n",
              "      <th>pc4</th>\n",
              "      <th>pc5</th>\n",
              "      <th>pc6</th>\n",
              "      <th>pc7</th>\n",
              "      <th>pc8</th>\n",
              "      <th>pc9</th>\n",
              "      <th>pc10</th>\n",
              "      <th>pc11</th>\n",
              "      <th>pc12</th>\n",
              "      <th>pc13</th>\n",
              "      <th>pc14</th>\n",
              "      <th>pc15</th>\n",
              "      <th>pc16</th>\n",
              "      <th>pc17</th>\n",
              "      <th>pc18</th>\n",
              "      <th>pc19</th>\n",
              "      <th>pc20</th>\n",
              "    </tr>\n",
              "  </thead>\n",
              "  <tbody>\n",
              "    <tr>\n",
              "      <th>0</th>\n",
              "      <td>-0.017265</td>\n",
              "      <td>0.073234</td>\n",
              "      <td>0.235377</td>\n",
              "      <td>0.337749</td>\n",
              "      <td>0.135215</td>\n",
              "      <td>-0.086868</td>\n",
              "      <td>-0.060813</td>\n",
              "      <td>-0.358011</td>\n",
              "      <td>-0.122222</td>\n",
              "      <td>-0.031851</td>\n",
              "      <td>0.256419</td>\n",
              "      <td>-0.160611</td>\n",
              "      <td>0.237439</td>\n",
              "      <td>0.064150</td>\n",
              "      <td>0.025688</td>\n",
              "      <td>0.091687</td>\n",
              "      <td>0.200422</td>\n",
              "      <td>0.069996</td>\n",
              "      <td>-0.080852</td>\n",
              "      <td>-0.047874</td>\n",
              "    </tr>\n",
              "    <tr>\n",
              "      <th>1</th>\n",
              "      <td>-0.853209</td>\n",
              "      <td>0.503111</td>\n",
              "      <td>-1.062490</td>\n",
              "      <td>-0.110684</td>\n",
              "      <td>-0.017320</td>\n",
              "      <td>0.085556</td>\n",
              "      <td>0.062170</td>\n",
              "      <td>0.226887</td>\n",
              "      <td>-0.757687</td>\n",
              "      <td>0.059402</td>\n",
              "      <td>0.349050</td>\n",
              "      <td>0.312957</td>\n",
              "      <td>0.249376</td>\n",
              "      <td>-0.063698</td>\n",
              "      <td>0.462835</td>\n",
              "      <td>0.026910</td>\n",
              "      <td>-0.001260</td>\n",
              "      <td>0.119013</td>\n",
              "      <td>0.080876</td>\n",
              "      <td>-0.026870</td>\n",
              "    </tr>\n",
              "    <tr>\n",
              "      <th>2</th>\n",
              "      <td>-1.071746</td>\n",
              "      <td>0.398660</td>\n",
              "      <td>0.152160</td>\n",
              "      <td>0.352234</td>\n",
              "      <td>0.249046</td>\n",
              "      <td>0.002136</td>\n",
              "      <td>-0.384168</td>\n",
              "      <td>-0.111964</td>\n",
              "      <td>-0.299837</td>\n",
              "      <td>-0.075396</td>\n",
              "      <td>0.484868</td>\n",
              "      <td>0.071944</td>\n",
              "      <td>-0.273654</td>\n",
              "      <td>-0.246856</td>\n",
              "      <td>0.000131</td>\n",
              "      <td>0.183524</td>\n",
              "      <td>0.201369</td>\n",
              "      <td>-0.124491</td>\n",
              "      <td>-0.194539</td>\n",
              "      <td>0.165366</td>\n",
              "    </tr>\n",
              "    <tr>\n",
              "      <th>3</th>\n",
              "      <td>0.786546</td>\n",
              "      <td>0.958698</td>\n",
              "      <td>0.661863</td>\n",
              "      <td>0.389578</td>\n",
              "      <td>-0.022706</td>\n",
              "      <td>0.311263</td>\n",
              "      <td>-0.098285</td>\n",
              "      <td>-0.233877</td>\n",
              "      <td>0.320179</td>\n",
              "      <td>0.524404</td>\n",
              "      <td>0.822117</td>\n",
              "      <td>-0.295958</td>\n",
              "      <td>-0.323898</td>\n",
              "      <td>0.455746</td>\n",
              "      <td>-0.257764</td>\n",
              "      <td>-0.283412</td>\n",
              "      <td>-0.334054</td>\n",
              "      <td>0.542190</td>\n",
              "      <td>0.077737</td>\n",
              "      <td>0.255383</td>\n",
              "    </tr>\n",
              "    <tr>\n",
              "      <th>4</th>\n",
              "      <td>1.448522</td>\n",
              "      <td>0.144797</td>\n",
              "      <td>0.347733</td>\n",
              "      <td>0.345239</td>\n",
              "      <td>-0.648342</td>\n",
              "      <td>0.134010</td>\n",
              "      <td>-0.141336</td>\n",
              "      <td>0.000797</td>\n",
              "      <td>-0.037194</td>\n",
              "      <td>0.003057</td>\n",
              "      <td>0.153738</td>\n",
              "      <td>0.172331</td>\n",
              "      <td>-0.060906</td>\n",
              "      <td>-0.041539</td>\n",
              "      <td>-0.143826</td>\n",
              "      <td>0.001682</td>\n",
              "      <td>-0.315917</td>\n",
              "      <td>0.041007</td>\n",
              "      <td>0.236456</td>\n",
              "      <td>0.010674</td>\n",
              "    </tr>\n",
              "    <tr>\n",
              "      <th>...</th>\n",
              "      <td>...</td>\n",
              "      <td>...</td>\n",
              "      <td>...</td>\n",
              "      <td>...</td>\n",
              "      <td>...</td>\n",
              "      <td>...</td>\n",
              "      <td>...</td>\n",
              "      <td>...</td>\n",
              "      <td>...</td>\n",
              "      <td>...</td>\n",
              "      <td>...</td>\n",
              "      <td>...</td>\n",
              "      <td>...</td>\n",
              "      <td>...</td>\n",
              "      <td>...</td>\n",
              "      <td>...</td>\n",
              "      <td>...</td>\n",
              "      <td>...</td>\n",
              "      <td>...</td>\n",
              "      <td>...</td>\n",
              "    </tr>\n",
              "    <tr>\n",
              "      <th>584</th>\n",
              "      <td>1.060972</td>\n",
              "      <td>0.573800</td>\n",
              "      <td>-0.186293</td>\n",
              "      <td>0.144335</td>\n",
              "      <td>-0.444949</td>\n",
              "      <td>-0.027421</td>\n",
              "      <td>0.116629</td>\n",
              "      <td>-0.019835</td>\n",
              "      <td>0.116912</td>\n",
              "      <td>0.099532</td>\n",
              "      <td>0.034413</td>\n",
              "      <td>-0.127456</td>\n",
              "      <td>-0.121062</td>\n",
              "      <td>0.344699</td>\n",
              "      <td>-0.055545</td>\n",
              "      <td>0.102520</td>\n",
              "      <td>0.249096</td>\n",
              "      <td>0.040162</td>\n",
              "      <td>-0.175825</td>\n",
              "      <td>0.107176</td>\n",
              "    </tr>\n",
              "    <tr>\n",
              "      <th>585</th>\n",
              "      <td>0.012840</td>\n",
              "      <td>0.758578</td>\n",
              "      <td>-0.205940</td>\n",
              "      <td>0.349578</td>\n",
              "      <td>-0.061085</td>\n",
              "      <td>-0.052710</td>\n",
              "      <td>0.243504</td>\n",
              "      <td>-0.235777</td>\n",
              "      <td>-0.454224</td>\n",
              "      <td>0.163742</td>\n",
              "      <td>0.515762</td>\n",
              "      <td>0.180970</td>\n",
              "      <td>0.138461</td>\n",
              "      <td>0.121333</td>\n",
              "      <td>0.198342</td>\n",
              "      <td>0.199944</td>\n",
              "      <td>0.073003</td>\n",
              "      <td>0.139730</td>\n",
              "      <td>0.093063</td>\n",
              "      <td>0.194648</td>\n",
              "    </tr>\n",
              "    <tr>\n",
              "      <th>586</th>\n",
              "      <td>-0.165722</td>\n",
              "      <td>-0.559592</td>\n",
              "      <td>0.209028</td>\n",
              "      <td>-0.056490</td>\n",
              "      <td>-0.160154</td>\n",
              "      <td>0.625406</td>\n",
              "      <td>0.352775</td>\n",
              "      <td>0.063443</td>\n",
              "      <td>0.005145</td>\n",
              "      <td>0.002743</td>\n",
              "      <td>0.138581</td>\n",
              "      <td>0.004063</td>\n",
              "      <td>0.097595</td>\n",
              "      <td>-0.032401</td>\n",
              "      <td>0.010780</td>\n",
              "      <td>-0.014301</td>\n",
              "      <td>0.123704</td>\n",
              "      <td>0.089906</td>\n",
              "      <td>-0.016581</td>\n",
              "      <td>0.045857</td>\n",
              "    </tr>\n",
              "    <tr>\n",
              "      <th>587</th>\n",
              "      <td>-0.696943</td>\n",
              "      <td>-0.300263</td>\n",
              "      <td>-0.671960</td>\n",
              "      <td>0.755937</td>\n",
              "      <td>0.444194</td>\n",
              "      <td>-0.324678</td>\n",
              "      <td>-0.115460</td>\n",
              "      <td>0.139828</td>\n",
              "      <td>-0.163779</td>\n",
              "      <td>0.351722</td>\n",
              "      <td>-0.380869</td>\n",
              "      <td>0.087282</td>\n",
              "      <td>-0.055369</td>\n",
              "      <td>0.260587</td>\n",
              "      <td>-0.129321</td>\n",
              "      <td>0.015889</td>\n",
              "      <td>-0.124039</td>\n",
              "      <td>-0.125556</td>\n",
              "      <td>0.158558</td>\n",
              "      <td>-0.132934</td>\n",
              "    </tr>\n",
              "    <tr>\n",
              "      <th>588</th>\n",
              "      <td>1.225444</td>\n",
              "      <td>0.241445</td>\n",
              "      <td>0.380419</td>\n",
              "      <td>-0.063260</td>\n",
              "      <td>0.080607</td>\n",
              "      <td>0.022091</td>\n",
              "      <td>-0.308019</td>\n",
              "      <td>-0.364623</td>\n",
              "      <td>0.216411</td>\n",
              "      <td>0.016240</td>\n",
              "      <td>-0.061190</td>\n",
              "      <td>-0.154580</td>\n",
              "      <td>0.032937</td>\n",
              "      <td>-0.044995</td>\n",
              "      <td>-0.103812</td>\n",
              "      <td>0.061992</td>\n",
              "      <td>-0.012058</td>\n",
              "      <td>-0.199212</td>\n",
              "      <td>0.213819</td>\n",
              "      <td>0.096321</td>\n",
              "    </tr>\n",
              "  </tbody>\n",
              "</table>\n",
              "<p>589 rows × 20 columns</p>\n",
              "</div>"
            ],
            "text/plain": [
              "          pc1       pc2       pc3       pc4       pc5       pc6       pc7  \\\n",
              "0   -0.017265  0.073234  0.235377  0.337749  0.135215 -0.086868 -0.060813   \n",
              "1   -0.853209  0.503111 -1.062490 -0.110684 -0.017320  0.085556  0.062170   \n",
              "2   -1.071746  0.398660  0.152160  0.352234  0.249046  0.002136 -0.384168   \n",
              "3    0.786546  0.958698  0.661863  0.389578 -0.022706  0.311263 -0.098285   \n",
              "4    1.448522  0.144797  0.347733  0.345239 -0.648342  0.134010 -0.141336   \n",
              "..        ...       ...       ...       ...       ...       ...       ...   \n",
              "584  1.060972  0.573800 -0.186293  0.144335 -0.444949 -0.027421  0.116629   \n",
              "585  0.012840  0.758578 -0.205940  0.349578 -0.061085 -0.052710  0.243504   \n",
              "586 -0.165722 -0.559592  0.209028 -0.056490 -0.160154  0.625406  0.352775   \n",
              "587 -0.696943 -0.300263 -0.671960  0.755937  0.444194 -0.324678 -0.115460   \n",
              "588  1.225444  0.241445  0.380419 -0.063260  0.080607  0.022091 -0.308019   \n",
              "\n",
              "          pc8       pc9      pc10      pc11      pc12      pc13      pc14  \\\n",
              "0   -0.358011 -0.122222 -0.031851  0.256419 -0.160611  0.237439  0.064150   \n",
              "1    0.226887 -0.757687  0.059402  0.349050  0.312957  0.249376 -0.063698   \n",
              "2   -0.111964 -0.299837 -0.075396  0.484868  0.071944 -0.273654 -0.246856   \n",
              "3   -0.233877  0.320179  0.524404  0.822117 -0.295958 -0.323898  0.455746   \n",
              "4    0.000797 -0.037194  0.003057  0.153738  0.172331 -0.060906 -0.041539   \n",
              "..        ...       ...       ...       ...       ...       ...       ...   \n",
              "584 -0.019835  0.116912  0.099532  0.034413 -0.127456 -0.121062  0.344699   \n",
              "585 -0.235777 -0.454224  0.163742  0.515762  0.180970  0.138461  0.121333   \n",
              "586  0.063443  0.005145  0.002743  0.138581  0.004063  0.097595 -0.032401   \n",
              "587  0.139828 -0.163779  0.351722 -0.380869  0.087282 -0.055369  0.260587   \n",
              "588 -0.364623  0.216411  0.016240 -0.061190 -0.154580  0.032937 -0.044995   \n",
              "\n",
              "         pc15      pc16      pc17      pc18      pc19      pc20  \n",
              "0    0.025688  0.091687  0.200422  0.069996 -0.080852 -0.047874  \n",
              "1    0.462835  0.026910 -0.001260  0.119013  0.080876 -0.026870  \n",
              "2    0.000131  0.183524  0.201369 -0.124491 -0.194539  0.165366  \n",
              "3   -0.257764 -0.283412 -0.334054  0.542190  0.077737  0.255383  \n",
              "4   -0.143826  0.001682 -0.315917  0.041007  0.236456  0.010674  \n",
              "..        ...       ...       ...       ...       ...       ...  \n",
              "584 -0.055545  0.102520  0.249096  0.040162 -0.175825  0.107176  \n",
              "585  0.198342  0.199944  0.073003  0.139730  0.093063  0.194648  \n",
              "586  0.010780 -0.014301  0.123704  0.089906 -0.016581  0.045857  \n",
              "587 -0.129321  0.015889 -0.124039 -0.125556  0.158558 -0.132934  \n",
              "588 -0.103812  0.061992 -0.012058 -0.199212  0.213819  0.096321  \n",
              "\n",
              "[589 rows x 20 columns]"
            ]
          },
          "execution_count": 19,
          "metadata": {},
          "output_type": "execute_result"
        }
      ],
      "source": [
        "principalDf"
      ]
    },
    {
      "cell_type": "markdown",
      "metadata": {
        "id": "eW0NKsyrp2_O"
      },
      "source": [
        "## KNN"
      ]
    },
    {
      "cell_type": "code",
      "execution_count": null,
      "metadata": {
        "id": "VO0eYXqAp2_O",
        "outputId": "ecde74a5-f474-43a2-92f8-4a5ded6dd6be"
      },
      "outputs": [
        {
          "name": "stdout",
          "output_type": "stream",
          "text": [
            "Fitting 10 folds for each of 3000 candidates, totalling 30000 fits\n"
          ]
        },
        {
          "data": {
            "text/plain": [
              "GridSearchCV(cv=10, estimator=KNeighborsClassifier(),\n",
              "             param_grid={'leaf_size': [1, 2, 3, 4, 5, 6, 7, 8, 9, 10, 11, 12,\n",
              "                                       13, 14, 15, 16, 17, 18, 19, 20, 21, 22,\n",
              "                                       23, 24, 25, 26, 27, 28, 29, 30, ...],\n",
              "                         'n_neighbors': [1, 2, 3, 4, 5, 6, 7, 8, 9, 10, 11, 12,\n",
              "                                         13, 14, 15, 16, 17, 18, 19, 20, 21, 22,\n",
              "                                         23, 24, 25, 26, 27, 28, 29, 30],\n",
              "                         'p': [1, 2]},\n",
              "             scoring='accuracy', verbose=1)"
            ]
          },
          "execution_count": 20,
          "metadata": {},
          "output_type": "execute_result"
        }
      ],
      "source": [
        "# defining parameter range\n",
        "k_range = list(range(1, 31))\n",
        "leaf_size = list(range(1, 51))\n",
        "p=[1,2]\n",
        "param_grid = dict(n_neighbors=k_range, leaf_size=leaf_size, p=p)\n",
        "grid_knn = GridSearchCV(KNeighborsClassifier(), param_grid, cv=10, scoring='accuracy', refit=True, return_train_score=False,verbose=1)\n",
        "grid_knn.fit(X_train_PC, y_train)"
      ]
    },
    {
      "cell_type": "code",
      "execution_count": null,
      "metadata": {
        "id": "tSNnsFj4p2_O",
        "outputId": "a0c1946c-6898-4d0b-fddc-b36f11bd4d51"
      },
      "outputs": [
        {
          "name": "stdout",
          "output_type": "stream",
          "text": [
            "{'leaf_size': 1, 'n_neighbors': 11, 'p': 2}\n",
            "KNeighborsClassifier(leaf_size=1, n_neighbors=11)\n",
            "0.6026008182349503\n"
          ]
        }
      ],
      "source": [
        "print(grid_knn.best_params_)\n",
        "print(grid_knn.best_estimator_)\n",
        "print(grid_knn.best_score_) # accuracy for train"
      ]
    },
    {
      "cell_type": "code",
      "execution_count": null,
      "metadata": {
        "id": "UANVI_sIp2_O"
      },
      "outputs": [],
      "source": [
        "y_test = le.transform(y_test)\n",
        "X_test_scaled = scaler.transform(X_test)\n",
        "X_test_PC = pca.transform(X_test_scaled)"
      ]
    },
    {
      "cell_type": "code",
      "execution_count": null,
      "metadata": {
        "id": "_JdMpAmXp2_P",
        "outputId": "12d3fe4b-9018-4ebd-b23b-2806b1db212e"
      },
      "outputs": [
        {
          "name": "stdout",
          "output_type": "stream",
          "text": [
            "              precision    recall  f1-score   support\n",
            "\n",
            "       blues       0.44      0.54      0.49        37\n",
            "   classical       0.95      0.97      0.96        36\n",
            "       disco       0.41      0.81      0.55        36\n",
            "  electronic       0.74      0.39      0.51        36\n",
            "      hiphop       0.79      0.41      0.54        37\n",
            "        jazz       0.90      0.70      0.79        37\n",
            "         pop       0.36      0.36      0.36        36\n",
            "        rock       0.72      0.72      0.72        36\n",
            "\n",
            "    accuracy                           0.61       291\n",
            "   macro avg       0.66      0.61      0.61       291\n",
            "weighted avg       0.66      0.61      0.61       291\n",
            "\n"
          ]
        }
      ],
      "source": [
        "test_preds_knn = grid_knn.predict(X_test_PC)\n",
        "print(classification_report(le.inverse_transform(y_test), le.inverse_transform(test_preds_knn)))"
      ]
    },
    {
      "cell_type": "code",
      "execution_count": null,
      "metadata": {
        "id": "mPd9LHeep2_P"
      },
      "outputs": [],
      "source": [
        "class_names = le.classes_\n",
        "cnf_matrix = confusion_matrix(y_test, test_preds_knn)"
      ]
    },
    {
      "cell_type": "code",
      "execution_count": null,
      "metadata": {
        "id": "RDwVWbpJp2_P",
        "outputId": "dd9e2eb9-2819-4b8e-939d-240c1a6482fa"
      },
      "outputs": [
        {
          "data": {
            "text/plain": [
              "<sklearn.metrics._plot.confusion_matrix.ConfusionMatrixDisplay at 0x7ff1c210f0a0>"
            ]
          },
          "execution_count": 25,
          "metadata": {},
          "output_type": "execute_result"
        },
        {
          "data": {
            "image/png": "[encoded data removed]",
            "text/plain": [
              "<Figure size 432x288 with 2 Axes>"
            ]
          },
          "metadata": {},
          "output_type": "display_data"
        }
      ],
      "source": [
        "plot_confusion_matrix(grid_knn, X_test_PC, y_test, xticks_rotation=45,\n",
        "                                 display_labels=class_names,\n",
        "                                 cmap=plt.cm.Purples)"
      ]
    },
    {
      "cell_type": "code",
      "execution_count": null,
      "metadata": {
        "id": "2lm2VOkqp2_P",
        "outputId": "805fc3af-e7ea-4825-dc9e-1f163607de23"
      },
      "outputs": [
        {
          "data": {
            "text/plain": [
              "0.6116838487972509"
            ]
          },
          "execution_count": 26,
          "metadata": {},
          "output_type": "execute_result"
        }
      ],
      "source": [
        "accuracy_score(y_test, test_preds_knn) # for KNN"
      ]
    },
    {
      "cell_type": "markdown",
      "metadata": {
        "id": "p0kU6-ZOp2_P"
      },
      "source": [
        "## SVM"
      ]
    },
    {
      "cell_type": "code",
      "execution_count": null,
      "metadata": {
        "id": "AMbD3HeWp2_P",
        "outputId": "e3fb947d-f12e-48c7-ba7e-f41904a006e5"
      },
      "outputs": [
        {
          "name": "stdout",
          "output_type": "stream",
          "text": [
            "Fitting 10 folds for each of 100 candidates, totalling 1000 fits\n"
          ]
        },
        {
          "data": {
            "text/plain": [
              "GridSearchCV(cv=10, estimator=SVC(),\n",
              "             param_grid={'C': [0.1, 1, 10, 100, 1000],\n",
              "                         'gamma': [1, 0.1, 0.01, 0.001, 0.0001],\n",
              "                         'kernel': ['rbf', 'poly', 'sigmoid', 'linear']},\n",
              "             scoring='accuracy', verbose=1)"
            ]
          },
          "execution_count": 27,
          "metadata": {},
          "output_type": "execute_result"
        }
      ],
      "source": [
        "# defining parameter range\n",
        "param_grid = {'C': [0.1, 1, 10, 100, 1000], \n",
        "              'gamma': [1, 0.1, 0.01, 0.001, 0.0001],\n",
        "              'kernel': ['rbf', 'poly', 'sigmoid', 'linear']}\n",
        "grid_svm = GridSearchCV(SVC(), param_grid, scoring='accuracy', cv=10, refit = True, verbose = 1)\n",
        "grid_svm.fit(X_train_PC, y_train)"
      ]
    },
    {
      "cell_type": "code",
      "execution_count": null,
      "metadata": {
        "id": "48EaJSYyp2_P",
        "outputId": "12feaf0f-1002-4905-fbc4-703aa9494209"
      },
      "outputs": [
        {
          "name": "stdout",
          "output_type": "stream",
          "text": [
            "{'C': 10, 'gamma': 0.1, 'kernel': 'rbf'}\n",
            "SVC(C=10, gamma=0.1)\n",
            "0.6655756867329048\n"
          ]
        }
      ],
      "source": [
        "print(grid_svm.best_params_)\n",
        "print(grid_svm.best_estimator_)\n",
        "print(grid_svm.best_score_)"
      ]
    },
    {
      "cell_type": "code",
      "execution_count": null,
      "metadata": {
        "id": "gr7MPzOJp2_P",
        "outputId": "480efd19-a287-4994-d041-4096de3e88e3"
      },
      "outputs": [
        {
          "name": "stdout",
          "output_type": "stream",
          "text": [
            "              precision    recall  f1-score   support\n",
            "\n",
            "       blues       0.50      0.54      0.52        37\n",
            "   classical       0.97      1.00      0.99        36\n",
            "       disco       0.65      0.83      0.73        36\n",
            "  electronic       0.53      0.50      0.51        36\n",
            "      hiphop       0.73      0.59      0.66        37\n",
            "        jazz       0.90      0.76      0.82        37\n",
            "         pop       0.47      0.42      0.44        36\n",
            "        rock       0.71      0.81      0.75        36\n",
            "\n",
            "    accuracy                           0.68       291\n",
            "   macro avg       0.68      0.68      0.68       291\n",
            "weighted avg       0.68      0.68      0.68       291\n",
            "\n"
          ]
        }
      ],
      "source": [
        "test_preds_svm = grid_svm.predict(X_test_PC)\n",
        "print(classification_report(le.inverse_transform(y_test), le.inverse_transform(test_preds_svm)))"
      ]
    },
    {
      "cell_type": "code",
      "execution_count": null,
      "metadata": {
        "id": "yJgHbtJfp2_P",
        "outputId": "5cf0fd44-8f32-4a4f-932f-52940cd02f2d"
      },
      "outputs": [
        {
          "data": {
            "text/plain": [
              "<sklearn.metrics._plot.confusion_matrix.ConfusionMatrixDisplay at 0x7ff200599730>"
            ]
          },
          "execution_count": 30,
          "metadata": {},
          "output_type": "execute_result"
        },
        {
          "data": {
            "image/png": "[encoded data removed]",
            "text/plain": [
              "<Figure size 432x288 with 2 Axes>"
            ]
          },
          "metadata": {},
          "output_type": "display_data"
        }
      ],
      "source": [
        "class_names = le.classes_\n",
        "cnf_matrix = confusion_matrix(y_test, test_preds_svm)\n",
        "plot_confusion_matrix(grid_svm, X_test_PC, y_test, xticks_rotation=45,\n",
        "                                 display_labels=class_names,\n",
        "                                 cmap=plt.cm.Purples)"
      ]
    },
    {
      "cell_type": "code",
      "execution_count": null,
      "metadata": {
        "id": "O8FH-eoxp2_Q",
        "outputId": "f21186ba-3cff-4621-e416-13e6803d8213"
      },
      "outputs": [
        {
          "data": {
            "text/plain": [
              "0.6804123711340206"
            ]
          },
          "execution_count": 31,
          "metadata": {},
          "output_type": "execute_result"
        }
      ],
      "source": [
        "accuracy_score(y_test, test_preds_svm) # for SVM"
      ]
    },
    {
      "cell_type": "markdown",
      "metadata": {
        "id": "XPdp3JjRp2_Q"
      },
      "source": [
        "## Setting up pipelines to find better params"
      ]
    },
    {
      "cell_type": "code",
      "execution_count": 13,
      "metadata": {
        "id": "KnWnWf7cp2_g"
      },
      "outputs": [],
      "source": [
        "knn = KNeighborsClassifier()"
      ]
    },
    {
      "cell_type": "code",
      "execution_count": 14,
      "metadata": {
        "id": "etFte3wPp2_g"
      },
      "outputs": [],
      "source": [
        "scaler = MinMaxScaler()"
      ]
    },
    {
      "cell_type": "code",
      "execution_count": 15,
      "metadata": {
        "id": "v3eouEoxp2_g"
      },
      "outputs": [],
      "source": [
        "pca = PCA()"
      ]
    },
    {
      "cell_type": "code",
      "execution_count": 16,
      "metadata": {
        "id": "7pbRpKZ9p2_g"
      },
      "outputs": [],
      "source": [
        "pipeKNN = Pipeline(steps=[(\"scaler\", scaler), (\"pca\", pca), (\"knn\", knn)])\n",
        "\n",
        "param_grid_knn = {\n",
        "    \"pca__n_components\": [20, 25, 30],\n",
        "    \"knn__n_neighbors\": list(range(10, 21)),\n",
        "    \"knn__leaf_size\": list(range(10, 31)),\n",
        "    \"knn__p\": [1, 2],\n",
        "}"
      ]
    },
    {
      "cell_type": "code",
      "execution_count": 17,
      "metadata": {
        "colab": {
          "base_uri": "https://localhost:8080/"
        },
        "id": "wbwYqvNJp2_g",
        "outputId": "032adc52-c1ad-4817-9ef6-998aab926170"
      },
      "outputs": [
        {
          "name": "stdout",
          "output_type": "stream",
          "text": [
            "Fitting 10 folds for each of 1386 candidates, totalling 13860 fits\n",
            "Best parameter (CV score=0.632):\n",
            "{'knn__leaf_size': 28, 'knn__n_neighbors': 20, 'knn__p': 2, 'pca__n_components': 25}\n",
            "0.6318181818181818\n"
          ]
        }
      ],
      "source": [
        "search_knn = GridSearchCV(pipeKNN, param_grid_knn, cv=10, scoring='accuracy', verbose=1, return_train_score=True)\n",
        "search_knn.fit(X, y)\n",
        "print(\"Best parameter (CV score=%0.3f):\" % search_knn.best_score_)\n",
        "print(search_knn.best_params_)\n",
        "print(search_knn.best_score_)"
      ]
    },
    {
      "cell_type": "code",
      "execution_count": 43,
      "metadata": {
        "colab": {
          "base_uri": "https://localhost:8080/",
          "height": 327
        },
        "id": "XY4eLf2-ZXAd",
        "outputId": "62d69a6b-f24d-45c8-d44a-cd3208a5cb05"
      },
      "outputs": [
        {
          "data": {
            "image/png": "[encoded data removed]",
            "text/plain": [
              "<Figure size 2400x500 with 3 Axes>"
            ]
          },
          "metadata": {},
          "output_type": "display_data"
        }
      ],
      "source": [
        "param_grid_knn = {\n",
        "    \"knn__n_neighbors\": list(range(10, 21)),\n",
        "    \"knn__leaf_size\": list(range(10, 31)),\n",
        "    \"knn__p\": [1, 2],\n",
        "}\n",
        "df = pd.DataFrame(search_knn.cv_results_)\n",
        "results = ['mean_test_score',\n",
        "           'mean_train_score',\n",
        "           'std_test_score', \n",
        "           'std_train_score']\n",
        "\n",
        "# https://en.wikipedia.org/wiki/Pooled_variance#Pooled_standard_deviation\n",
        "def pooled_var(stds):\n",
        "    n = 10\n",
        "    return np.sqrt(sum((n-1)*(stds**2))/ len(stds)*(n-1))\n",
        "\n",
        "\n",
        "fig, axes = plt.subplots(1, len(param_grid_knn), \n",
        "                         figsize = (8*len(param_grid_knn), 5),\n",
        "                         sharey='row')\n",
        "axes[0].set_ylabel(\"Score\", fontsize=15)\n",
        "lw = 2\n",
        "\n",
        "for idx, (param_name, param_range) in enumerate(param_grid_knn.items()):\n",
        "    grouped_df = df.groupby(f'param_{param_name}')[results]\\\n",
        "        .agg({'mean_train_score': 'mean',\n",
        "              'mean_test_score': 'mean',\n",
        "              'std_train_score': pooled_var,\n",
        "              'std_test_score': pooled_var})\n",
        "\n",
        "    previous_group = df.groupby(f'param_{param_name}')[results]\n",
        "    axes[idx].set_xlabel(param_name, fontsize=15)\n",
        "    axes[idx].set_ylim(0.4, 0.9)\n",
        "    axes[idx].plot(param_range, \n",
        "                grouped_df['mean_train_score'],\n",
        "                label=\"Training score\",\n",
        "                color=\"darkorange\",\n",
        "                lw=lw)\n",
        "    # axes[idx].fill_between(param_range,\n",
        "    #             grouped_df['mean_train_score'] - grouped_df['std_train_score'],\n",
        "    #             grouped_df['mean_train_score'] + grouped_df['std_train_score'],\n",
        "    #             alpha=0.2,\n",
        "    #             color=\"darkorange\",\n",
        "    #             lw=lw)\n",
        "    axes[idx].plot(param_range,\n",
        "                grouped_df['mean_test_score'],\n",
        "                label=\"Cross-validation score\",\n",
        "                color=\"navy\",\n",
        "                lw=lw)\n",
        "    # axes[idx].fill_between(param_range,\n",
        "    #                 grouped_df['mean_test_score'] - grouped_df['std_test_score'],\n",
        "    #                 grouped_df['mean_test_score'] + grouped_df['std_test_score'],\n",
        "    #                 alpha=0.2,\n",
        "    #                 color=\"navy\",\n",
        "    #                 lw=lw)\n",
        "\n",
        "handles, labels = axes[0].get_legend_handles_labels()\n",
        "fig.legend(handles, labels, loc=8, ncol=2, fontsize=15)\n",
        "\n",
        "fig.subplots_adjust(bottom=0.2)  \n",
        "plt.show()"
      ]
    },
    {
      "cell_type": "code",
      "execution_count": null,
      "metadata": {
        "id": "6a8aCncAp2_g",
        "outputId": "bd10a9b3-649f-4451-b53a-eb12ee85c0c2"
      },
      "outputs": [
        {
          "name": "stdout",
          "output_type": "stream",
          "text": [
            "Testing accuracy: 0.6185567010309279\n"
          ]
        }
      ],
      "source": [
        "y_preds_pipeknn = search_knn.predict(X_test)\n",
        "print(\"Testing accuracy:\", accuracy_score(y_test, y_preds_pipeknn))"
      ]
    },
    {
      "cell_type": "code",
      "execution_count": 19,
      "metadata": {
        "id": "uqYVUyM4p2_g"
      },
      "outputs": [],
      "source": [
        "svm = SVC()"
      ]
    },
    {
      "cell_type": "code",
      "execution_count": 30,
      "metadata": {
        "colab": {
          "base_uri": "https://localhost:8080/"
        },
        "id": "fQ12zqsbp2_g",
        "outputId": "d7aa4219-13ae-46a1-fbb6-16ee3ea57864"
      },
      "outputs": [
        {
          "name": "stdout",
          "output_type": "stream",
          "text": [
            "Fitting 10 folds for each of 320 candidates, totalling 3200 fits\n",
            "Best parameter (CV score=0.743):\n",
            "{'pca__n_components': 40, 'svm__C': 10, 'svm__gamma': 0.1, 'svm__kernel': 'rbf'}\n",
            "0.7431818181818182\n"
          ]
        }
      ],
      "source": [
        "pipeSVM = Pipeline(steps=[(\"scaler\", scaler), (\"pca\", pca), (\"svm\", svm)])\n",
        "\n",
        "param_grid_svm = {\n",
        "    \"pca__n_components\": [30, 35, 40, 45, 50],\n",
        "    \"svm__C\": [0.1, 1, 10, 100], \n",
        "    \"svm__gamma\": [1, 0.1, 0.01, 0.001],\n",
        "    \"svm__kernel\": ['rbf', 'poly', 'sigmoid', 'linear']\n",
        "}\n",
        "\n",
        "search_svm = GridSearchCV(pipeSVM, param_grid_svm, cv=10, scoring='accuracy', verbose=1, return_train_score=True)\n",
        "search_svm.fit(X, y)\n",
        "print(\"Best parameter (CV score=%0.3f):\" % search_svm.best_score_)\n",
        "print(search_svm.best_params_)\n",
        "print(search_svm.best_score_)"
      ]
    },
    {
      "cell_type": "code",
      "execution_count": null,
      "metadata": {
        "id": "9_pka4rtp2_h"
      },
      "outputs": [],
      "source": [
        "svm_preds_pipe = search_svm.predict(X_test)"
      ]
    },
    {
      "cell_type": "code",
      "execution_count": null,
      "metadata": {
        "colab": {
          "base_uri": "https://localhost:8080/"
        },
        "id": "YuGGsgFpp2_h",
        "outputId": "279cbb5d-b929-437a-a761-6df71731ab4b"
      },
      "outputs": [
        {
          "name": "stdout",
          "output_type": "stream",
          "text": [
            "0.8865979381443299\n"
          ]
        }
      ],
      "source": [
        "print(accuracy_score(y_test, svm_preds_pipe))"
      ]
    },
    {
      "cell_type": "code",
      "execution_count": 45,
      "metadata": {
        "colab": {
          "base_uri": "https://localhost:8080/",
          "height": 327
        },
        "id": "yBmWRBKbp2_h",
        "outputId": "f31c9807-b858-45cd-ae1c-18faee92a564"
      },
      "outputs": [
        {
          "data": {
            "image/png": "[encoded data removed]",
            "text/plain": [
              "<Figure size 2400x500 with 3 Axes>"
            ]
          },
          "metadata": {},
          "output_type": "display_data"
        }
      ],
      "source": [
        "param_grid_svm = {\n",
        "    \"svm__C\": [0.1, 1, 10, 100], \n",
        "    \"svm__gamma\": [1, 0.1, 0.01, 0.001],\n",
        "    \"svm__kernel\": ['rbf', 'poly', 'sigmoid', 'linear']\n",
        "}\n",
        "\n",
        "df = pd.DataFrame(search_svm.cv_results_)\n",
        "results = ['mean_test_score',\n",
        "           'mean_train_score',\n",
        "           'std_test_score', \n",
        "           'std_train_score']\n",
        "\n",
        "# https://en.wikipedia.org/wiki/Pooled_variance#Pooled_standard_deviation\n",
        "def pooled_var(stds):\n",
        "    n = 10\n",
        "    return np.sqrt(sum((n-1)*(stds**2))/ len(stds)*(n-1))\n",
        "\n",
        "\n",
        "fig, axes = plt.subplots(1, 3, \n",
        "                         figsize = (8*3, 5),\n",
        "                         sharey='row')\n",
        "axes[0].set_ylabel(\"Score\", fontsize=15)\n",
        "lw = 2\n",
        "\n",
        "\n",
        "\n",
        "for idx, (param_name, param_range) in enumerate(param_grid_svm.items()):\n",
        "    grouped_df = df.groupby(f'param_{param_name}')[results]\\\n",
        "        .agg({'mean_train_score': 'mean',\n",
        "              'mean_test_score': 'mean',\n",
        "              'std_train_score': pooled_var,\n",
        "              'std_test_score': pooled_var})\n",
        "\n",
        "    previous_group = df.groupby(f'param_{param_name}')[results]\n",
        "    axes[idx].set_xlabel(param_name, fontsize=15)\n",
        "    axes[idx].set_ylim(0.3, 1.0)\n",
        "    axes[idx].plot(param_range, \n",
        "                grouped_df['mean_train_score'],\n",
        "                label=\"Training score\",\n",
        "                color=\"darkorange\",\n",
        "                lw=lw)\n",
        "    # axes[idx].fill_between(param_range,\n",
        "    #             grouped_df['mean_train_score'] - grouped_df['std_train_score'],\n",
        "    #             grouped_df['mean_train_score'] + grouped_df['std_train_score'],\n",
        "    #             alpha=0.2,\n",
        "    #             color=\"darkorange\",\n",
        "    #             lw=lw)\n",
        "    axes[idx].plot(param_range,\n",
        "                grouped_df['mean_test_score'],\n",
        "                label=\"Cross-validation score\",\n",
        "                color=\"navy\",\n",
        "                lw=lw)\n",
        "    # axes[idx].fill_between(param_range,\n",
        "    #                 grouped_df['mean_test_score'] - grouped_df['std_test_score'],\n",
        "    #                 grouped_df['mean_test_score'] + grouped_df['std_test_score'],\n",
        "    #                 alpha=0.2,\n",
        "    #                 color=\"navy\",\n",
        "    #                 lw=lw)\n",
        "\n",
        "handles, labels = axes[1].get_legend_handles_labels()\n",
        "fig.legend(handles, labels, loc=8, ncol=2, fontsize=15)\n",
        "\n",
        "fig.subplots_adjust(bottom=0.2)  \n",
        "plt.show()"
      ]
    }
  ],
  "metadata": {
    "colab": {
      "provenance": []
    },
    "kernelspec": {
      "display_name": "Python 3",
      "language": "python",
      "name": "python3"
    },
    "language_info": {
      "codemirror_mode": {
        "name": "ipython",
        "version": 3
      },
      "file_extension": ".py",
      "mimetype": "text/x-python",
      "name": "python",
      "nbconvert_exporter": "python",
      "pygments_lexer": "ipython3",
      "version": "3.9.1"
    }
  },
  "nbformat": 4,
  "nbformat_minor": 0
}
