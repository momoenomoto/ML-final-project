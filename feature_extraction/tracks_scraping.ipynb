{
 "cells": [
  {
   "cell_type": "code",
   "execution_count": 18,
   "metadata": {},
   "outputs": [],
   "source": [
    "from __future__ import print_function\n",
    "import spotipy\n",
    "from spotipy.oauth2 import SpotifyClientCredentials\n",
    "import json\n",
    "import csv\n",
    "import os"
   ]
  },
  {
   "cell_type": "code",
   "execution_count": 2,
   "metadata": {},
   "outputs": [],
   "source": [
    "# load and use credentials\n",
    "with open(\"client_credentials.json\", \"r\") as f:\n",
    "    credentials = json.load(f)\n",
    "spotify = spotipy.Spotify(client_credentials_manager=SpotifyClientCredentials(client_id=credentials[\"client_id\"], client_secret=credentials[\"client_secret\"]))"
   ]
  },
  {
   "cell_type": "code",
   "execution_count": 3,
   "metadata": {},
   "outputs": [],
   "source": [
    "# read playlist ids\n",
    "with open(\"playlist_ids.json\", \"r\") as f:\n",
    "    playlist_ids = json.load(f)"
   ]
  },
  {
   "cell_type": "code",
   "execution_count": 21,
   "metadata": {},
   "outputs": [],
   "source": [
    "multiclass_labels = {'rock': 1, 'pop': 2, 'hiphop': 3, 'blues': 4, 'electronic': 5, 'jazz': 6, 'classical': 7, 'disco': 8, 'folk': 9, 'alternative': 10}\n",
    "fieldnames = ['id','track_name', 'artist_name', 'preview_url', 'danceability','energy','key','loudness','mode','speechiness','acousticness','instrumentalness','liveness','valence','tempo','duration_ms','time_signature']\n",
    "\n",
    "file_exists = os.path.isfile('data.csv')\n",
    "\n",
    "for genre, playlist_id in playlist_ids.items():\n",
    "    items = spotify.playlist_tracks(playlist_id, fields='items.track.id, items.track.name, items.track.artists, items.track.preview_url, total', limit=50, offset=0)['items']\n",
    "    track_ids = [item['track']['id'] for item in items if item['track'] is not None]\n",
    "    meta_data = [{'id': item['track']['id'], 'track_name': item['track']['name'], 'artist_name': item['track']['artists'][int(0)]['name'], 'preview_url': item['track']['preview_url']} for item in items if item['track'] is not None]    \n",
    "    features = spotify.audio_features(track_ids)\n",
    "\n",
    "    with open('data.csv', 'a') as f:\n",
    "        writer = csv.DictWriter(f, fieldnames=fieldnames + ['multiclass_label'])\n",
    "        if not file_exists:\n",
    "            writer.writeheader()  # file doesn't exist yet, write a header\n",
    "\n",
    "        for meta_data, features in zip(meta_data, features):\n",
    "            meta_data.update(features)\n",
    "            track = {field: meta_data[field] for field in fieldnames}\n",
    "            track['multiclass_label'] = multiclass_labels[genre]\n",
    "            writer.writerow(track)\n",
    "\n"
   ]
  },
  {
   "cell_type": "code",
   "execution_count": null,
   "metadata": {},
   "outputs": [],
   "source": []
  }
 ],
 "metadata": {
  "kernelspec": {
   "display_name": "Python 3",
   "language": "python",
   "name": "python3"
  },
  "language_info": {
   "codemirror_mode": {
    "name": "ipython",
    "version": 3
   },
   "file_extension": ".py",
   "mimetype": "text/x-python",
   "name": "python",
   "nbconvert_exporter": "python",
   "pygments_lexer": "ipython3",
   "version": "3.9.1"
  },
  "orig_nbformat": 4
 },
 "nbformat": 4,
 "nbformat_minor": 2
}
