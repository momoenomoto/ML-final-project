{
 "cells": [
  {
   "cell_type": "code",
   "execution_count": 1,
   "metadata": {},
   "outputs": [],
   "source": [
    "from __future__ import print_function\n",
    "import spotipy\n",
    "from spotipy.oauth2 import SpotifyClientCredentials\n",
    "import json\n",
    "import csv\n",
    "import os\n",
    "import pandas as pd"
   ]
  },
  {
   "cell_type": "code",
   "execution_count": 17,
   "metadata": {},
   "outputs": [],
   "source": [
    "# load and use credentials\n",
    "with open(\"client_credentials.json\", \"r\") as f:\n",
    "    credentials = json.load(f)\n",
    "spotify = spotipy.Spotify(client_credentials_manager=SpotifyClientCredentials(client_id=credentials[\"client_id\"], client_secret=credentials[\"client_secret\"]))"
   ]
  },
  {
   "cell_type": "code",
   "execution_count": 25,
   "metadata": {},
   "outputs": [],
   "source": [
    "# read playlist ids\n",
    "with open(\"playlist_ids.json\", \"r\") as f:\n",
    "    playlist_ids = json.load(f)"
   ]
  },
  {
   "cell_type": "code",
   "execution_count": 26,
   "metadata": {},
   "outputs": [],
   "source": [
    "import glob\n",
    "\n",
    "files = glob.glob('../csv_files/*')\n",
    "for f in files:\n",
    "    os.remove(f)"
   ]
  },
  {
   "cell_type": "code",
   "execution_count": 27,
   "metadata": {},
   "outputs": [],
   "source": [
    "multiclass_labels = {'rock': 1, 'pop': 2, 'hiphop': 3, 'blues': 4, 'electronic': 5, 'jazz': 6, 'classical': 7, 'disco': 8, 'folk': 9, 'alternative': 10}\n",
    "fieldnames = ['id','track_name', 'artist_name', 'preview_url', 'danceability','energy','key','loudness','mode','speechiness','acousticness','instrumentalness','liveness','valence','tempo','duration_ms','time_signature']\n",
    "\n",
    "for genre, playlist_id_list in playlist_ids.items():\n",
    "    data_for_genre = []\n",
    "    for playlist_id in playlist_id_list:\n",
    "        items = spotify.playlist_tracks(playlist_id, fields='items.track.id, items.track.name, items.track.artists, items.track.preview_url, total')['items']\n",
    "        meta_data = [{'id': item['track']['id'], 'track_name': item['track']['name'], 'artist_name': item['track']['artists'][int(0)]['name'], 'preview_url': item['track']['preview_url']} for item in items if item['track'] is not None and item['track']['preview_url'] is not None]    \n",
    "        track_ids = [track['id'] for track in meta_data]\n",
    "        features = spotify.audio_features(track_ids)\n",
    "        for meta_data_i, features_i in zip(meta_data, features):\n",
    "            meta_data_i.update(features_i)\n",
    "        \n",
    "        data_for_genre.extend(meta_data)\n",
    "\n",
    "    file_exists = os.path.isfile(f'../csv_files/{genre}.csv')\n",
    "    \n",
    "    with open(f'../csv_files/{genre}.csv', 'w') as f:\n",
    "        writer = csv.DictWriter(f, fieldnames=fieldnames + ['multiclass_label'])\n",
    "        if not file_exists:\n",
    "            writer.writeheader()  # file doesn't exist yet, write a header\n",
    "\n",
    "        for data in data_for_genre:\n",
    "            track = {field: data[field] for field in fieldnames}\n",
    "            track['multiclass_label'] = multiclass_labels[genre]\n",
    "            writer.writerow(track)\n",
    "\n",
    "    df = pd.read_csv(f'../csv_files/{genre}.csv')\n",
    "    new_df = df.drop_duplicates(subset=['id'])\n",
    "    new_df.to_csv(f'../csv_files/{genre}.csv', index=False)\n",
    "\n"
   ]
  },
  {
   "cell_type": "code",
   "execution_count": null,
   "metadata": {},
   "outputs": [],
   "source": []
  }
 ],
 "metadata": {
  "kernelspec": {
   "display_name": "Python 3",
   "language": "python",
   "name": "python3"
  },
  "language_info": {
   "codemirror_mode": {
    "name": "ipython",
    "version": 3
   },
   "file_extension": ".py",
   "mimetype": "text/x-python",
   "name": "python",
   "nbconvert_exporter": "python",
   "pygments_lexer": "ipython3",
   "version": "3.9.1"
  },
  "orig_nbformat": 4
 },
 "nbformat": 4,
 "nbformat_minor": 2
}
